{
 "cells": [
  {
   "cell_type": "markdown",
   "metadata": {},
   "source": [
    "# Online Video Task"
   ]
  },
  {
   "cell_type": "markdown",
   "metadata": {},
   "source": [
    "The main task is to rank the videos in the page in a way that maximises the probability of them being viewd by more people."
   ]
  },
  {
   "cell_type": "markdown",
   "metadata": {},
   "source": [
    "### Exploratory Data Analysis (EDA)"
   ]
  },
  {
   "cell_type": "markdown",
   "metadata": {},
   "source": [
    "In order to understand the data, it is common to begin with descriptive statistics analysis before the pre-processing section and model building"
   ]
  },
  {
   "cell_type": "code",
   "execution_count": 232,
   "metadata": {
    "collapsed": true
   },
   "outputs": [],
   "source": [
    "import pandas as pd\n",
    "import numpy as np\n",
    "import matplotlib.pyplot as plt\n",
    "import seaborn as sns\n",
    "import sklearn\n",
    "%matplotlib inline\n",
    "plt.rcParams.update({'font.size': 20, 'figure.figsize':(8, 8)})"
   ]
  },
  {
   "cell_type": "code",
   "execution_count": 233,
   "metadata": {
    "collapsed": true
   },
   "outputs": [],
   "source": [
    "views = pd.read_csv('video_count.csv')"
   ]
  },
  {
   "cell_type": "code",
   "execution_count": 234,
   "metadata": {
    "collapsed": true
   },
   "outputs": [],
   "source": [
    "details = pd.read_csv('video_features.csv')"
   ]
  },
  {
   "cell_type": "code",
   "execution_count": 235,
   "metadata": {
    "collapsed": false
   },
   "outputs": [
    {
     "data": {
      "text/html": [
       "<div>\n",
       "<style scoped>\n",
       "    .dataframe tbody tr th:only-of-type {\n",
       "        vertical-align: middle;\n",
       "    }\n",
       "\n",
       "    .dataframe tbody tr th {\n",
       "        vertical-align: top;\n",
       "    }\n",
       "\n",
       "    .dataframe thead th {\n",
       "        text-align: right;\n",
       "    }\n",
       "</style>\n",
       "<table border=\"1\" class=\"dataframe\">\n",
       "  <thead>\n",
       "    <tr style=\"text-align: right;\">\n",
       "      <th></th>\n",
       "      <th>video_id</th>\n",
       "      <th>date</th>\n",
       "      <th>count</th>\n",
       "    </tr>\n",
       "  </thead>\n",
       "  <tbody>\n",
       "    <tr>\n",
       "      <th>0</th>\n",
       "      <td>56</td>\n",
       "      <td>2017-12-23</td>\n",
       "      <td>33</td>\n",
       "    </tr>\n",
       "    <tr>\n",
       "      <th>1</th>\n",
       "      <td>96</td>\n",
       "      <td>2017-12-15</td>\n",
       "      <td>58</td>\n",
       "    </tr>\n",
       "    <tr>\n",
       "      <th>2</th>\n",
       "      <td>100</td>\n",
       "      <td>2017-12-04</td>\n",
       "      <td>114</td>\n",
       "    </tr>\n",
       "    <tr>\n",
       "      <th>3</th>\n",
       "      <td>32</td>\n",
       "      <td>2017-12-25</td>\n",
       "      <td>18</td>\n",
       "    </tr>\n",
       "    <tr>\n",
       "      <th>4</th>\n",
       "      <td>79</td>\n",
       "      <td>2017-10-17</td>\n",
       "      <td>46</td>\n",
       "    </tr>\n",
       "  </tbody>\n",
       "</table>\n",
       "</div>"
      ],
      "text/plain": [
       "   video_id        date  count\n",
       "0        56  2017-12-23     33\n",
       "1        96  2017-12-15     58\n",
       "2       100  2017-12-04    114\n",
       "3        32  2017-12-25     18\n",
       "4        79  2017-10-17     46"
      ]
     },
     "execution_count": 235,
     "metadata": {},
     "output_type": "execute_result"
    }
   ],
   "source": [
    "views.head()"
   ]
  },
  {
   "cell_type": "code",
   "execution_count": 236,
   "metadata": {
    "collapsed": false
   },
   "outputs": [
    {
     "data": {
      "text/html": [
       "<div>\n",
       "<style scoped>\n",
       "    .dataframe tbody tr th:only-of-type {\n",
       "        vertical-align: middle;\n",
       "    }\n",
       "\n",
       "    .dataframe tbody tr th {\n",
       "        vertical-align: top;\n",
       "    }\n",
       "\n",
       "    .dataframe thead th {\n",
       "        text-align: right;\n",
       "    }\n",
       "</style>\n",
       "<table border=\"1\" class=\"dataframe\">\n",
       "  <thead>\n",
       "    <tr style=\"text-align: right;\">\n",
       "      <th></th>\n",
       "      <th>video_id</th>\n",
       "      <th>video_length</th>\n",
       "      <th>video_language</th>\n",
       "      <th>video_upload_date</th>\n",
       "      <th>video_quality</th>\n",
       "    </tr>\n",
       "  </thead>\n",
       "  <tbody>\n",
       "    <tr>\n",
       "      <th>0</th>\n",
       "      <td>1</td>\n",
       "      <td>16</td>\n",
       "      <td>chineese</td>\n",
       "      <td>2017-09-11</td>\n",
       "      <td>480p</td>\n",
       "    </tr>\n",
       "    <tr>\n",
       "      <th>1</th>\n",
       "      <td>2</td>\n",
       "      <td>27</td>\n",
       "      <td>spanish</td>\n",
       "      <td>2017-10-03</td>\n",
       "      <td>480p</td>\n",
       "    </tr>\n",
       "    <tr>\n",
       "      <th>2</th>\n",
       "      <td>3</td>\n",
       "      <td>30</td>\n",
       "      <td>spanish</td>\n",
       "      <td>2017-10-06</td>\n",
       "      <td>240p</td>\n",
       "    </tr>\n",
       "    <tr>\n",
       "      <th>3</th>\n",
       "      <td>4</td>\n",
       "      <td>15</td>\n",
       "      <td>spanish</td>\n",
       "      <td>2017-10-12</td>\n",
       "      <td>720p</td>\n",
       "    </tr>\n",
       "    <tr>\n",
       "      <th>4</th>\n",
       "      <td>5</td>\n",
       "      <td>19</td>\n",
       "      <td>chineese</td>\n",
       "      <td>2017-09-14</td>\n",
       "      <td>720p</td>\n",
       "    </tr>\n",
       "  </tbody>\n",
       "</table>\n",
       "</div>"
      ],
      "text/plain": [
       "   video_id  video_length video_language video_upload_date video_quality\n",
       "0         1            16       chineese        2017-09-11          480p\n",
       "1         2            27        spanish        2017-10-03          480p\n",
       "2         3            30        spanish        2017-10-06          240p\n",
       "3         4            15        spanish        2017-10-12          720p\n",
       "4         5            19       chineese        2017-09-14          720p"
      ]
     },
     "execution_count": 236,
     "metadata": {},
     "output_type": "execute_result"
    }
   ],
   "source": [
    "details.head()"
   ]
  },
  {
   "cell_type": "code",
   "execution_count": 237,
   "metadata": {
    "collapsed": false
   },
   "outputs": [
    {
     "data": {
      "text/plain": [
       "(11903, 3)"
      ]
     },
     "execution_count": 237,
     "metadata": {},
     "output_type": "execute_result"
    }
   ],
   "source": [
    "views.shape"
   ]
  },
  {
   "cell_type": "code",
   "execution_count": 238,
   "metadata": {
    "collapsed": false
   },
   "outputs": [
    {
     "data": {
      "text/plain": [
       "(100, 5)"
      ]
     },
     "execution_count": 238,
     "metadata": {},
     "output_type": "execute_result"
    }
   ],
   "source": [
    "details.shape"
   ]
  },
  {
   "cell_type": "code",
   "execution_count": 239,
   "metadata": {
    "collapsed": false
   },
   "outputs": [
    {
     "name": "stdout",
     "output_type": "stream",
     "text": [
      "<class 'pandas.core.frame.DataFrame'>\n",
      "RangeIndex: 11903 entries, 0 to 11902\n",
      "Data columns (total 3 columns):\n",
      "video_id    11903 non-null int64\n",
      "date        11903 non-null object\n",
      "count       11903 non-null int64\n",
      "dtypes: int64(2), object(1)\n",
      "memory usage: 279.1+ KB\n"
     ]
    }
   ],
   "source": [
    "views.info()"
   ]
  },
  {
   "cell_type": "code",
   "execution_count": 240,
   "metadata": {
    "collapsed": false
   },
   "outputs": [
    {
     "name": "stdout",
     "output_type": "stream",
     "text": [
      "<class 'pandas.core.frame.DataFrame'>\n",
      "RangeIndex: 100 entries, 0 to 99\n",
      "Data columns (total 5 columns):\n",
      "video_id             100 non-null int64\n",
      "video_length         100 non-null int64\n",
      "video_language       100 non-null object\n",
      "video_upload_date    100 non-null object\n",
      "video_quality        100 non-null object\n",
      "dtypes: int64(2), object(3)\n",
      "memory usage: 4.0+ KB\n"
     ]
    }
   ],
   "source": [
    "details.info()"
   ]
  },
  {
   "cell_type": "code",
   "execution_count": 241,
   "metadata": {
    "collapsed": false
   },
   "outputs": [
    {
     "data": {
      "text/plain": [
       "video_id    100\n",
       "date        178\n",
       "count       182\n",
       "dtype: int64"
      ]
     },
     "execution_count": 241,
     "metadata": {},
     "output_type": "execute_result"
    }
   ],
   "source": [
    "views.nunique()"
   ]
  },
  {
   "cell_type": "code",
   "execution_count": 242,
   "metadata": {
    "collapsed": false
   },
   "outputs": [
    {
     "data": {
      "text/plain": [
       "video_id             100\n",
       "video_length          16\n",
       "video_language         3\n",
       "video_upload_date     49\n",
       "video_quality          5\n",
       "dtype: int64"
      ]
     },
     "execution_count": 242,
     "metadata": {},
     "output_type": "execute_result"
    }
   ],
   "source": [
    "details.nunique()"
   ]
  },
  {
   "cell_type": "code",
   "execution_count": 243,
   "metadata": {
    "collapsed": false
   },
   "outputs": [],
   "source": [
    "def describe(df):\n",
    "    return pd.concat([df.describe().T,\n",
    "                      df.mad().rename('mad'),\n",
    "                      df.skew().rename('skew'),\n",
    "                      df.kurt().rename('kurt'),\n",
    "                     ], axis=1).T\n"
   ]
  },
  {
   "cell_type": "code",
   "execution_count": 244,
   "metadata": {
    "collapsed": false
   },
   "outputs": [
    {
     "data": {
      "text/html": [
       "<div>\n",
       "<style scoped>\n",
       "    .dataframe tbody tr th:only-of-type {\n",
       "        vertical-align: middle;\n",
       "    }\n",
       "\n",
       "    .dataframe tbody tr th {\n",
       "        vertical-align: top;\n",
       "    }\n",
       "\n",
       "    .dataframe thead th {\n",
       "        text-align: right;\n",
       "    }\n",
       "</style>\n",
       "<table border=\"1\" class=\"dataframe\">\n",
       "  <thead>\n",
       "    <tr style=\"text-align: right;\">\n",
       "      <th></th>\n",
       "      <th>count</th>\n",
       "    </tr>\n",
       "  </thead>\n",
       "  <tbody>\n",
       "    <tr>\n",
       "      <th>count</th>\n",
       "      <td>11903.000000</td>\n",
       "    </tr>\n",
       "    <tr>\n",
       "      <th>mean</th>\n",
       "      <td>75.427623</td>\n",
       "    </tr>\n",
       "    <tr>\n",
       "      <th>std</th>\n",
       "      <td>33.011251</td>\n",
       "    </tr>\n",
       "    <tr>\n",
       "      <th>min</th>\n",
       "      <td>6.000000</td>\n",
       "    </tr>\n",
       "    <tr>\n",
       "      <th>25%</th>\n",
       "      <td>51.000000</td>\n",
       "    </tr>\n",
       "    <tr>\n",
       "      <th>50%</th>\n",
       "      <td>72.000000</td>\n",
       "    </tr>\n",
       "    <tr>\n",
       "      <th>75%</th>\n",
       "      <td>97.000000</td>\n",
       "    </tr>\n",
       "    <tr>\n",
       "      <th>max</th>\n",
       "      <td>196.000000</td>\n",
       "    </tr>\n",
       "    <tr>\n",
       "      <th>mad</th>\n",
       "      <td>26.678938</td>\n",
       "    </tr>\n",
       "    <tr>\n",
       "      <th>skew</th>\n",
       "      <td>0.452133</td>\n",
       "    </tr>\n",
       "    <tr>\n",
       "      <th>kurt</th>\n",
       "      <td>-0.176308</td>\n",
       "    </tr>\n",
       "  </tbody>\n",
       "</table>\n",
       "</div>"
      ],
      "text/plain": [
       "              count\n",
       "count  11903.000000\n",
       "mean      75.427623\n",
       "std       33.011251\n",
       "min        6.000000\n",
       "25%       51.000000\n",
       "50%       72.000000\n",
       "75%       97.000000\n",
       "max      196.000000\n",
       "mad       26.678938\n",
       "skew       0.452133\n",
       "kurt      -0.176308"
      ]
     },
     "execution_count": 244,
     "metadata": {},
     "output_type": "execute_result"
    }
   ],
   "source": [
    "# Descriptive statistics - Views Table\n",
    "describe(views[[\"count\"]])"
   ]
  },
  {
   "cell_type": "code",
   "execution_count": 245,
   "metadata": {
    "collapsed": false
   },
   "outputs": [
    {
     "data": {
      "text/html": [
       "<div>\n",
       "<style scoped>\n",
       "    .dataframe tbody tr th:only-of-type {\n",
       "        vertical-align: middle;\n",
       "    }\n",
       "\n",
       "    .dataframe tbody tr th {\n",
       "        vertical-align: top;\n",
       "    }\n",
       "\n",
       "    .dataframe thead th {\n",
       "        text-align: right;\n",
       "    }\n",
       "</style>\n",
       "<table border=\"1\" class=\"dataframe\">\n",
       "  <thead>\n",
       "    <tr style=\"text-align: right;\">\n",
       "      <th></th>\n",
       "      <th>video_length</th>\n",
       "    </tr>\n",
       "  </thead>\n",
       "  <tbody>\n",
       "    <tr>\n",
       "      <th>count</th>\n",
       "      <td>100.000000</td>\n",
       "    </tr>\n",
       "    <tr>\n",
       "      <th>mean</th>\n",
       "      <td>22.700000</td>\n",
       "    </tr>\n",
       "    <tr>\n",
       "      <th>std</th>\n",
       "      <td>4.606758</td>\n",
       "    </tr>\n",
       "    <tr>\n",
       "      <th>min</th>\n",
       "      <td>15.000000</td>\n",
       "    </tr>\n",
       "    <tr>\n",
       "      <th>25%</th>\n",
       "      <td>19.000000</td>\n",
       "    </tr>\n",
       "    <tr>\n",
       "      <th>50%</th>\n",
       "      <td>23.000000</td>\n",
       "    </tr>\n",
       "    <tr>\n",
       "      <th>75%</th>\n",
       "      <td>27.000000</td>\n",
       "    </tr>\n",
       "    <tr>\n",
       "      <th>max</th>\n",
       "      <td>30.000000</td>\n",
       "    </tr>\n",
       "    <tr>\n",
       "      <th>mad</th>\n",
       "      <td>3.966000</td>\n",
       "    </tr>\n",
       "    <tr>\n",
       "      <th>skew</th>\n",
       "      <td>-0.012272</td>\n",
       "    </tr>\n",
       "    <tr>\n",
       "      <th>kurt</th>\n",
       "      <td>-1.138475</td>\n",
       "    </tr>\n",
       "  </tbody>\n",
       "</table>\n",
       "</div>"
      ],
      "text/plain": [
       "       video_length\n",
       "count    100.000000\n",
       "mean      22.700000\n",
       "std        4.606758\n",
       "min       15.000000\n",
       "25%       19.000000\n",
       "50%       23.000000\n",
       "75%       27.000000\n",
       "max       30.000000\n",
       "mad        3.966000\n",
       "skew      -0.012272\n",
       "kurt      -1.138475"
      ]
     },
     "execution_count": 245,
     "metadata": {},
     "output_type": "execute_result"
    }
   ],
   "source": [
    "# Descriptive statistics - Details Table\n",
    "describe(details[[\"video_length\"]])"
   ]
  },
  {
   "cell_type": "code",
   "execution_count": 246,
   "metadata": {
    "collapsed": false
   },
   "outputs": [
    {
     "data": {
      "text/html": [
       "<div>\n",
       "<style scoped>\n",
       "    .dataframe tbody tr th:only-of-type {\n",
       "        vertical-align: middle;\n",
       "    }\n",
       "\n",
       "    .dataframe tbody tr th {\n",
       "        vertical-align: top;\n",
       "    }\n",
       "\n",
       "    .dataframe thead th {\n",
       "        text-align: right;\n",
       "    }\n",
       "</style>\n",
       "<table border=\"1\" class=\"dataframe\">\n",
       "  <thead>\n",
       "    <tr style=\"text-align: right;\">\n",
       "      <th></th>\n",
       "      <th>video_language</th>\n",
       "      <th>video_upload_date</th>\n",
       "      <th>video_quality</th>\n",
       "    </tr>\n",
       "  </thead>\n",
       "  <tbody>\n",
       "    <tr>\n",
       "      <th>count</th>\n",
       "      <td>100</td>\n",
       "      <td>100</td>\n",
       "      <td>100</td>\n",
       "    </tr>\n",
       "    <tr>\n",
       "      <th>unique</th>\n",
       "      <td>3</td>\n",
       "      <td>49</td>\n",
       "      <td>5</td>\n",
       "    </tr>\n",
       "    <tr>\n",
       "      <th>top</th>\n",
       "      <td>chineese</td>\n",
       "      <td>2017-09-14</td>\n",
       "      <td>480p</td>\n",
       "    </tr>\n",
       "    <tr>\n",
       "      <th>freq</th>\n",
       "      <td>35</td>\n",
       "      <td>5</td>\n",
       "      <td>28</td>\n",
       "    </tr>\n",
       "  </tbody>\n",
       "</table>\n",
       "</div>"
      ],
      "text/plain": [
       "       video_language video_upload_date video_quality\n",
       "count             100               100           100\n",
       "unique              3                49             5\n",
       "top          chineese        2017-09-14          480p\n",
       "freq               35                 5            28"
      ]
     },
     "execution_count": 246,
     "metadata": {},
     "output_type": "execute_result"
    }
   ],
   "source": [
    "details.select_dtypes(include='object').describe()"
   ]
  },
  {
   "cell_type": "code",
   "execution_count": 247,
   "metadata": {
    "collapsed": true
   },
   "outputs": [],
   "source": [
    "cat = ['video_quality', 'video_language']"
   ]
  },
  {
   "cell_type": "code",
   "execution_count": 248,
   "metadata": {
    "collapsed": false
   },
   "outputs": [
    {
     "name": "stderr",
     "output_type": "stream",
     "text": [
      "C:\\Users\\user\\Anaconda3\\envs\\cs231n\\lib\\site-packages\\seaborn\\categorical.py:1428: FutureWarning: remove_na is deprecated and is a private function. Do not use.\n",
      "  stat_data = remove_na(group_data)\n"
     ]
    },
    {
     "data": {
      "image/png": "[encoded data removed]",
      "text/plain": [
       "<Figure size 576x576 with 1 Axes>"
      ]
     },
     "metadata": {},
     "output_type": "display_data"
    },
    {
     "data": {
      "image/png": "[encoded data removed]",
      "text/plain": [
       "<Figure size 576x576 with 1 Axes>"
      ]
     },
     "metadata": {},
     "output_type": "display_data"
    }
   ],
   "source": [
    "for col in cat:\n",
    "    ax = sns.countplot(y=col, data=details)\n",
    "    plt.title(col)\n",
    "    plt.xlabel('Amount')\n",
    "\n",
    "    total = len(details[col])\n",
    "    for p in ax.patches:\n",
    "            percentage = '{:.1f}%'.format(100 * p.get_width()/total)\n",
    "            x = p.get_x() + p.get_width() + 0.02\n",
    "            y = p.get_y() + p.get_height()/2\n",
    "            ax.annotate(percentage, (x, y))\n",
    "\n",
    "    plt.show()"
   ]
  },
  {
   "cell_type": "code",
   "execution_count": 249,
   "metadata": {
    "collapsed": false
   },
   "outputs": [
    {
     "name": "stderr",
     "output_type": "stream",
     "text": [
      "C:\\Users\\user\\Anaconda3\\envs\\cs231n\\lib\\site-packages\\seaborn\\categorical.py:454: FutureWarning: remove_na is deprecated and is a private function. Do not use.\n",
      "  box_data = remove_na(group_data)\n"
     ]
    },
    {
     "data": {
      "image/png": "[encoded data removed]",
      "text/plain": [
       "<Figure size 576x576 with 1 Axes>"
      ]
     },
     "metadata": {},
     "output_type": "display_data"
    }
   ],
   "source": [
    "# Boxplot\n",
    "sns.boxplot(data=details[\"video_length\"])\n",
    "plt.xlabel(\"video_length\")\n",
    "fig=plt.gcf()\n",
    "fig.set_size_inches(8,8)\n",
    "plt.show()"
   ]
  },
  {
   "cell_type": "code",
   "execution_count": 250,
   "metadata": {
    "collapsed": false
   },
   "outputs": [
    {
     "name": "stderr",
     "output_type": "stream",
     "text": [
      "C:\\Users\\user\\Anaconda3\\envs\\cs231n\\lib\\site-packages\\seaborn\\categorical.py:454: FutureWarning: remove_na is deprecated and is a private function. Do not use.\n",
      "  box_data = remove_na(group_data)\n"
     ]
    },
    {
     "data": {
      "image/png": "[encoded data removed]",
      "text/plain": [
       "<Figure size 576x576 with 1 Axes>"
      ]
     },
     "metadata": {},
     "output_type": "display_data"
    }
   ],
   "source": [
    "sns.boxplot(data=views[\"count\"])\n",
    "plt.xlabel(\"count\")\n",
    "fig=plt.gcf()\n",
    "fig.set_size_inches(8,8)\n",
    "plt.show()"
   ]
  },
  {
   "cell_type": "code",
   "execution_count": 251,
   "metadata": {
    "collapsed": false
   },
   "outputs": [
    {
     "data": {
      "text/plain": [
       "Text(0, 0.5, 'Count')"
      ]
     },
     "execution_count": 251,
     "metadata": {},
     "output_type": "execute_result"
    },
    {
     "data": {
      "image/png": "[encoded data removed]",
      "text/plain": [
       "<Figure size 576x576 with 1 Axes>"
      ]
     },
     "metadata": {},
     "output_type": "display_data"
    }
   ],
   "source": [
    "views['count'].hist(bins=50)\n",
    "plt.title('Views')\n",
    "plt.xlabel('Views per day')\n",
    "plt.ylabel('Count')"
   ]
  },
  {
   "cell_type": "markdown",
   "metadata": {},
   "source": [
    "### Check trends in time"
   ]
  },
  {
   "cell_type": "code",
   "execution_count": 252,
   "metadata": {
    "collapsed": false
   },
   "outputs": [],
   "source": [
    "views.date = pd.to_datetime(views.date)"
   ]
  },
  {
   "cell_type": "code",
   "execution_count": 253,
   "metadata": {
    "collapsed": false
   },
   "outputs": [
    {
     "data": {
      "text/plain": [
       "(Timestamp('2017-09-03 00:00:00'), Timestamp('2018-02-27 00:00:00'))"
      ]
     },
     "execution_count": 253,
     "metadata": {},
     "output_type": "execute_result"
    }
   ],
   "source": [
    "views.date.min(), views.date.max()"
   ]
  },
  {
   "cell_type": "code",
   "execution_count": 254,
   "metadata": {
    "collapsed": false
   },
   "outputs": [
    {
     "data": {
      "text/plain": [
       "Timedelta('177 days 00:00:00')"
      ]
     },
     "execution_count": 254,
     "metadata": {},
     "output_type": "execute_result"
    }
   ],
   "source": [
    "views.date.max()-views.date.min()"
   ]
  },
  {
   "cell_type": "code",
   "execution_count": 255,
   "metadata": {
    "collapsed": false
   },
   "outputs": [
    {
     "data": {
      "text/plain": [
       "Text(0.5, 0, 'WeekDay')"
      ]
     },
     "execution_count": 255,
     "metadata": {},
     "output_type": "execute_result"
    },
    {
     "data": {
      "image/png": "[encoded data removed]",
      "text/plain": [
       "<Figure size 576x576 with 1 Axes>"
      ]
     },
     "metadata": {},
     "output_type": "display_data"
    }
   ],
   "source": [
    "views[['date','count']].groupby(views.date.dt.weekday).mean().plot()\n",
    "plt.xlabel('WeekDay')"
   ]
  },
  {
   "cell_type": "code",
   "execution_count": 256,
   "metadata": {
    "collapsed": false
   },
   "outputs": [
    {
     "data": {
      "text/plain": [
       "Text(0.5, 0, 'WeekDay')"
      ]
     },
     "execution_count": 256,
     "metadata": {},
     "output_type": "execute_result"
    },
    {
     "data": {
      "image/png": "[encoded data removed]",
      "text/plain": [
       "<Figure size 576x576 with 1 Axes>"
      ]
     },
     "metadata": {},
     "output_type": "display_data"
    }
   ],
   "source": [
    "views[['date','count']].groupby(views.date.dt.weekday).median().plot()\n",
    "plt.xlabel('WeekDay')"
   ]
  },
  {
   "cell_type": "code",
   "execution_count": 257,
   "metadata": {
    "collapsed": false
   },
   "outputs": [],
   "source": [
    "views.set_index('date', inplace=True)"
   ]
  },
  {
   "cell_type": "code",
   "execution_count": 262,
   "metadata": {
    "collapsed": false
   },
   "outputs": [],
   "source": [
    "v1=views[views[\"video_id\"]==1]"
   ]
  },
  {
   "cell_type": "code",
   "execution_count": 263,
   "metadata": {
    "collapsed": false
   },
   "outputs": [
    {
     "data": {
      "image/png": "[encoded data removed]",
      "text/plain": [
       "<Figure size 1296x144 with 1 Axes>"
      ]
     },
     "metadata": {},
     "output_type": "display_data"
    }
   ],
   "source": [
    "v1['count'].plot(figsize=(18, 2))\n",
    "plt.show()"
   ]
  },
  {
   "cell_type": "code",
   "execution_count": 29,
   "metadata": {
    "collapsed": true
   },
   "outputs": [],
   "source": [
    "v2=views[views[\"video_id\"]==2]"
   ]
  },
  {
   "cell_type": "code",
   "execution_count": 30,
   "metadata": {
    "collapsed": false
   },
   "outputs": [
    {
     "data": {
      "image/png": "[encoded data removed]",
      "text/plain": [
       "<Figure size 1296x144 with 1 Axes>"
      ]
     },
     "metadata": {},
     "output_type": "display_data"
    }
   ],
   "source": [
    "v2['count'].plot(figsize=(18, 2))\n",
    "plt.show()"
   ]
  },
  {
   "cell_type": "markdown",
   "metadata": {},
   "source": [
    "It seems that as time passes the number of views decreases"
   ]
  },
  {
   "cell_type": "code",
   "execution_count": 31,
   "metadata": {
    "collapsed": true
   },
   "outputs": [],
   "source": [
    "views = pd.read_csv('video_count.csv')"
   ]
  },
  {
   "cell_type": "code",
   "execution_count": 32,
   "metadata": {
    "collapsed": true
   },
   "outputs": [],
   "source": [
    "videos=pd.merge(views, details, how='inner', on=\"video_id\", \n",
    "         left_index=False, right_index=False, sort=True,\n",
    "         suffixes=('_x', '_y'), copy=True, indicator=False,\n",
    "         validate=None)"
   ]
  },
  {
   "cell_type": "code",
   "execution_count": 33,
   "metadata": {
    "collapsed": false
   },
   "outputs": [
    {
     "data": {
      "text/html": [
       "<div>\n",
       "<style scoped>\n",
       "    .dataframe tbody tr th:only-of-type {\n",
       "        vertical-align: middle;\n",
       "    }\n",
       "\n",
       "    .dataframe tbody tr th {\n",
       "        vertical-align: top;\n",
       "    }\n",
       "\n",
       "    .dataframe thead th {\n",
       "        text-align: right;\n",
       "    }\n",
       "</style>\n",
       "<table border=\"1\" class=\"dataframe\">\n",
       "  <thead>\n",
       "    <tr style=\"text-align: right;\">\n",
       "      <th></th>\n",
       "      <th>video_id</th>\n",
       "      <th>date</th>\n",
       "      <th>count</th>\n",
       "      <th>video_length</th>\n",
       "      <th>video_language</th>\n",
       "      <th>video_upload_date</th>\n",
       "      <th>video_quality</th>\n",
       "    </tr>\n",
       "  </thead>\n",
       "  <tbody>\n",
       "    <tr>\n",
       "      <th>0</th>\n",
       "      <td>1</td>\n",
       "      <td>2018-01-06</td>\n",
       "      <td>93</td>\n",
       "      <td>16</td>\n",
       "      <td>chineese</td>\n",
       "      <td>2017-09-11</td>\n",
       "      <td>480p</td>\n",
       "    </tr>\n",
       "    <tr>\n",
       "      <th>1</th>\n",
       "      <td>1</td>\n",
       "      <td>2017-10-04</td>\n",
       "      <td>159</td>\n",
       "      <td>16</td>\n",
       "      <td>chineese</td>\n",
       "      <td>2017-09-11</td>\n",
       "      <td>480p</td>\n",
       "    </tr>\n",
       "    <tr>\n",
       "      <th>2</th>\n",
       "      <td>1</td>\n",
       "      <td>2017-12-10</td>\n",
       "      <td>93</td>\n",
       "      <td>16</td>\n",
       "      <td>chineese</td>\n",
       "      <td>2017-09-11</td>\n",
       "      <td>480p</td>\n",
       "    </tr>\n",
       "    <tr>\n",
       "      <th>3</th>\n",
       "      <td>1</td>\n",
       "      <td>2017-09-16</td>\n",
       "      <td>129</td>\n",
       "      <td>16</td>\n",
       "      <td>chineese</td>\n",
       "      <td>2017-09-11</td>\n",
       "      <td>480p</td>\n",
       "    </tr>\n",
       "    <tr>\n",
       "      <th>4</th>\n",
       "      <td>1</td>\n",
       "      <td>2017-10-29</td>\n",
       "      <td>79</td>\n",
       "      <td>16</td>\n",
       "      <td>chineese</td>\n",
       "      <td>2017-09-11</td>\n",
       "      <td>480p</td>\n",
       "    </tr>\n",
       "  </tbody>\n",
       "</table>\n",
       "</div>"
      ],
      "text/plain": [
       "   video_id        date  count  video_length video_language video_upload_date  \\\n",
       "0         1  2018-01-06     93            16       chineese        2017-09-11   \n",
       "1         1  2017-10-04    159            16       chineese        2017-09-11   \n",
       "2         1  2017-12-10     93            16       chineese        2017-09-11   \n",
       "3         1  2017-09-16    129            16       chineese        2017-09-11   \n",
       "4         1  2017-10-29     79            16       chineese        2017-09-11   \n",
       "\n",
       "  video_quality  \n",
       "0          480p  \n",
       "1          480p  \n",
       "2          480p  \n",
       "3          480p  \n",
       "4          480p  "
      ]
     },
     "execution_count": 33,
     "metadata": {},
     "output_type": "execute_result"
    }
   ],
   "source": [
    "videos.head()"
   ]
  },
  {
   "cell_type": "markdown",
   "metadata": {},
   "source": [
    "Daily views average of each video sorted according to the ascending order of their views"
   ]
  },
  {
   "cell_type": "code",
   "execution_count": 34,
   "metadata": {
    "collapsed": false
   },
   "outputs": [
    {
     "data": {
      "text/html": [
       "<div>\n",
       "<style scoped>\n",
       "    .dataframe tbody tr th:only-of-type {\n",
       "        vertical-align: middle;\n",
       "    }\n",
       "\n",
       "    .dataframe tbody tr th {\n",
       "        vertical-align: top;\n",
       "    }\n",
       "\n",
       "    .dataframe thead th {\n",
       "        text-align: right;\n",
       "    }\n",
       "</style>\n",
       "<table border=\"1\" class=\"dataframe\">\n",
       "  <thead>\n",
       "    <tr style=\"text-align: right;\">\n",
       "      <th></th>\n",
       "      <th>count</th>\n",
       "    </tr>\n",
       "    <tr>\n",
       "      <th>video_id</th>\n",
       "      <th></th>\n",
       "    </tr>\n",
       "  </thead>\n",
       "  <tbody>\n",
       "    <tr>\n",
       "      <th>57</th>\n",
       "      <td>131.479339</td>\n",
       "    </tr>\n",
       "    <tr>\n",
       "      <th>52</th>\n",
       "      <td>120.550847</td>\n",
       "    </tr>\n",
       "    <tr>\n",
       "      <th>74</th>\n",
       "      <td>120.222222</td>\n",
       "    </tr>\n",
       "    <tr>\n",
       "      <th>84</th>\n",
       "      <td>120.194915</td>\n",
       "    </tr>\n",
       "    <tr>\n",
       "      <th>44</th>\n",
       "      <td>120.075000</td>\n",
       "    </tr>\n",
       "  </tbody>\n",
       "</table>\n",
       "</div>"
      ],
      "text/plain": [
       "               count\n",
       "video_id            \n",
       "57        131.479339\n",
       "52        120.550847\n",
       "74        120.222222\n",
       "84        120.194915\n",
       "44        120.075000"
      ]
     },
     "execution_count": 34,
     "metadata": {},
     "output_type": "execute_result"
    }
   ],
   "source": [
    "pd.DataFrame(videos.groupby('video_id')['count'].mean().sort_values(ascending=False).head())"
   ]
  },
  {
   "cell_type": "markdown",
   "metadata": {},
   "source": [
    "Views Average Description"
   ]
  },
  {
   "cell_type": "code",
   "execution_count": 35,
   "metadata": {
    "collapsed": false
   },
   "outputs": [
    {
     "data": {
      "text/html": [
       "<div>\n",
       "<style scoped>\n",
       "    .dataframe tbody tr th:only-of-type {\n",
       "        vertical-align: middle;\n",
       "    }\n",
       "\n",
       "    .dataframe tbody tr th {\n",
       "        vertical-align: top;\n",
       "    }\n",
       "\n",
       "    .dataframe thead th {\n",
       "        text-align: right;\n",
       "    }\n",
       "</style>\n",
       "<table border=\"1\" class=\"dataframe\">\n",
       "  <thead>\n",
       "    <tr style=\"text-align: right;\">\n",
       "      <th></th>\n",
       "      <th>count</th>\n",
       "    </tr>\n",
       "  </thead>\n",
       "  <tbody>\n",
       "    <tr>\n",
       "      <th>count</th>\n",
       "      <td>100.000000</td>\n",
       "    </tr>\n",
       "    <tr>\n",
       "      <th>mean</th>\n",
       "      <td>75.446701</td>\n",
       "    </tr>\n",
       "    <tr>\n",
       "      <th>std</th>\n",
       "      <td>25.952585</td>\n",
       "    </tr>\n",
       "    <tr>\n",
       "      <th>min</th>\n",
       "      <td>29.025210</td>\n",
       "    </tr>\n",
       "    <tr>\n",
       "      <th>25%</th>\n",
       "      <td>53.819538</td>\n",
       "    </tr>\n",
       "    <tr>\n",
       "      <th>50%</th>\n",
       "      <td>74.685924</td>\n",
       "    </tr>\n",
       "    <tr>\n",
       "      <th>75%</th>\n",
       "      <td>95.551681</td>\n",
       "    </tr>\n",
       "    <tr>\n",
       "      <th>max</th>\n",
       "      <td>131.479339</td>\n",
       "    </tr>\n",
       "  </tbody>\n",
       "</table>\n",
       "</div>"
      ],
      "text/plain": [
       "            count\n",
       "count  100.000000\n",
       "mean    75.446701\n",
       "std     25.952585\n",
       "min     29.025210\n",
       "25%     53.819538\n",
       "50%     74.685924\n",
       "75%     95.551681\n",
       "max    131.479339"
      ]
     },
     "execution_count": 35,
     "metadata": {},
     "output_type": "execute_result"
    }
   ],
   "source": [
    "pd.DataFrame(videos.groupby('video_id')['count'].mean().describe())"
   ]
  },
  {
   "cell_type": "markdown",
   "metadata": {},
   "source": [
    "Total number of views for a video"
   ]
  },
  {
   "cell_type": "code",
   "execution_count": 36,
   "metadata": {
    "collapsed": false
   },
   "outputs": [
    {
     "data": {
      "text/html": [
       "<div>\n",
       "<style scoped>\n",
       "    .dataframe tbody tr th:only-of-type {\n",
       "        vertical-align: middle;\n",
       "    }\n",
       "\n",
       "    .dataframe tbody tr th {\n",
       "        vertical-align: top;\n",
       "    }\n",
       "\n",
       "    .dataframe thead th {\n",
       "        text-align: right;\n",
       "    }\n",
       "</style>\n",
       "<table border=\"1\" class=\"dataframe\">\n",
       "  <thead>\n",
       "    <tr style=\"text-align: right;\">\n",
       "      <th></th>\n",
       "      <th>count</th>\n",
       "    </tr>\n",
       "    <tr>\n",
       "      <th>video_id</th>\n",
       "      <th></th>\n",
       "    </tr>\n",
       "  </thead>\n",
       "  <tbody>\n",
       "    <tr>\n",
       "      <th>48</th>\n",
       "      <td>121</td>\n",
       "    </tr>\n",
       "    <tr>\n",
       "      <th>14</th>\n",
       "      <td>121</td>\n",
       "    </tr>\n",
       "    <tr>\n",
       "      <th>83</th>\n",
       "      <td>121</td>\n",
       "    </tr>\n",
       "    <tr>\n",
       "      <th>79</th>\n",
       "      <td>121</td>\n",
       "    </tr>\n",
       "    <tr>\n",
       "      <th>22</th>\n",
       "      <td>121</td>\n",
       "    </tr>\n",
       "  </tbody>\n",
       "</table>\n",
       "</div>"
      ],
      "text/plain": [
       "          count\n",
       "video_id       \n",
       "48          121\n",
       "14          121\n",
       "83          121\n",
       "79          121\n",
       "22          121"
      ]
     },
     "execution_count": 36,
     "metadata": {},
     "output_type": "execute_result"
    }
   ],
   "source": [
    "pd.DataFrame(videos.groupby('video_id')['count'].count().sort_values(ascending=False).head())"
   ]
  },
  {
   "cell_type": "code",
   "execution_count": 37,
   "metadata": {
    "collapsed": false
   },
   "outputs": [],
   "source": [
    "#Average views per day\n",
    "videos_total_views = pd.DataFrame(videos.groupby('video_id')['count'].mean())"
   ]
  },
  {
   "cell_type": "code",
   "execution_count": 38,
   "metadata": {
    "collapsed": false,
    "scrolled": true
   },
   "outputs": [
    {
     "data": {
      "text/html": [
       "<div>\n",
       "<style scoped>\n",
       "    .dataframe tbody tr th:only-of-type {\n",
       "        vertical-align: middle;\n",
       "    }\n",
       "\n",
       "    .dataframe tbody tr th {\n",
       "        vertical-align: top;\n",
       "    }\n",
       "\n",
       "    .dataframe thead th {\n",
       "        text-align: right;\n",
       "    }\n",
       "</style>\n",
       "<table border=\"1\" class=\"dataframe\">\n",
       "  <thead>\n",
       "    <tr style=\"text-align: right;\">\n",
       "      <th></th>\n",
       "      <th>count</th>\n",
       "      <th>n.of_published_days</th>\n",
       "    </tr>\n",
       "    <tr>\n",
       "      <th>video_id</th>\n",
       "      <th></th>\n",
       "      <th></th>\n",
       "    </tr>\n",
       "  </thead>\n",
       "  <tbody>\n",
       "    <tr>\n",
       "      <th>1</th>\n",
       "      <td>109.975000</td>\n",
       "      <td>120</td>\n",
       "    </tr>\n",
       "    <tr>\n",
       "      <th>2</th>\n",
       "      <td>51.789916</td>\n",
       "      <td>119</td>\n",
       "    </tr>\n",
       "    <tr>\n",
       "      <th>3</th>\n",
       "      <td>29.025210</td>\n",
       "      <td>119</td>\n",
       "    </tr>\n",
       "    <tr>\n",
       "      <th>4</th>\n",
       "      <td>119.260504</td>\n",
       "      <td>119</td>\n",
       "    </tr>\n",
       "    <tr>\n",
       "      <th>5</th>\n",
       "      <td>101.537815</td>\n",
       "      <td>119</td>\n",
       "    </tr>\n",
       "  </tbody>\n",
       "</table>\n",
       "</div>"
      ],
      "text/plain": [
       "               count  n.of_published_days\n",
       "video_id                                 \n",
       "1         109.975000                  120\n",
       "2          51.789916                  119\n",
       "3          29.025210                  119\n",
       "4         119.260504                  119\n",
       "5         101.537815                  119"
      ]
     },
     "execution_count": 38,
     "metadata": {},
     "output_type": "execute_result"
    }
   ],
   "source": [
    "videos_total_views['n.of_published_days'] = pd.DataFrame(videos.groupby('video_id')['count'].count())\n",
    "videos_total_views.head()"
   ]
  },
  {
   "cell_type": "code",
   "execution_count": 39,
   "metadata": {
    "collapsed": true
   },
   "outputs": [],
   "source": [
    "videos_merge=videos"
   ]
  },
  {
   "cell_type": "code",
   "execution_count": 40,
   "metadata": {
    "collapsed": true
   },
   "outputs": [],
   "source": [
    "videos_merge.rename(columns={'count':'n.of_views'}, inplace=True)"
   ]
  },
  {
   "cell_type": "code",
   "execution_count": 41,
   "metadata": {
    "collapsed": false
   },
   "outputs": [
    {
     "data": {
      "text/html": [
       "<div>\n",
       "<style scoped>\n",
       "    .dataframe tbody tr th:only-of-type {\n",
       "        vertical-align: middle;\n",
       "    }\n",
       "\n",
       "    .dataframe tbody tr th {\n",
       "        vertical-align: top;\n",
       "    }\n",
       "\n",
       "    .dataframe thead th {\n",
       "        text-align: right;\n",
       "    }\n",
       "</style>\n",
       "<table border=\"1\" class=\"dataframe\">\n",
       "  <thead>\n",
       "    <tr style=\"text-align: right;\">\n",
       "      <th></th>\n",
       "      <th>video_id</th>\n",
       "      <th>date</th>\n",
       "      <th>n.of_views</th>\n",
       "      <th>video_length</th>\n",
       "      <th>video_language</th>\n",
       "      <th>video_upload_date</th>\n",
       "      <th>video_quality</th>\n",
       "    </tr>\n",
       "  </thead>\n",
       "  <tbody>\n",
       "    <tr>\n",
       "      <th>0</th>\n",
       "      <td>1</td>\n",
       "      <td>2018-01-06</td>\n",
       "      <td>93</td>\n",
       "      <td>16</td>\n",
       "      <td>chineese</td>\n",
       "      <td>2017-09-11</td>\n",
       "      <td>480p</td>\n",
       "    </tr>\n",
       "    <tr>\n",
       "      <th>1</th>\n",
       "      <td>1</td>\n",
       "      <td>2017-10-04</td>\n",
       "      <td>159</td>\n",
       "      <td>16</td>\n",
       "      <td>chineese</td>\n",
       "      <td>2017-09-11</td>\n",
       "      <td>480p</td>\n",
       "    </tr>\n",
       "    <tr>\n",
       "      <th>2</th>\n",
       "      <td>1</td>\n",
       "      <td>2017-12-10</td>\n",
       "      <td>93</td>\n",
       "      <td>16</td>\n",
       "      <td>chineese</td>\n",
       "      <td>2017-09-11</td>\n",
       "      <td>480p</td>\n",
       "    </tr>\n",
       "    <tr>\n",
       "      <th>3</th>\n",
       "      <td>1</td>\n",
       "      <td>2017-09-16</td>\n",
       "      <td>129</td>\n",
       "      <td>16</td>\n",
       "      <td>chineese</td>\n",
       "      <td>2017-09-11</td>\n",
       "      <td>480p</td>\n",
       "    </tr>\n",
       "    <tr>\n",
       "      <th>4</th>\n",
       "      <td>1</td>\n",
       "      <td>2017-10-29</td>\n",
       "      <td>79</td>\n",
       "      <td>16</td>\n",
       "      <td>chineese</td>\n",
       "      <td>2017-09-11</td>\n",
       "      <td>480p</td>\n",
       "    </tr>\n",
       "  </tbody>\n",
       "</table>\n",
       "</div>"
      ],
      "text/plain": [
       "   video_id        date  n.of_views  video_length video_language  \\\n",
       "0         1  2018-01-06          93            16       chineese   \n",
       "1         1  2017-10-04         159            16       chineese   \n",
       "2         1  2017-12-10          93            16       chineese   \n",
       "3         1  2017-09-16         129            16       chineese   \n",
       "4         1  2017-10-29          79            16       chineese   \n",
       "\n",
       "  video_upload_date video_quality  \n",
       "0        2017-09-11          480p  \n",
       "1        2017-09-11          480p  \n",
       "2        2017-09-11          480p  \n",
       "3        2017-09-11          480p  \n",
       "4        2017-09-11          480p  "
      ]
     },
     "execution_count": 41,
     "metadata": {},
     "output_type": "execute_result"
    }
   ],
   "source": [
    "videos_merge.head()"
   ]
  },
  {
   "cell_type": "code",
   "execution_count": 42,
   "metadata": {
    "collapsed": false
   },
   "outputs": [
    {
     "data": {
      "text/html": [
       "<div>\n",
       "<style scoped>\n",
       "    .dataframe tbody tr th:only-of-type {\n",
       "        vertical-align: middle;\n",
       "    }\n",
       "\n",
       "    .dataframe tbody tr th {\n",
       "        vertical-align: top;\n",
       "    }\n",
       "\n",
       "    .dataframe thead th {\n",
       "        text-align: right;\n",
       "    }\n",
       "</style>\n",
       "<table border=\"1\" class=\"dataframe\">\n",
       "  <thead>\n",
       "    <tr style=\"text-align: right;\">\n",
       "      <th></th>\n",
       "      <th>count</th>\n",
       "      <th>mean</th>\n",
       "      <th>std</th>\n",
       "      <th>min</th>\n",
       "      <th>25%</th>\n",
       "      <th>50%</th>\n",
       "      <th>75%</th>\n",
       "      <th>max</th>\n",
       "    </tr>\n",
       "    <tr>\n",
       "      <th>video_language</th>\n",
       "      <th></th>\n",
       "      <th></th>\n",
       "      <th></th>\n",
       "      <th></th>\n",
       "      <th></th>\n",
       "      <th></th>\n",
       "      <th></th>\n",
       "      <th></th>\n",
       "    </tr>\n",
       "  </thead>\n",
       "  <tbody>\n",
       "    <tr>\n",
       "      <th>chineese</th>\n",
       "      <td>4169.0</td>\n",
       "      <td>74.166947</td>\n",
       "      <td>33.803932</td>\n",
       "      <td>8.0</td>\n",
       "      <td>48.0</td>\n",
       "      <td>71.0</td>\n",
       "      <td>97.0</td>\n",
       "      <td>181.0</td>\n",
       "    </tr>\n",
       "    <tr>\n",
       "      <th>english</th>\n",
       "      <td>3929.0</td>\n",
       "      <td>77.100534</td>\n",
       "      <td>32.440818</td>\n",
       "      <td>11.0</td>\n",
       "      <td>52.0</td>\n",
       "      <td>74.0</td>\n",
       "      <td>98.0</td>\n",
       "      <td>186.0</td>\n",
       "    </tr>\n",
       "    <tr>\n",
       "      <th>spanish</th>\n",
       "      <td>3805.0</td>\n",
       "      <td>75.081472</td>\n",
       "      <td>32.650963</td>\n",
       "      <td>6.0</td>\n",
       "      <td>51.0</td>\n",
       "      <td>72.0</td>\n",
       "      <td>96.0</td>\n",
       "      <td>196.0</td>\n",
       "    </tr>\n",
       "  </tbody>\n",
       "</table>\n",
       "</div>"
      ],
      "text/plain": [
       "                 count       mean        std   min   25%   50%   75%    max\n",
       "video_language                                                             \n",
       "chineese        4169.0  74.166947  33.803932   8.0  48.0  71.0  97.0  181.0\n",
       "english         3929.0  77.100534  32.440818  11.0  52.0  74.0  98.0  186.0\n",
       "spanish         3805.0  75.081472  32.650963   6.0  51.0  72.0  96.0  196.0"
      ]
     },
     "execution_count": 42,
     "metadata": {},
     "output_type": "execute_result"
    }
   ],
   "source": [
    "videos_merge.groupby(['video_language'])['n.of_views'].describe()"
   ]
  },
  {
   "cell_type": "markdown",
   "metadata": {},
   "source": [
    "Get weekday"
   ]
  },
  {
   "cell_type": "code",
   "execution_count": 43,
   "metadata": {
    "collapsed": false
   },
   "outputs": [],
   "source": [
    "videos_merge['date']=pd.to_datetime(videos_merge['date'])\n",
    "videos_merge['weekday'] = videos_merge['date'].dt.dayofweek\n",
    "videos_merge['weekday'] = videos_merge['weekday'].astype('category')"
   ]
  },
  {
   "cell_type": "code",
   "execution_count": 44,
   "metadata": {
    "collapsed": false
   },
   "outputs": [
    {
     "name": "stderr",
     "output_type": "stream",
     "text": [
      "C:\\Users\\user\\Anaconda3\\envs\\cs231n\\lib\\site-packages\\seaborn\\categorical.py:454: FutureWarning: remove_na is deprecated and is a private function. Do not use.\n",
      "  box_data = remove_na(group_data)\n"
     ]
    },
    {
     "data": {
      "image/png": "[encoded data removed]",
      "text/plain": [
       "<Figure size 576x576 with 1 Axes>"
      ]
     },
     "metadata": {},
     "output_type": "display_data"
    }
   ],
   "source": [
    "ax = sns.boxplot(x=\"weekday\", y=\"n.of_views\", data=videos_merge, palette=\"Set3\")"
   ]
  },
  {
   "cell_type": "code",
   "execution_count": 45,
   "metadata": {
    "collapsed": false
   },
   "outputs": [
    {
     "name": "stderr",
     "output_type": "stream",
     "text": [
      "C:\\Users\\user\\Anaconda3\\envs\\cs231n\\lib\\site-packages\\seaborn\\categorical.py:454: FutureWarning: remove_na is deprecated and is a private function. Do not use.\n",
      "  box_data = remove_na(group_data)\n"
     ]
    },
    {
     "data": {
      "image/png": "[encoded data removed]",
      "text/plain": [
       "<Figure size 576x576 with 1 Axes>"
      ]
     },
     "metadata": {},
     "output_type": "display_data"
    }
   ],
   "source": [
    "ax = sns.boxplot(x=\"video_language\", y=\"n.of_views\", data=videos_merge, palette=\"Set3\")"
   ]
  },
  {
   "cell_type": "code",
   "execution_count": 46,
   "metadata": {
    "collapsed": false
   },
   "outputs": [
    {
     "name": "stderr",
     "output_type": "stream",
     "text": [
      "C:\\Users\\user\\Anaconda3\\envs\\cs231n\\lib\\site-packages\\seaborn\\categorical.py:482: FutureWarning: remove_na is deprecated and is a private function. Do not use.\n",
      "  box_data = remove_na(group_data[hue_mask])\n"
     ]
    },
    {
     "data": {
      "image/png": "[encoded data removed]",
      "text/plain": [
       "<Figure size 576x576 with 1 Axes>"
      ]
     },
     "metadata": {},
     "output_type": "display_data"
    }
   ],
   "source": [
    "ax = sns.boxplot(x=\"video_language\", y=\"n.of_views\", hue=\"video_quality\", data=videos_merge, palette=\"Set3\")"
   ]
  },
  {
   "cell_type": "markdown",
   "metadata": {},
   "source": [
    "Number of days of samples for the videos"
   ]
  },
  {
   "cell_type": "code",
   "execution_count": 47,
   "metadata": {
    "collapsed": false
   },
   "outputs": [
    {
     "data": {
      "text/plain": [
       "Text(0, 0.5, 'Number of videos')"
      ]
     },
     "execution_count": 47,
     "metadata": {},
     "output_type": "execute_result"
    },
    {
     "data": {
      "image/png": "[encoded data removed]",
      "text/plain": [
       "<Figure size 576x576 with 1 Axes>"
      ]
     },
     "metadata": {},
     "output_type": "display_data"
    }
   ],
   "source": [
    "videos_total_views['n.of_published_days'].hist(bins=50)\n",
    "plt.title('Number of days the videos were posted')\n",
    "plt.xlabel('Amount of Days')\n",
    "plt.ylabel('Number of videos')"
   ]
  },
  {
   "cell_type": "markdown",
   "metadata": {},
   "source": [
    "Number of videos that are published on the same day"
   ]
  },
  {
   "cell_type": "code",
   "execution_count": 48,
   "metadata": {
    "collapsed": false
   },
   "outputs": [
    {
     "data": {
      "text/html": [
       "<div>\n",
       "<style scoped>\n",
       "    .dataframe tbody tr th:only-of-type {\n",
       "        vertical-align: middle;\n",
       "    }\n",
       "\n",
       "    .dataframe tbody tr th {\n",
       "        vertical-align: top;\n",
       "    }\n",
       "\n",
       "    .dataframe thead th {\n",
       "        text-align: right;\n",
       "    }\n",
       "</style>\n",
       "<table border=\"1\" class=\"dataframe\">\n",
       "  <thead>\n",
       "    <tr style=\"text-align: right;\">\n",
       "      <th></th>\n",
       "      <th>video_id</th>\n",
       "    </tr>\n",
       "    <tr>\n",
       "      <th>date</th>\n",
       "      <th></th>\n",
       "    </tr>\n",
       "  </thead>\n",
       "  <tbody>\n",
       "    <tr>\n",
       "      <th>2017-09-03</th>\n",
       "      <td>3</td>\n",
       "    </tr>\n",
       "    <tr>\n",
       "      <th>2017-09-04</th>\n",
       "      <td>3</td>\n",
       "    </tr>\n",
       "    <tr>\n",
       "      <th>2017-09-05</th>\n",
       "      <td>3</td>\n",
       "    </tr>\n",
       "    <tr>\n",
       "      <th>2017-09-06</th>\n",
       "      <td>4</td>\n",
       "    </tr>\n",
       "    <tr>\n",
       "      <th>2017-09-07</th>\n",
       "      <td>5</td>\n",
       "    </tr>\n",
       "  </tbody>\n",
       "</table>\n",
       "</div>"
      ],
      "text/plain": [
       "            video_id\n",
       "date                \n",
       "2017-09-03         3\n",
       "2017-09-04         3\n",
       "2017-09-05         3\n",
       "2017-09-06         4\n",
       "2017-09-07         5"
      ]
     },
     "execution_count": 48,
     "metadata": {},
     "output_type": "execute_result"
    }
   ],
   "source": [
    "published_videos=pd.DataFrame(videos.groupby('date')['video_id'].count())\n",
    "published_videos.head()"
   ]
  },
  {
   "cell_type": "code",
   "execution_count": 49,
   "metadata": {
    "collapsed": false
   },
   "outputs": [
    {
     "data": {
      "text/plain": [
       "Text(0, 0.5, 'Number of days')"
      ]
     },
     "execution_count": 49,
     "metadata": {},
     "output_type": "execute_result"
    },
    {
     "data": {
      "image/png": "[encoded data removed]",
      "text/plain": [
       "<Figure size 576x576 with 1 Axes>"
      ]
     },
     "metadata": {},
     "output_type": "display_data"
    }
   ],
   "source": [
    "published_videos['video_id'].hist(bins=50)\n",
    "plt.title('Number of videos published on the same day')\n",
    "plt.xlabel('Amount of videos published a day')\n",
    "plt.ylabel('Number of days')"
   ]
  },
  {
   "cell_type": "markdown",
   "metadata": {},
   "source": [
    "Let's check the relationship between the amount of views per day and the length of the video"
   ]
  },
  {
   "cell_type": "code",
   "execution_count": 50,
   "metadata": {
    "collapsed": false
   },
   "outputs": [
    {
     "name": "stderr",
     "output_type": "stream",
     "text": [
      "C:\\Users\\user\\Anaconda3\\envs\\cs231n\\lib\\site-packages\\matplotlib\\axes\\_axes.py:6521: MatplotlibDeprecationWarning: \n",
      "The 'normed' kwarg was deprecated in Matplotlib 2.1 and will be removed in 3.1. Use 'density' instead.\n",
      "  alternative=\"'density'\", removal=\"3.1\")\n",
      "C:\\Users\\user\\Anaconda3\\envs\\cs231n\\lib\\site-packages\\matplotlib\\axes\\_axes.py:6521: MatplotlibDeprecationWarning: \n",
      "The 'normed' kwarg was deprecated in Matplotlib 2.1 and will be removed in 3.1. Use 'density' instead.\n",
      "  alternative=\"'density'\", removal=\"3.1\")\n"
     ]
    },
    {
     "data": {
      "text/plain": [
       "<seaborn.axisgrid.JointGrid at 0x1ff5cf9bc50>"
      ]
     },
     "execution_count": 50,
     "metadata": {},
     "output_type": "execute_result"
    },
    {
     "data": {
      "image/png": "[encoded data removed]",
      "text/plain": [
       "<Figure size 432x432 with 3 Axes>"
      ]
     },
     "metadata": {},
     "output_type": "display_data"
    }
   ],
   "source": [
    "sns.jointplot(x='video_length', y='n.of_views', data=videos_merge)"
   ]
  },
  {
   "cell_type": "code",
   "execution_count": 51,
   "metadata": {
    "collapsed": false
   },
   "outputs": [
    {
     "data": {
      "text/html": [
       "<div>\n",
       "<style scoped>\n",
       "    .dataframe tbody tr th:only-of-type {\n",
       "        vertical-align: middle;\n",
       "    }\n",
       "\n",
       "    .dataframe tbody tr th {\n",
       "        vertical-align: top;\n",
       "    }\n",
       "\n",
       "    .dataframe thead th {\n",
       "        text-align: right;\n",
       "    }\n",
       "</style>\n",
       "<table border=\"1\" class=\"dataframe\">\n",
       "  <thead>\n",
       "    <tr style=\"text-align: right;\">\n",
       "      <th>video_id</th>\n",
       "      <th>1</th>\n",
       "      <th>2</th>\n",
       "      <th>3</th>\n",
       "      <th>4</th>\n",
       "      <th>5</th>\n",
       "      <th>6</th>\n",
       "      <th>7</th>\n",
       "      <th>8</th>\n",
       "      <th>9</th>\n",
       "      <th>10</th>\n",
       "      <th>...</th>\n",
       "      <th>91</th>\n",
       "      <th>92</th>\n",
       "      <th>93</th>\n",
       "      <th>94</th>\n",
       "      <th>95</th>\n",
       "      <th>96</th>\n",
       "      <th>97</th>\n",
       "      <th>98</th>\n",
       "      <th>99</th>\n",
       "      <th>100</th>\n",
       "    </tr>\n",
       "    <tr>\n",
       "      <th>date</th>\n",
       "      <th></th>\n",
       "      <th></th>\n",
       "      <th></th>\n",
       "      <th></th>\n",
       "      <th></th>\n",
       "      <th></th>\n",
       "      <th></th>\n",
       "      <th></th>\n",
       "      <th></th>\n",
       "      <th></th>\n",
       "      <th></th>\n",
       "      <th></th>\n",
       "      <th></th>\n",
       "      <th></th>\n",
       "      <th></th>\n",
       "      <th></th>\n",
       "      <th></th>\n",
       "      <th></th>\n",
       "      <th></th>\n",
       "      <th></th>\n",
       "      <th></th>\n",
       "    </tr>\n",
       "  </thead>\n",
       "  <tbody>\n",
       "    <tr>\n",
       "      <th>2017-09-03</th>\n",
       "      <td>NaN</td>\n",
       "      <td>NaN</td>\n",
       "      <td>NaN</td>\n",
       "      <td>NaN</td>\n",
       "      <td>NaN</td>\n",
       "      <td>NaN</td>\n",
       "      <td>NaN</td>\n",
       "      <td>NaN</td>\n",
       "      <td>NaN</td>\n",
       "      <td>NaN</td>\n",
       "      <td>...</td>\n",
       "      <td>NaN</td>\n",
       "      <td>NaN</td>\n",
       "      <td>NaN</td>\n",
       "      <td>NaN</td>\n",
       "      <td>NaN</td>\n",
       "      <td>NaN</td>\n",
       "      <td>NaN</td>\n",
       "      <td>NaN</td>\n",
       "      <td>NaN</td>\n",
       "      <td>NaN</td>\n",
       "    </tr>\n",
       "    <tr>\n",
       "      <th>2017-09-04</th>\n",
       "      <td>NaN</td>\n",
       "      <td>NaN</td>\n",
       "      <td>NaN</td>\n",
       "      <td>NaN</td>\n",
       "      <td>NaN</td>\n",
       "      <td>NaN</td>\n",
       "      <td>NaN</td>\n",
       "      <td>NaN</td>\n",
       "      <td>NaN</td>\n",
       "      <td>NaN</td>\n",
       "      <td>...</td>\n",
       "      <td>NaN</td>\n",
       "      <td>NaN</td>\n",
       "      <td>NaN</td>\n",
       "      <td>NaN</td>\n",
       "      <td>NaN</td>\n",
       "      <td>NaN</td>\n",
       "      <td>NaN</td>\n",
       "      <td>NaN</td>\n",
       "      <td>NaN</td>\n",
       "      <td>NaN</td>\n",
       "    </tr>\n",
       "    <tr>\n",
       "      <th>2017-09-05</th>\n",
       "      <td>NaN</td>\n",
       "      <td>NaN</td>\n",
       "      <td>NaN</td>\n",
       "      <td>NaN</td>\n",
       "      <td>NaN</td>\n",
       "      <td>NaN</td>\n",
       "      <td>NaN</td>\n",
       "      <td>NaN</td>\n",
       "      <td>NaN</td>\n",
       "      <td>NaN</td>\n",
       "      <td>...</td>\n",
       "      <td>NaN</td>\n",
       "      <td>NaN</td>\n",
       "      <td>NaN</td>\n",
       "      <td>NaN</td>\n",
       "      <td>NaN</td>\n",
       "      <td>NaN</td>\n",
       "      <td>NaN</td>\n",
       "      <td>NaN</td>\n",
       "      <td>NaN</td>\n",
       "      <td>NaN</td>\n",
       "    </tr>\n",
       "    <tr>\n",
       "      <th>2017-09-06</th>\n",
       "      <td>NaN</td>\n",
       "      <td>NaN</td>\n",
       "      <td>NaN</td>\n",
       "      <td>NaN</td>\n",
       "      <td>NaN</td>\n",
       "      <td>NaN</td>\n",
       "      <td>NaN</td>\n",
       "      <td>NaN</td>\n",
       "      <td>NaN</td>\n",
       "      <td>NaN</td>\n",
       "      <td>...</td>\n",
       "      <td>NaN</td>\n",
       "      <td>NaN</td>\n",
       "      <td>NaN</td>\n",
       "      <td>79.0</td>\n",
       "      <td>NaN</td>\n",
       "      <td>NaN</td>\n",
       "      <td>NaN</td>\n",
       "      <td>NaN</td>\n",
       "      <td>NaN</td>\n",
       "      <td>NaN</td>\n",
       "    </tr>\n",
       "    <tr>\n",
       "      <th>2017-09-07</th>\n",
       "      <td>NaN</td>\n",
       "      <td>NaN</td>\n",
       "      <td>NaN</td>\n",
       "      <td>NaN</td>\n",
       "      <td>NaN</td>\n",
       "      <td>NaN</td>\n",
       "      <td>NaN</td>\n",
       "      <td>NaN</td>\n",
       "      <td>NaN</td>\n",
       "      <td>NaN</td>\n",
       "      <td>...</td>\n",
       "      <td>NaN</td>\n",
       "      <td>NaN</td>\n",
       "      <td>NaN</td>\n",
       "      <td>71.0</td>\n",
       "      <td>NaN</td>\n",
       "      <td>NaN</td>\n",
       "      <td>NaN</td>\n",
       "      <td>NaN</td>\n",
       "      <td>NaN</td>\n",
       "      <td>NaN</td>\n",
       "    </tr>\n",
       "  </tbody>\n",
       "</table>\n",
       "<p>5 rows × 100 columns</p>\n",
       "</div>"
      ],
      "text/plain": [
       "video_id    1    2    3    4    5    6    7    8    9    10   ...  91   92   \\\n",
       "date                                                          ...             \n",
       "2017-09-03  NaN  NaN  NaN  NaN  NaN  NaN  NaN  NaN  NaN  NaN  ...  NaN  NaN   \n",
       "2017-09-04  NaN  NaN  NaN  NaN  NaN  NaN  NaN  NaN  NaN  NaN  ...  NaN  NaN   \n",
       "2017-09-05  NaN  NaN  NaN  NaN  NaN  NaN  NaN  NaN  NaN  NaN  ...  NaN  NaN   \n",
       "2017-09-06  NaN  NaN  NaN  NaN  NaN  NaN  NaN  NaN  NaN  NaN  ...  NaN  NaN   \n",
       "2017-09-07  NaN  NaN  NaN  NaN  NaN  NaN  NaN  NaN  NaN  NaN  ...  NaN  NaN   \n",
       "\n",
       "video_id    93    94   95   96   97   98   99   100  \n",
       "date                                                 \n",
       "2017-09-03  NaN   NaN  NaN  NaN  NaN  NaN  NaN  NaN  \n",
       "2017-09-04  NaN   NaN  NaN  NaN  NaN  NaN  NaN  NaN  \n",
       "2017-09-05  NaN   NaN  NaN  NaN  NaN  NaN  NaN  NaN  \n",
       "2017-09-06  NaN  79.0  NaN  NaN  NaN  NaN  NaN  NaN  \n",
       "2017-09-07  NaN  71.0  NaN  NaN  NaN  NaN  NaN  NaN  \n",
       "\n",
       "[5 rows x 100 columns]"
      ]
     },
     "execution_count": 51,
     "metadata": {},
     "output_type": "execute_result"
    }
   ],
   "source": [
    "videos_matrix=videos.pivot_table(index='date', columns='video_id', values='n.of_views')\n",
    "videos_matrix.head()"
   ]
  },
  {
   "cell_type": "code",
   "execution_count": 52,
   "metadata": {
    "collapsed": false
   },
   "outputs": [
    {
     "data": {
      "text/html": [
       "<div>\n",
       "<style scoped>\n",
       "    .dataframe tbody tr th:only-of-type {\n",
       "        vertical-align: middle;\n",
       "    }\n",
       "\n",
       "    .dataframe tbody tr th {\n",
       "        vertical-align: top;\n",
       "    }\n",
       "\n",
       "    .dataframe thead th {\n",
       "        text-align: right;\n",
       "    }\n",
       "</style>\n",
       "<table border=\"1\" class=\"dataframe\">\n",
       "  <thead>\n",
       "    <tr style=\"text-align: right;\">\n",
       "      <th>video_id</th>\n",
       "      <th>1</th>\n",
       "      <th>2</th>\n",
       "      <th>3</th>\n",
       "      <th>4</th>\n",
       "      <th>5</th>\n",
       "      <th>6</th>\n",
       "      <th>7</th>\n",
       "      <th>8</th>\n",
       "      <th>9</th>\n",
       "      <th>10</th>\n",
       "      <th>...</th>\n",
       "      <th>91</th>\n",
       "      <th>92</th>\n",
       "      <th>93</th>\n",
       "      <th>94</th>\n",
       "      <th>95</th>\n",
       "      <th>96</th>\n",
       "      <th>97</th>\n",
       "      <th>98</th>\n",
       "      <th>99</th>\n",
       "      <th>100</th>\n",
       "    </tr>\n",
       "    <tr>\n",
       "      <th>date</th>\n",
       "      <th></th>\n",
       "      <th></th>\n",
       "      <th></th>\n",
       "      <th></th>\n",
       "      <th></th>\n",
       "      <th></th>\n",
       "      <th></th>\n",
       "      <th></th>\n",
       "      <th></th>\n",
       "      <th></th>\n",
       "      <th></th>\n",
       "      <th></th>\n",
       "      <th></th>\n",
       "      <th></th>\n",
       "      <th></th>\n",
       "      <th></th>\n",
       "      <th></th>\n",
       "      <th></th>\n",
       "      <th></th>\n",
       "      <th></th>\n",
       "      <th></th>\n",
       "    </tr>\n",
       "  </thead>\n",
       "  <tbody>\n",
       "    <tr>\n",
       "      <th>2017-09-03</th>\n",
       "      <td>NaN</td>\n",
       "      <td>NaN</td>\n",
       "      <td>NaN</td>\n",
       "      <td>NaN</td>\n",
       "      <td>NaN</td>\n",
       "      <td>NaN</td>\n",
       "      <td>NaN</td>\n",
       "      <td>NaN</td>\n",
       "      <td>NaN</td>\n",
       "      <td>NaN</td>\n",
       "      <td>...</td>\n",
       "      <td>NaN</td>\n",
       "      <td>NaN</td>\n",
       "      <td>NaN</td>\n",
       "      <td>NaN</td>\n",
       "      <td>NaN</td>\n",
       "      <td>NaN</td>\n",
       "      <td>NaN</td>\n",
       "      <td>NaN</td>\n",
       "      <td>NaN</td>\n",
       "      <td>NaN</td>\n",
       "    </tr>\n",
       "    <tr>\n",
       "      <th>2017-09-04</th>\n",
       "      <td>NaN</td>\n",
       "      <td>NaN</td>\n",
       "      <td>NaN</td>\n",
       "      <td>NaN</td>\n",
       "      <td>NaN</td>\n",
       "      <td>NaN</td>\n",
       "      <td>NaN</td>\n",
       "      <td>NaN</td>\n",
       "      <td>NaN</td>\n",
       "      <td>NaN</td>\n",
       "      <td>...</td>\n",
       "      <td>NaN</td>\n",
       "      <td>NaN</td>\n",
       "      <td>NaN</td>\n",
       "      <td>NaN</td>\n",
       "      <td>NaN</td>\n",
       "      <td>NaN</td>\n",
       "      <td>NaN</td>\n",
       "      <td>NaN</td>\n",
       "      <td>NaN</td>\n",
       "      <td>NaN</td>\n",
       "    </tr>\n",
       "    <tr>\n",
       "      <th>2017-09-05</th>\n",
       "      <td>NaN</td>\n",
       "      <td>NaN</td>\n",
       "      <td>NaN</td>\n",
       "      <td>NaN</td>\n",
       "      <td>NaN</td>\n",
       "      <td>NaN</td>\n",
       "      <td>NaN</td>\n",
       "      <td>NaN</td>\n",
       "      <td>NaN</td>\n",
       "      <td>NaN</td>\n",
       "      <td>...</td>\n",
       "      <td>NaN</td>\n",
       "      <td>NaN</td>\n",
       "      <td>NaN</td>\n",
       "      <td>NaN</td>\n",
       "      <td>NaN</td>\n",
       "      <td>NaN</td>\n",
       "      <td>NaN</td>\n",
       "      <td>NaN</td>\n",
       "      <td>NaN</td>\n",
       "      <td>NaN</td>\n",
       "    </tr>\n",
       "    <tr>\n",
       "      <th>2017-09-06</th>\n",
       "      <td>NaN</td>\n",
       "      <td>NaN</td>\n",
       "      <td>NaN</td>\n",
       "      <td>NaN</td>\n",
       "      <td>NaN</td>\n",
       "      <td>NaN</td>\n",
       "      <td>NaN</td>\n",
       "      <td>NaN</td>\n",
       "      <td>NaN</td>\n",
       "      <td>NaN</td>\n",
       "      <td>...</td>\n",
       "      <td>NaN</td>\n",
       "      <td>NaN</td>\n",
       "      <td>NaN</td>\n",
       "      <td>NaN</td>\n",
       "      <td>NaN</td>\n",
       "      <td>NaN</td>\n",
       "      <td>NaN</td>\n",
       "      <td>NaN</td>\n",
       "      <td>NaN</td>\n",
       "      <td>NaN</td>\n",
       "    </tr>\n",
       "    <tr>\n",
       "      <th>2017-09-07</th>\n",
       "      <td>NaN</td>\n",
       "      <td>NaN</td>\n",
       "      <td>NaN</td>\n",
       "      <td>NaN</td>\n",
       "      <td>NaN</td>\n",
       "      <td>NaN</td>\n",
       "      <td>NaN</td>\n",
       "      <td>NaN</td>\n",
       "      <td>NaN</td>\n",
       "      <td>NaN</td>\n",
       "      <td>...</td>\n",
       "      <td>NaN</td>\n",
       "      <td>NaN</td>\n",
       "      <td>NaN</td>\n",
       "      <td>NaN</td>\n",
       "      <td>NaN</td>\n",
       "      <td>NaN</td>\n",
       "      <td>NaN</td>\n",
       "      <td>NaN</td>\n",
       "      <td>NaN</td>\n",
       "      <td>NaN</td>\n",
       "    </tr>\n",
       "  </tbody>\n",
       "</table>\n",
       "<p>5 rows × 100 columns</p>\n",
       "</div>"
      ],
      "text/plain": [
       "video_id    1    2    3    4    5    6    7    8    9    10   ...  91   92   \\\n",
       "date                                                          ...             \n",
       "2017-09-03  NaN  NaN  NaN  NaN  NaN  NaN  NaN  NaN  NaN  NaN  ...  NaN  NaN   \n",
       "2017-09-04  NaN  NaN  NaN  NaN  NaN  NaN  NaN  NaN  NaN  NaN  ...  NaN  NaN   \n",
       "2017-09-05  NaN  NaN  NaN  NaN  NaN  NaN  NaN  NaN  NaN  NaN  ...  NaN  NaN   \n",
       "2017-09-06  NaN  NaN  NaN  NaN  NaN  NaN  NaN  NaN  NaN  NaN  ...  NaN  NaN   \n",
       "2017-09-07  NaN  NaN  NaN  NaN  NaN  NaN  NaN  NaN  NaN  NaN  ...  NaN  NaN   \n",
       "\n",
       "video_id    93   94   95   96   97   98   99   100  \n",
       "date                                                \n",
       "2017-09-03  NaN  NaN  NaN  NaN  NaN  NaN  NaN  NaN  \n",
       "2017-09-04  NaN  NaN  NaN  NaN  NaN  NaN  NaN  NaN  \n",
       "2017-09-05  NaN  NaN  NaN  NaN  NaN  NaN  NaN  NaN  \n",
       "2017-09-06  NaN  NaN  NaN  NaN  NaN  NaN  NaN  NaN  \n",
       "2017-09-07  NaN  NaN  NaN  NaN  NaN  NaN  NaN  NaN  \n",
       "\n",
       "[5 rows x 100 columns]"
      ]
     },
     "execution_count": 52,
     "metadata": {},
     "output_type": "execute_result"
    }
   ],
   "source": [
    "#Moving Average - 3 days\n",
    "Moving_average = videos_matrix.rolling(window=3).mean()\n",
    "Moving_average=Moving_average.shift(1)\n",
    "Moving_average.head()"
   ]
  },
  {
   "cell_type": "code",
   "execution_count": 53,
   "metadata": {
    "collapsed": false
   },
   "outputs": [
    {
     "data": {
      "text/html": [
       "<div>\n",
       "<style scoped>\n",
       "    .dataframe tbody tr th:only-of-type {\n",
       "        vertical-align: middle;\n",
       "    }\n",
       "\n",
       "    .dataframe tbody tr th {\n",
       "        vertical-align: top;\n",
       "    }\n",
       "\n",
       "    .dataframe thead th {\n",
       "        text-align: right;\n",
       "    }\n",
       "</style>\n",
       "<table border=\"1\" class=\"dataframe\">\n",
       "  <thead>\n",
       "    <tr style=\"text-align: right;\">\n",
       "      <th>video_id</th>\n",
       "      <th>1</th>\n",
       "      <th>2</th>\n",
       "      <th>3</th>\n",
       "      <th>4</th>\n",
       "      <th>5</th>\n",
       "      <th>6</th>\n",
       "      <th>7</th>\n",
       "      <th>8</th>\n",
       "      <th>9</th>\n",
       "      <th>10</th>\n",
       "      <th>...</th>\n",
       "      <th>91</th>\n",
       "      <th>92</th>\n",
       "      <th>93</th>\n",
       "      <th>94</th>\n",
       "      <th>95</th>\n",
       "      <th>96</th>\n",
       "      <th>97</th>\n",
       "      <th>98</th>\n",
       "      <th>99</th>\n",
       "      <th>100</th>\n",
       "    </tr>\n",
       "    <tr>\n",
       "      <th>date</th>\n",
       "      <th></th>\n",
       "      <th></th>\n",
       "      <th></th>\n",
       "      <th></th>\n",
       "      <th></th>\n",
       "      <th></th>\n",
       "      <th></th>\n",
       "      <th></th>\n",
       "      <th></th>\n",
       "      <th></th>\n",
       "      <th></th>\n",
       "      <th></th>\n",
       "      <th></th>\n",
       "      <th></th>\n",
       "      <th></th>\n",
       "      <th></th>\n",
       "      <th></th>\n",
       "      <th></th>\n",
       "      <th></th>\n",
       "      <th></th>\n",
       "      <th></th>\n",
       "    </tr>\n",
       "  </thead>\n",
       "  <tbody>\n",
       "    <tr>\n",
       "      <th>2017-09-03</th>\n",
       "      <td>NaN</td>\n",
       "      <td>NaN</td>\n",
       "      <td>NaN</td>\n",
       "      <td>NaN</td>\n",
       "      <td>NaN</td>\n",
       "      <td>NaN</td>\n",
       "      <td>NaN</td>\n",
       "      <td>NaN</td>\n",
       "      <td>NaN</td>\n",
       "      <td>NaN</td>\n",
       "      <td>...</td>\n",
       "      <td>NaN</td>\n",
       "      <td>NaN</td>\n",
       "      <td>NaN</td>\n",
       "      <td>NaN</td>\n",
       "      <td>NaN</td>\n",
       "      <td>NaN</td>\n",
       "      <td>NaN</td>\n",
       "      <td>NaN</td>\n",
       "      <td>NaN</td>\n",
       "      <td>NaN</td>\n",
       "    </tr>\n",
       "    <tr>\n",
       "      <th>2017-09-04</th>\n",
       "      <td>NaN</td>\n",
       "      <td>NaN</td>\n",
       "      <td>NaN</td>\n",
       "      <td>NaN</td>\n",
       "      <td>NaN</td>\n",
       "      <td>NaN</td>\n",
       "      <td>NaN</td>\n",
       "      <td>NaN</td>\n",
       "      <td>NaN</td>\n",
       "      <td>NaN</td>\n",
       "      <td>...</td>\n",
       "      <td>NaN</td>\n",
       "      <td>NaN</td>\n",
       "      <td>NaN</td>\n",
       "      <td>NaN</td>\n",
       "      <td>NaN</td>\n",
       "      <td>NaN</td>\n",
       "      <td>NaN</td>\n",
       "      <td>NaN</td>\n",
       "      <td>NaN</td>\n",
       "      <td>NaN</td>\n",
       "    </tr>\n",
       "    <tr>\n",
       "      <th>2017-09-05</th>\n",
       "      <td>NaN</td>\n",
       "      <td>NaN</td>\n",
       "      <td>NaN</td>\n",
       "      <td>NaN</td>\n",
       "      <td>NaN</td>\n",
       "      <td>NaN</td>\n",
       "      <td>NaN</td>\n",
       "      <td>NaN</td>\n",
       "      <td>NaN</td>\n",
       "      <td>NaN</td>\n",
       "      <td>...</td>\n",
       "      <td>NaN</td>\n",
       "      <td>NaN</td>\n",
       "      <td>NaN</td>\n",
       "      <td>NaN</td>\n",
       "      <td>NaN</td>\n",
       "      <td>NaN</td>\n",
       "      <td>NaN</td>\n",
       "      <td>NaN</td>\n",
       "      <td>NaN</td>\n",
       "      <td>NaN</td>\n",
       "    </tr>\n",
       "    <tr>\n",
       "      <th>2017-09-06</th>\n",
       "      <td>NaN</td>\n",
       "      <td>NaN</td>\n",
       "      <td>NaN</td>\n",
       "      <td>NaN</td>\n",
       "      <td>NaN</td>\n",
       "      <td>NaN</td>\n",
       "      <td>NaN</td>\n",
       "      <td>NaN</td>\n",
       "      <td>NaN</td>\n",
       "      <td>NaN</td>\n",
       "      <td>...</td>\n",
       "      <td>NaN</td>\n",
       "      <td>NaN</td>\n",
       "      <td>NaN</td>\n",
       "      <td>NaN</td>\n",
       "      <td>NaN</td>\n",
       "      <td>NaN</td>\n",
       "      <td>NaN</td>\n",
       "      <td>NaN</td>\n",
       "      <td>NaN</td>\n",
       "      <td>NaN</td>\n",
       "    </tr>\n",
       "    <tr>\n",
       "      <th>2017-09-07</th>\n",
       "      <td>NaN</td>\n",
       "      <td>NaN</td>\n",
       "      <td>NaN</td>\n",
       "      <td>NaN</td>\n",
       "      <td>NaN</td>\n",
       "      <td>NaN</td>\n",
       "      <td>NaN</td>\n",
       "      <td>NaN</td>\n",
       "      <td>NaN</td>\n",
       "      <td>NaN</td>\n",
       "      <td>...</td>\n",
       "      <td>NaN</td>\n",
       "      <td>NaN</td>\n",
       "      <td>NaN</td>\n",
       "      <td>79.0</td>\n",
       "      <td>NaN</td>\n",
       "      <td>NaN</td>\n",
       "      <td>NaN</td>\n",
       "      <td>NaN</td>\n",
       "      <td>NaN</td>\n",
       "      <td>NaN</td>\n",
       "    </tr>\n",
       "  </tbody>\n",
       "</table>\n",
       "<p>5 rows × 100 columns</p>\n",
       "</div>"
      ],
      "text/plain": [
       "video_id    1    2    3    4    5    6    7    8    9    10   ...  91   92   \\\n",
       "date                                                          ...             \n",
       "2017-09-03  NaN  NaN  NaN  NaN  NaN  NaN  NaN  NaN  NaN  NaN  ...  NaN  NaN   \n",
       "2017-09-04  NaN  NaN  NaN  NaN  NaN  NaN  NaN  NaN  NaN  NaN  ...  NaN  NaN   \n",
       "2017-09-05  NaN  NaN  NaN  NaN  NaN  NaN  NaN  NaN  NaN  NaN  ...  NaN  NaN   \n",
       "2017-09-06  NaN  NaN  NaN  NaN  NaN  NaN  NaN  NaN  NaN  NaN  ...  NaN  NaN   \n",
       "2017-09-07  NaN  NaN  NaN  NaN  NaN  NaN  NaN  NaN  NaN  NaN  ...  NaN  NaN   \n",
       "\n",
       "video_id    93    94   95   96   97   98   99   100  \n",
       "date                                                 \n",
       "2017-09-03  NaN   NaN  NaN  NaN  NaN  NaN  NaN  NaN  \n",
       "2017-09-04  NaN   NaN  NaN  NaN  NaN  NaN  NaN  NaN  \n",
       "2017-09-05  NaN   NaN  NaN  NaN  NaN  NaN  NaN  NaN  \n",
       "2017-09-06  NaN   NaN  NaN  NaN  NaN  NaN  NaN  NaN  \n",
       "2017-09-07  NaN  79.0  NaN  NaN  NaN  NaN  NaN  NaN  \n",
       "\n",
       "[5 rows x 100 columns]"
      ]
     },
     "execution_count": 53,
     "metadata": {},
     "output_type": "execute_result"
    }
   ],
   "source": [
    "#Exponential smoothing\n",
    "exp=videos_matrix.ewm(span=12,min_periods=0,adjust=False).mean()\n",
    "exp=exp.shift(1)\n",
    "exp.head()"
   ]
  },
  {
   "cell_type": "code",
   "execution_count": 54,
   "metadata": {
    "collapsed": false
   },
   "outputs": [],
   "source": [
    "# Melting for reshape table\n",
    "ma = pd.melt(Moving_average.reset_index(), id_vars=[\"date\"], var_name=\"video_id\", value_name=\"moving_avg\")\n",
    "exp_melt = pd.melt(exp.reset_index(), id_vars=[\"date\"], var_name=\"video_id\", value_name=\"exp\")"
   ]
  },
  {
   "cell_type": "code",
   "execution_count": 55,
   "metadata": {
    "collapsed": false
   },
   "outputs": [
    {
     "data": {
      "text/html": [
       "<div>\n",
       "<style scoped>\n",
       "    .dataframe tbody tr th:only-of-type {\n",
       "        vertical-align: middle;\n",
       "    }\n",
       "\n",
       "    .dataframe tbody tr th {\n",
       "        vertical-align: top;\n",
       "    }\n",
       "\n",
       "    .dataframe thead th {\n",
       "        text-align: right;\n",
       "    }\n",
       "</style>\n",
       "<table border=\"1\" class=\"dataframe\">\n",
       "  <thead>\n",
       "    <tr style=\"text-align: right;\">\n",
       "      <th></th>\n",
       "      <th>date</th>\n",
       "      <th>video_id</th>\n",
       "      <th>moving_avg</th>\n",
       "    </tr>\n",
       "  </thead>\n",
       "  <tbody>\n",
       "    <tr>\n",
       "      <th>0</th>\n",
       "      <td>2017-09-03</td>\n",
       "      <td>1</td>\n",
       "      <td>NaN</td>\n",
       "    </tr>\n",
       "    <tr>\n",
       "      <th>1</th>\n",
       "      <td>2017-09-04</td>\n",
       "      <td>1</td>\n",
       "      <td>NaN</td>\n",
       "    </tr>\n",
       "    <tr>\n",
       "      <th>2</th>\n",
       "      <td>2017-09-05</td>\n",
       "      <td>1</td>\n",
       "      <td>NaN</td>\n",
       "    </tr>\n",
       "    <tr>\n",
       "      <th>3</th>\n",
       "      <td>2017-09-06</td>\n",
       "      <td>1</td>\n",
       "      <td>NaN</td>\n",
       "    </tr>\n",
       "    <tr>\n",
       "      <th>4</th>\n",
       "      <td>2017-09-07</td>\n",
       "      <td>1</td>\n",
       "      <td>NaN</td>\n",
       "    </tr>\n",
       "  </tbody>\n",
       "</table>\n",
       "</div>"
      ],
      "text/plain": [
       "        date video_id  moving_avg\n",
       "0 2017-09-03        1         NaN\n",
       "1 2017-09-04        1         NaN\n",
       "2 2017-09-05        1         NaN\n",
       "3 2017-09-06        1         NaN\n",
       "4 2017-09-07        1         NaN"
      ]
     },
     "execution_count": 55,
     "metadata": {},
     "output_type": "execute_result"
    }
   ],
   "source": [
    "ma.head()"
   ]
  },
  {
   "cell_type": "code",
   "execution_count": 56,
   "metadata": {
    "collapsed": false
   },
   "outputs": [],
   "source": [
    "videos_merge=pd.merge(ma, videos_merge, how='inner', on=[\"video_id\" , \"date\"])\n",
    "videos_merge=pd.merge(exp_melt, videos_merge, how='inner', on=[\"video_id\" , \"date\"])"
   ]
  },
  {
   "cell_type": "code",
   "execution_count": 57,
   "metadata": {
    "collapsed": false
   },
   "outputs": [],
   "source": [
    "# Change quality feature to numric varianle\n",
    "videos_merge['video_quality'] = videos_merge['video_quality'].map(lambda x: x.rstrip('p'))"
   ]
  },
  {
   "cell_type": "code",
   "execution_count": 58,
   "metadata": {
    "collapsed": true
   },
   "outputs": [],
   "source": [
    "videos_merge['video_quality'] = videos_merge['video_quality'].astype('int64')"
   ]
  },
  {
   "cell_type": "code",
   "execution_count": 59,
   "metadata": {
    "collapsed": true
   },
   "outputs": [],
   "source": [
    "videos_merge['video_language'] = videos_merge['video_language'].astype('category')"
   ]
  },
  {
   "cell_type": "markdown",
   "metadata": {},
   "source": [
    "Get column with the number of days elapsed between last date and uploaded date"
   ]
  },
  {
   "cell_type": "code",
   "execution_count": 60,
   "metadata": {
    "collapsed": true
   },
   "outputs": [],
   "source": [
    "videos_merge['video_upload_date']=pd.to_datetime(videos_merge['video_upload_date'])"
   ]
  },
  {
   "cell_type": "code",
   "execution_count": 61,
   "metadata": {
    "collapsed": false
   },
   "outputs": [],
   "source": [
    "videos_merge['elapsed_days_from_uplaod']=videos_merge['date'].sub(videos_merge['video_upload_date'], axis=0)\n",
    "videos_merge['elapsed_days_from_uplaod']=videos_merge['elapsed_days_from_uplaod'].dt.days"
   ]
  },
  {
   "cell_type": "markdown",
   "metadata": {},
   "source": [
    "Let's check the relationship between the amount of views per day of a video and the number of days it is published on the website"
   ]
  },
  {
   "cell_type": "code",
   "execution_count": 62,
   "metadata": {
    "collapsed": false,
    "scrolled": false
   },
   "outputs": [
    {
     "data": {
      "text/plain": [
       "Text(0, 0.5, 'Views_per_day')"
      ]
     },
     "execution_count": 62,
     "metadata": {},
     "output_type": "execute_result"
    },
    {
     "data": {
      "image/png": "[encoded data removed]",
      "text/plain": [
       "<Figure size 576x576 with 1 Axes>"
      ]
     },
     "metadata": {},
     "output_type": "display_data"
    }
   ],
   "source": [
    "plt.plot(videos_merge['elapsed_days_from_uplaod'], videos_merge['n.of_views'], 'o', color='black');\n",
    "plt.title('Views')\n",
    "plt.xlabel('Elapsed_days_from_uplaod')\n",
    "plt.ylabel('Views_per_day')"
   ]
  },
  {
   "cell_type": "markdown",
   "metadata": {},
   "source": [
    "It seems that the number of views decreases when time from uplaod increases."
   ]
  },
  {
   "cell_type": "code",
   "execution_count": 63,
   "metadata": {
    "collapsed": false
   },
   "outputs": [
    {
     "data": {
      "text/plain": [
       "Text(0, 0.5, 'Views_per_day')"
      ]
     },
     "execution_count": 63,
     "metadata": {},
     "output_type": "execute_result"
    },
    {
     "data": {
      "image/png": "[encoded data removed]",
      "text/plain": [
       "<Figure size 576x576 with 1 Axes>"
      ]
     },
     "metadata": {},
     "output_type": "display_data"
    }
   ],
   "source": [
    "plt.plot(videos_merge['video_quality'], videos_merge['n.of_views'], 'o', color='black');\n",
    "plt.title('Views')\n",
    "plt.xlabel('Video_quality')\n",
    "plt.ylabel('Views_per_day')"
   ]
  },
  {
   "cell_type": "markdown",
   "metadata": {},
   "source": [
    "#### Correlation Matrix"
   ]
  },
  {
   "cell_type": "code",
   "execution_count": 64,
   "metadata": {
    "collapsed": false
   },
   "outputs": [
    {
     "data": {
      "image/png": "[encoded data removed]",
      "text/plain": [
       "<Figure size 792x648 with 2 Axes>"
      ]
     },
     "metadata": {},
     "output_type": "display_data"
    }
   ],
   "source": [
    "# Compute the correlation matrix for the numeric features\n",
    "sns.set(style=\"white\")\n",
    "\n",
    "corr = videos_merge.corr()\n",
    "\n",
    "# Generate a mask for the upper triangle\n",
    "mask = np.zeros_like(corr, dtype=np.bool)\n",
    "mask[np.triu_indices_from(mask)] = True\n",
    "\n",
    "# Set up the matplotlib figure\n",
    "f, ax = plt.subplots(figsize=(11, 9))\n",
    "\n",
    "# Generate a custom diverging colormap\n",
    "cmap = sns.diverging_palette(220, 10, as_cmap=True)\n",
    "\n",
    "# Draw the heatmap with the mask and correct aspect ratio\n",
    "sns.heatmap(corr, mask=mask, cmap=cmap, vmax=.3, center=0,\n",
    "            square=True, linewidths=.5, cbar_kws={\"shrink\": .5})\n",
    "plt.show()"
   ]
  },
  {
   "cell_type": "markdown",
   "metadata": {},
   "source": [
    "It seems that the number of views is affected by the number of views from previous days (positive affect) and the video length (negative affect). "
   ]
  },
  {
   "cell_type": "code",
   "execution_count": 65,
   "metadata": {
    "collapsed": true
   },
   "outputs": [],
   "source": [
    "co = corr.unstack()"
   ]
  },
  {
   "cell_type": "markdown",
   "metadata": {},
   "source": [
    "Positive correlation"
   ]
  },
  {
   "cell_type": "code",
   "execution_count": 66,
   "metadata": {
    "collapsed": false
   },
   "outputs": [
    {
     "data": {
      "text/html": [
       "<div>\n",
       "<style scoped>\n",
       "    .dataframe tbody tr th:only-of-type {\n",
       "        vertical-align: middle;\n",
       "    }\n",
       "\n",
       "    .dataframe tbody tr th {\n",
       "        vertical-align: top;\n",
       "    }\n",
       "\n",
       "    .dataframe thead th {\n",
       "        text-align: right;\n",
       "    }\n",
       "</style>\n",
       "<table border=\"1\" class=\"dataframe\">\n",
       "  <thead>\n",
       "    <tr style=\"text-align: right;\">\n",
       "      <th></th>\n",
       "      <th></th>\n",
       "      <th>0</th>\n",
       "    </tr>\n",
       "  </thead>\n",
       "  <tbody>\n",
       "    <tr>\n",
       "      <th>n.of_views</th>\n",
       "      <th>moving_avg</th>\n",
       "      <td>0.834733</td>\n",
       "    </tr>\n",
       "    <tr>\n",
       "      <th>moving_avg</th>\n",
       "      <th>n.of_views</th>\n",
       "      <td>0.834733</td>\n",
       "    </tr>\n",
       "    <tr>\n",
       "      <th>n.of_views</th>\n",
       "      <th>exp</th>\n",
       "      <td>0.859920</td>\n",
       "    </tr>\n",
       "    <tr>\n",
       "      <th>exp</th>\n",
       "      <th>n.of_views</th>\n",
       "      <td>0.859920</td>\n",
       "    </tr>\n",
       "    <tr>\n",
       "      <th>moving_avg</th>\n",
       "      <th>exp</th>\n",
       "      <td>0.975535</td>\n",
       "    </tr>\n",
       "    <tr>\n",
       "      <th rowspan=\"2\" valign=\"top\">exp</th>\n",
       "      <th>moving_avg</th>\n",
       "      <td>0.975535</td>\n",
       "    </tr>\n",
       "    <tr>\n",
       "      <th>exp</th>\n",
       "      <td>1.000000</td>\n",
       "    </tr>\n",
       "    <tr>\n",
       "      <th>video_length</th>\n",
       "      <th>video_length</th>\n",
       "      <td>1.000000</td>\n",
       "    </tr>\n",
       "    <tr>\n",
       "      <th>n.of_views</th>\n",
       "      <th>n.of_views</th>\n",
       "      <td>1.000000</td>\n",
       "    </tr>\n",
       "    <tr>\n",
       "      <th>moving_avg</th>\n",
       "      <th>moving_avg</th>\n",
       "      <td>1.000000</td>\n",
       "    </tr>\n",
       "    <tr>\n",
       "      <th>video_quality</th>\n",
       "      <th>video_quality</th>\n",
       "      <td>1.000000</td>\n",
       "    </tr>\n",
       "    <tr>\n",
       "      <th>elapsed_days_from_uplaod</th>\n",
       "      <th>elapsed_days_from_uplaod</th>\n",
       "      <td>1.000000</td>\n",
       "    </tr>\n",
       "  </tbody>\n",
       "</table>\n",
       "</div>"
      ],
      "text/plain": [
       "                                                          0\n",
       "n.of_views               moving_avg                0.834733\n",
       "moving_avg               n.of_views                0.834733\n",
       "n.of_views               exp                       0.859920\n",
       "exp                      n.of_views                0.859920\n",
       "moving_avg               exp                       0.975535\n",
       "exp                      moving_avg                0.975535\n",
       "                         exp                       1.000000\n",
       "video_length             video_length              1.000000\n",
       "n.of_views               n.of_views                1.000000\n",
       "moving_avg               moving_avg                1.000000\n",
       "video_quality            video_quality             1.000000\n",
       "elapsed_days_from_uplaod elapsed_days_from_uplaod  1.000000"
      ]
     },
     "execution_count": 66,
     "metadata": {},
     "output_type": "execute_result"
    }
   ],
   "source": [
    "sort_cor = co.sort_values(kind=\"quicksort\")\n",
    "pd.DataFrame(sort_cor[sort_cor > 0.8])"
   ]
  },
  {
   "cell_type": "markdown",
   "metadata": {},
   "source": [
    "Negative correlation"
   ]
  },
  {
   "cell_type": "code",
   "execution_count": 67,
   "metadata": {
    "collapsed": false
   },
   "outputs": [
    {
     "data": {
      "text/html": [
       "<div>\n",
       "<style scoped>\n",
       "    .dataframe tbody tr th:only-of-type {\n",
       "        vertical-align: middle;\n",
       "    }\n",
       "\n",
       "    .dataframe tbody tr th {\n",
       "        vertical-align: top;\n",
       "    }\n",
       "\n",
       "    .dataframe thead th {\n",
       "        text-align: right;\n",
       "    }\n",
       "</style>\n",
       "<table border=\"1\" class=\"dataframe\">\n",
       "  <thead>\n",
       "    <tr style=\"text-align: right;\">\n",
       "      <th></th>\n",
       "      <th></th>\n",
       "      <th>0</th>\n",
       "    </tr>\n",
       "  </thead>\n",
       "  <tbody>\n",
       "    <tr>\n",
       "      <th>exp</th>\n",
       "      <th>video_length</th>\n",
       "      <td>-0.823832</td>\n",
       "    </tr>\n",
       "    <tr>\n",
       "      <th rowspan=\"2\" valign=\"top\">video_length</th>\n",
       "      <th>exp</th>\n",
       "      <td>-0.823832</td>\n",
       "    </tr>\n",
       "    <tr>\n",
       "      <th>moving_avg</th>\n",
       "      <td>-0.807272</td>\n",
       "    </tr>\n",
       "    <tr>\n",
       "      <th>moving_avg</th>\n",
       "      <th>video_length</th>\n",
       "      <td>-0.807272</td>\n",
       "    </tr>\n",
       "  </tbody>\n",
       "</table>\n",
       "</div>"
      ],
      "text/plain": [
       "                                  0\n",
       "exp          video_length -0.823832\n",
       "video_length exp          -0.823832\n",
       "             moving_avg   -0.807272\n",
       "moving_avg   video_length -0.807272"
      ]
     },
     "execution_count": 67,
     "metadata": {},
     "output_type": "execute_result"
    }
   ],
   "source": [
    "sort_cor = co.sort_values(kind=\"quicksort\")\n",
    "pd.DataFrame(sort_cor[sort_cor < -0.8])"
   ]
  },
  {
   "cell_type": "code",
   "execution_count": 69,
   "metadata": {
    "collapsed": false
   },
   "outputs": [],
   "source": [
    "videos_merge['exp']=np.round(videos_merge['exp'], decimals=2)"
   ]
  },
  {
   "cell_type": "code",
   "execution_count": 70,
   "metadata": {
    "collapsed": true
   },
   "outputs": [],
   "source": [
    "videos_merge['moving_avg']=np.round(videos_merge['moving_avg'], decimals=2)"
   ]
  },
  {
   "cell_type": "code",
   "execution_count": 185,
   "metadata": {
    "collapsed": true
   },
   "outputs": [],
   "source": [
    "data=videos_merge.drop(['video_id','video_upload_date','date'], axis = 1)"
   ]
  },
  {
   "cell_type": "markdown",
   "metadata": {},
   "source": [
    "Dealing with missing values"
   ]
  },
  {
   "cell_type": "code",
   "execution_count": 186,
   "metadata": {
    "collapsed": false
   },
   "outputs": [],
   "source": [
    "data['moving_avg']=data.apply(lambda x: x['n.of_views'] if pd.isnull(x['moving_avg']) else x['moving_avg'], axis=1)"
   ]
  },
  {
   "cell_type": "code",
   "execution_count": 187,
   "metadata": {
    "collapsed": false
   },
   "outputs": [],
   "source": [
    "data['exp']=data.apply(lambda x: x['n.of_views'] if pd.isnull(x['exp']) else x['exp'], axis=1)"
   ]
  },
  {
   "cell_type": "code",
   "execution_count": 188,
   "metadata": {
    "collapsed": true
   },
   "outputs": [],
   "source": [
    "num_columns = data._get_numeric_data().columns\n",
    "numeric_data = data[num_columns]"
   ]
  },
  {
   "cell_type": "markdown",
   "metadata": {},
   "source": [
    "#### Feature Importance"
   ]
  },
  {
   "cell_type": "code",
   "execution_count": 122,
   "metadata": {
    "collapsed": false
   },
   "outputs": [
    {
     "name": "stdout",
     "output_type": "stream",
     "text": [
      "0:\tlearn: 80.0464803\ttotal: 94.4ms\tremaining: 37.7s\n",
      "1:\tlearn: 77.8025584\ttotal: 231ms\tremaining: 46s\n",
      "2:\tlearn: 75.6261636\ttotal: 431ms\tremaining: 57s\n",
      "3:\tlearn: 73.5220518\ttotal: 608ms\tremaining: 1m\n",
      "4:\tlearn: 71.4726033\ttotal: 847ms\tremaining: 1m 6s\n",
      "5:\tlearn: 69.4752391\ttotal: 1.09s\tremaining: 1m 11s\n",
      "6:\tlearn: 67.5410689\ttotal: 1.42s\tremaining: 1m 19s\n",
      "7:\tlearn: 65.6947501\ttotal: 1.62s\tremaining: 1m 19s\n",
      "8:\tlearn: 63.9365764\ttotal: 1.7s\tremaining: 1m 14s\n",
      "9:\tlearn: 62.1885882\ttotal: 1.88s\tremaining: 1m 13s\n",
      "10:\tlearn: 60.5145017\ttotal: 1.99s\tremaining: 1m 10s\n",
      "11:\tlearn: 58.8803142\ttotal: 2.12s\tremaining: 1m 8s\n",
      "12:\tlearn: 57.3216354\ttotal: 2.21s\tremaining: 1m 5s\n",
      "13:\tlearn: 55.7884599\ttotal: 2.32s\tremaining: 1m 3s\n",
      "14:\tlearn: 54.3554752\ttotal: 2.38s\tremaining: 1m 1s\n",
      "15:\tlearn: 52.9493620\ttotal: 2.49s\tremaining: 59.8s\n",
      "16:\tlearn: 51.5631658\ttotal: 2.59s\tremaining: 58.3s\n",
      "17:\tlearn: 50.2200860\ttotal: 2.73s\tremaining: 57.9s\n",
      "18:\tlearn: 48.9463737\ttotal: 2.79s\tremaining: 56s\n",
      "19:\tlearn: 47.6709135\ttotal: 2.91s\tremaining: 55.3s\n",
      "20:\tlearn: 46.4992264\ttotal: 2.97s\tremaining: 53.7s\n",
      "21:\tlearn: 45.3128686\ttotal: 3.07s\tremaining: 52.7s\n",
      "22:\tlearn: 44.1617334\ttotal: 3.18s\tremaining: 52.2s\n",
      "23:\tlearn: 43.0567360\ttotal: 3.3s\tremaining: 51.7s\n",
      "24:\tlearn: 41.9809084\ttotal: 3.39s\tremaining: 50.9s\n",
      "25:\tlearn: 40.9755052\ttotal: 3.46s\tremaining: 49.8s\n",
      "26:\tlearn: 39.9874966\ttotal: 3.56s\tremaining: 49.2s\n",
      "27:\tlearn: 39.0287148\ttotal: 3.64s\tremaining: 48.4s\n",
      "28:\tlearn: 38.1104830\ttotal: 3.71s\tremaining: 47.4s\n",
      "29:\tlearn: 37.2066756\ttotal: 3.82s\tremaining: 47.1s\n",
      "30:\tlearn: 36.3490713\ttotal: 3.93s\tremaining: 46.8s\n",
      "31:\tlearn: 35.5143363\ttotal: 4.01s\tremaining: 46.2s\n",
      "32:\tlearn: 34.7045852\ttotal: 4.09s\tremaining: 45.4s\n",
      "33:\tlearn: 33.9544616\ttotal: 4.14s\tremaining: 44.6s\n",
      "34:\tlearn: 33.2429360\ttotal: 4.19s\tremaining: 43.7s\n",
      "35:\tlearn: 32.5219097\ttotal: 4.29s\tremaining: 43.3s\n",
      "36:\tlearn: 31.8343776\ttotal: 4.35s\tremaining: 42.7s\n",
      "37:\tlearn: 31.1749038\ttotal: 4.41s\tremaining: 42s\n",
      "38:\tlearn: 30.5253808\ttotal: 4.53s\tremaining: 41.9s\n",
      "39:\tlearn: 29.9105514\ttotal: 4.62s\tremaining: 41.6s\n",
      "40:\tlearn: 29.3151602\ttotal: 4.73s\tremaining: 41.5s\n",
      "41:\tlearn: 28.7573841\ttotal: 4.8s\tremaining: 40.9s\n",
      "42:\tlearn: 28.2134169\ttotal: 4.91s\tremaining: 40.8s\n",
      "43:\tlearn: 27.6850090\ttotal: 4.97s\tremaining: 40.2s\n",
      "44:\tlearn: 27.1672582\ttotal: 5.04s\tremaining: 39.7s\n",
      "45:\tlearn: 26.6756406\ttotal: 5.12s\tremaining: 39.4s\n",
      "46:\tlearn: 26.2123995\ttotal: 5.17s\tremaining: 38.8s\n",
      "47:\tlearn: 25.7494979\ttotal: 5.25s\tremaining: 38.5s\n",
      "48:\tlearn: 25.3149299\ttotal: 5.33s\tremaining: 38.2s\n",
      "49:\tlearn: 24.8940160\ttotal: 5.46s\tremaining: 38.2s\n",
      "50:\tlearn: 24.4949495\ttotal: 5.53s\tremaining: 37.8s\n",
      "51:\tlearn: 24.1104265\ttotal: 5.62s\tremaining: 37.6s\n",
      "52:\tlearn: 23.7489300\ttotal: 5.76s\tremaining: 37.7s\n",
      "53:\tlearn: 23.3903317\ttotal: 5.85s\tremaining: 37.5s\n",
      "54:\tlearn: 23.0580953\ttotal: 5.97s\tremaining: 37.4s\n",
      "55:\tlearn: 22.7374119\ttotal: 6.08s\tremaining: 37.4s\n",
      "56:\tlearn: 22.4400156\ttotal: 6.14s\tremaining: 37s\n",
      "57:\tlearn: 22.1427653\ttotal: 6.25s\tremaining: 36.9s\n",
      "58:\tlearn: 21.8571325\ttotal: 6.39s\tremaining: 36.9s\n",
      "59:\tlearn: 21.5927017\ttotal: 6.47s\tremaining: 36.7s\n",
      "60:\tlearn: 21.3394141\ttotal: 6.54s\tremaining: 36.3s\n",
      "61:\tlearn: 21.0925443\ttotal: 6.61s\tremaining: 36s\n",
      "62:\tlearn: 20.8607642\ttotal: 6.69s\tremaining: 35.8s\n",
      "63:\tlearn: 20.6319015\ttotal: 6.79s\tremaining: 35.6s\n",
      "64:\tlearn: 20.4311488\ttotal: 6.83s\tremaining: 35.2s\n",
      "65:\tlearn: 20.2467049\ttotal: 6.88s\tremaining: 34.8s\n",
      "66:\tlearn: 20.0774005\ttotal: 6.92s\tremaining: 34.4s\n",
      "67:\tlearn: 19.8938931\ttotal: 6.99s\tremaining: 34.1s\n",
      "68:\tlearn: 19.7172661\ttotal: 7.06s\tremaining: 33.9s\n",
      "69:\tlearn: 19.5628901\ttotal: 7.16s\tremaining: 33.8s\n",
      "70:\tlearn: 19.4023311\ttotal: 7.23s\tremaining: 33.5s\n",
      "71:\tlearn: 19.2485075\ttotal: 7.3s\tremaining: 33.3s\n",
      "72:\tlearn: 19.1099108\ttotal: 7.36s\tremaining: 33s\n",
      "73:\tlearn: 18.9738996\ttotal: 7.42s\tremaining: 32.7s\n",
      "74:\tlearn: 18.8338888\ttotal: 7.49s\tremaining: 32.5s\n",
      "75:\tlearn: 18.7120319\ttotal: 7.59s\tremaining: 32.4s\n",
      "76:\tlearn: 18.5927969\ttotal: 7.64s\tremaining: 32.1s\n",
      "77:\tlearn: 18.4791110\ttotal: 7.71s\tremaining: 31.8s\n",
      "78:\tlearn: 18.3743757\ttotal: 7.79s\tremaining: 31.7s\n",
      "79:\tlearn: 18.2756318\ttotal: 7.88s\tremaining: 31.5s\n",
      "80:\tlearn: 18.1755534\ttotal: 7.96s\tremaining: 31.3s\n",
      "81:\tlearn: 18.0872783\ttotal: 8.01s\tremaining: 31.1s\n",
      "82:\tlearn: 18.0119591\ttotal: 8.04s\tremaining: 30.7s\n",
      "83:\tlearn: 17.9257471\ttotal: 8.16s\tremaining: 30.7s\n",
      "84:\tlearn: 17.8517367\ttotal: 8.22s\tremaining: 30.5s\n",
      "85:\tlearn: 17.7792444\ttotal: 8.28s\tremaining: 30.2s\n",
      "86:\tlearn: 17.7062959\ttotal: 8.34s\tremaining: 30s\n",
      "87:\tlearn: 17.6372054\ttotal: 8.45s\tremaining: 29.9s\n",
      "88:\tlearn: 17.5667700\ttotal: 8.59s\tremaining: 30s\n",
      "89:\tlearn: 17.5044398\ttotal: 8.68s\tremaining: 29.9s\n",
      "90:\tlearn: 17.4506560\ttotal: 8.73s\tremaining: 29.6s\n",
      "91:\tlearn: 17.4042297\ttotal: 8.76s\tremaining: 29.3s\n",
      "92:\tlearn: 17.3488836\ttotal: 8.86s\tremaining: 29.3s\n",
      "93:\tlearn: 17.2989848\ttotal: 8.97s\tremaining: 29.2s\n",
      "94:\tlearn: 17.2532529\ttotal: 9.06s\tremaining: 29.1s\n",
      "95:\tlearn: 17.2071777\ttotal: 9.12s\tremaining: 28.9s\n",
      "96:\tlearn: 17.1663678\ttotal: 9.19s\tremaining: 28.7s\n",
      "97:\tlearn: 17.1301994\ttotal: 9.24s\tremaining: 28.5s\n",
      "98:\tlearn: 17.0857254\ttotal: 9.32s\tremaining: 28.3s\n",
      "99:\tlearn: 17.0469449\ttotal: 9.37s\tremaining: 28.1s\n",
      "100:\tlearn: 17.0043359\ttotal: 9.44s\tremaining: 27.9s\n",
      "101:\tlearn: 16.9635530\ttotal: 9.52s\tremaining: 27.8s\n",
      "102:\tlearn: 16.9302130\ttotal: 9.57s\tremaining: 27.6s\n",
      "103:\tlearn: 16.8947376\ttotal: 9.62s\tremaining: 27.4s\n",
      "104:\tlearn: 16.8609907\ttotal: 9.67s\tremaining: 27.2s\n",
      "105:\tlearn: 16.8283323\ttotal: 9.75s\tremaining: 27s\n",
      "106:\tlearn: 16.8019499\ttotal: 9.81s\tremaining: 26.9s\n",
      "107:\tlearn: 16.7765902\ttotal: 9.84s\tremaining: 26.6s\n",
      "108:\tlearn: 16.7530198\ttotal: 9.88s\tremaining: 26.4s\n",
      "109:\tlearn: 16.7290779\ttotal: 9.95s\tremaining: 26.2s\n",
      "110:\tlearn: 16.7060833\ttotal: 10s\tremaining: 26.1s\n",
      "111:\tlearn: 16.6811608\ttotal: 10.1s\tremaining: 26s\n",
      "112:\tlearn: 16.6599156\ttotal: 10.2s\tremaining: 25.9s\n",
      "113:\tlearn: 16.6389243\ttotal: 10.2s\tremaining: 25.7s\n",
      "114:\tlearn: 16.6173339\ttotal: 10.3s\tremaining: 25.6s\n",
      "115:\tlearn: 16.5973722\ttotal: 10.4s\tremaining: 25.4s\n",
      "116:\tlearn: 16.5792115\ttotal: 10.4s\tremaining: 25.2s\n",
      "117:\tlearn: 16.5620890\ttotal: 10.5s\tremaining: 25.1s\n",
      "118:\tlearn: 16.5460198\ttotal: 10.6s\tremaining: 24.9s\n",
      "119:\tlearn: 16.5308930\ttotal: 10.6s\tremaining: 24.8s\n",
      "120:\tlearn: 16.5142723\ttotal: 10.7s\tremaining: 24.6s\n",
      "121:\tlearn: 16.4973629\ttotal: 10.8s\tremaining: 24.5s\n",
      "122:\tlearn: 16.4881700\ttotal: 10.8s\tremaining: 24.3s\n",
      "123:\tlearn: 16.4729829\ttotal: 10.9s\tremaining: 24.2s\n",
      "124:\tlearn: 16.4594331\ttotal: 10.9s\tremaining: 24.1s\n",
      "125:\tlearn: 16.4463288\ttotal: 11s\tremaining: 24s\n",
      "126:\tlearn: 16.4345370\ttotal: 11.1s\tremaining: 23.9s\n",
      "127:\tlearn: 16.4264329\ttotal: 11.1s\tremaining: 23.7s\n",
      "128:\tlearn: 16.4148482\ttotal: 11.2s\tremaining: 23.6s\n",
      "129:\tlearn: 16.4064677\ttotal: 11.3s\tremaining: 23.5s\n",
      "130:\tlearn: 16.3964001\ttotal: 11.4s\tremaining: 23.4s\n",
      "131:\tlearn: 16.3862763\ttotal: 11.4s\tremaining: 23.2s\n",
      "132:\tlearn: 16.3772465\ttotal: 11.6s\tremaining: 23.2s\n",
      "133:\tlearn: 16.3688670\ttotal: 11.7s\tremaining: 23.1s\n",
      "134:\tlearn: 16.3599096\ttotal: 11.7s\tremaining: 23s\n",
      "135:\tlearn: 16.3528420\ttotal: 11.8s\tremaining: 22.9s\n",
      "136:\tlearn: 16.3456593\ttotal: 11.9s\tremaining: 22.8s\n",
      "137:\tlearn: 16.3404973\ttotal: 11.9s\tremaining: 22.6s\n",
      "138:\tlearn: 16.3335483\ttotal: 12s\tremaining: 22.5s\n",
      "139:\tlearn: 16.3281366\ttotal: 12s\tremaining: 22.3s\n",
      "140:\tlearn: 16.3234777\ttotal: 12.1s\tremaining: 22.2s\n",
      "141:\tlearn: 16.3172395\ttotal: 12.1s\tremaining: 22s\n",
      "142:\tlearn: 16.3114868\ttotal: 12.2s\tremaining: 21.9s\n",
      "143:\tlearn: 16.3052450\ttotal: 12.3s\tremaining: 21.8s\n",
      "144:\tlearn: 16.2987308\ttotal: 12.3s\tremaining: 21.7s\n",
      "145:\tlearn: 16.2962248\ttotal: 12.4s\tremaining: 21.5s\n",
      "146:\tlearn: 16.2927117\ttotal: 12.4s\tremaining: 21.4s\n",
      "147:\tlearn: 16.2884832\ttotal: 12.5s\tremaining: 21.2s\n",
      "148:\tlearn: 16.2846164\ttotal: 12.5s\tremaining: 21.1s\n",
      "149:\tlearn: 16.2812840\ttotal: 12.6s\tremaining: 21s\n",
      "150:\tlearn: 16.2791314\ttotal: 12.6s\tremaining: 20.8s\n",
      "151:\tlearn: 16.2738099\ttotal: 12.7s\tremaining: 20.7s\n",
      "152:\tlearn: 16.2699446\ttotal: 12.7s\tremaining: 20.6s\n",
      "153:\tlearn: 16.2660922\ttotal: 12.8s\tremaining: 20.5s\n",
      "154:\tlearn: 16.2622963\ttotal: 12.9s\tremaining: 20.4s\n",
      "155:\tlearn: 16.2586833\ttotal: 13s\tremaining: 20.3s\n",
      "156:\tlearn: 16.2559884\ttotal: 13s\tremaining: 20.2s\n",
      "157:\tlearn: 16.2540148\ttotal: 13.1s\tremaining: 20s\n",
      "158:\tlearn: 16.2505706\ttotal: 13.2s\tremaining: 20s\n",
      "159:\tlearn: 16.2471584\ttotal: 13.3s\tremaining: 19.9s\n",
      "160:\tlearn: 16.2448946\ttotal: 13.4s\tremaining: 19.8s\n",
      "161:\tlearn: 16.2422272\ttotal: 13.4s\tremaining: 19.7s\n",
      "162:\tlearn: 16.2396041\ttotal: 13.5s\tremaining: 19.6s\n",
      "163:\tlearn: 16.2366800\ttotal: 13.6s\tremaining: 19.6s\n",
      "164:\tlearn: 16.2343941\ttotal: 13.7s\tremaining: 19.5s\n",
      "165:\tlearn: 16.2327331\ttotal: 13.7s\tremaining: 19.3s\n",
      "166:\tlearn: 16.2302866\ttotal: 13.8s\tremaining: 19.2s\n",
      "167:\tlearn: 16.2278560\ttotal: 13.8s\tremaining: 19.1s\n",
      "168:\tlearn: 16.2252571\ttotal: 13.9s\tremaining: 19s\n",
      "169:\tlearn: 16.2194496\ttotal: 14s\tremaining: 18.9s\n",
      "170:\tlearn: 16.2138789\ttotal: 14.1s\tremaining: 18.8s\n",
      "171:\tlearn: 16.2118818\ttotal: 14.1s\tremaining: 18.7s\n",
      "172:\tlearn: 16.2094682\ttotal: 14.2s\tremaining: 18.6s\n",
      "173:\tlearn: 16.2084488\ttotal: 14.2s\tremaining: 18.5s\n",
      "174:\tlearn: 16.2061408\ttotal: 14.3s\tremaining: 18.3s\n",
      "175:\tlearn: 16.2050333\ttotal: 14.3s\tremaining: 18.2s\n",
      "176:\tlearn: 16.2036070\ttotal: 14.3s\tremaining: 18.1s\n",
      "177:\tlearn: 16.2015394\ttotal: 14.4s\tremaining: 18s\n",
      "178:\tlearn: 16.1972665\ttotal: 14.5s\tremaining: 17.9s\n",
      "179:\tlearn: 16.1955757\ttotal: 14.5s\tremaining: 17.7s\n",
      "180:\tlearn: 16.1938671\ttotal: 14.6s\tremaining: 17.6s\n",
      "181:\tlearn: 16.1924675\ttotal: 14.6s\tremaining: 17.5s\n",
      "182:\tlearn: 16.1913535\ttotal: 14.6s\tremaining: 17.4s\n",
      "183:\tlearn: 16.1898481\ttotal: 14.7s\tremaining: 17.2s\n",
      "184:\tlearn: 16.1874995\ttotal: 14.7s\tremaining: 17.1s\n",
      "185:\tlearn: 16.1862785\ttotal: 14.8s\tremaining: 17s\n",
      "186:\tlearn: 16.1849415\ttotal: 14.8s\tremaining: 16.9s\n",
      "187:\tlearn: 16.1832026\ttotal: 14.9s\tremaining: 16.8s\n",
      "188:\tlearn: 16.1817426\ttotal: 14.9s\tremaining: 16.7s\n",
      "189:\tlearn: 16.1768605\ttotal: 15s\tremaining: 16.6s\n",
      "190:\tlearn: 16.1759987\ttotal: 15s\tremaining: 16.4s\n",
      "191:\tlearn: 16.1722808\ttotal: 15.1s\tremaining: 16.3s\n",
      "192:\tlearn: 16.1702237\ttotal: 15.1s\tremaining: 16.2s\n",
      "193:\tlearn: 16.1690189\ttotal: 15.2s\tremaining: 16.1s\n",
      "194:\tlearn: 16.1666234\ttotal: 15.3s\tremaining: 16s\n",
      "195:\tlearn: 16.1659569\ttotal: 15.3s\tremaining: 15.9s\n",
      "196:\tlearn: 16.1652022\ttotal: 15.3s\tremaining: 15.8s\n",
      "197:\tlearn: 16.1650163\ttotal: 15.4s\tremaining: 15.7s\n",
      "198:\tlearn: 16.1637351\ttotal: 15.4s\tremaining: 15.6s\n",
      "199:\tlearn: 16.1625072\ttotal: 15.5s\tremaining: 15.5s\n",
      "200:\tlearn: 16.1615863\ttotal: 15.5s\tremaining: 15.4s\n",
      "201:\tlearn: 16.1603520\ttotal: 15.6s\tremaining: 15.3s\n",
      "202:\tlearn: 16.1600134\ttotal: 15.6s\tremaining: 15.2s\n",
      "203:\tlearn: 16.1583223\ttotal: 15.7s\tremaining: 15.1s\n",
      "204:\tlearn: 16.1579123\ttotal: 15.7s\tremaining: 14.9s\n",
      "205:\tlearn: 16.1566240\ttotal: 15.8s\tremaining: 14.9s\n",
      "206:\tlearn: 16.1562613\ttotal: 15.8s\tremaining: 14.8s\n",
      "207:\tlearn: 16.1558249\ttotal: 15.9s\tremaining: 14.6s\n",
      "208:\tlearn: 16.1539893\ttotal: 15.9s\tremaining: 14.6s\n",
      "209:\tlearn: 16.1502130\ttotal: 16s\tremaining: 14.5s\n",
      "210:\tlearn: 16.1482355\ttotal: 16.1s\tremaining: 14.4s\n",
      "211:\tlearn: 16.1477784\ttotal: 16.2s\tremaining: 14.3s\n",
      "212:\tlearn: 16.1473539\ttotal: 16.2s\tremaining: 14.2s\n",
      "213:\tlearn: 16.1464539\ttotal: 16.2s\tremaining: 14.1s\n",
      "214:\tlearn: 16.1447895\ttotal: 16.3s\tremaining: 14s\n",
      "215:\tlearn: 16.1439579\ttotal: 16.4s\tremaining: 13.9s\n",
      "216:\tlearn: 16.1439337\ttotal: 16.4s\tremaining: 13.8s\n",
      "217:\tlearn: 16.1438411\ttotal: 16.4s\tremaining: 13.7s\n",
      "218:\tlearn: 16.1423576\ttotal: 16.5s\tremaining: 13.6s\n",
      "219:\tlearn: 16.1373345\ttotal: 16.6s\tremaining: 13.6s\n",
      "220:\tlearn: 16.1346727\ttotal: 16.6s\tremaining: 13.5s\n",
      "221:\tlearn: 16.1326160\ttotal: 16.7s\tremaining: 13.4s\n",
      "222:\tlearn: 16.1303522\ttotal: 16.7s\tremaining: 13.3s\n",
      "223:\tlearn: 16.1274276\ttotal: 16.8s\tremaining: 13.2s\n",
      "224:\tlearn: 16.1269155\ttotal: 16.8s\tremaining: 13.1s\n",
      "225:\tlearn: 16.1245721\ttotal: 16.9s\tremaining: 13s\n",
      "226:\tlearn: 16.1205896\ttotal: 16.9s\tremaining: 12.9s\n",
      "227:\tlearn: 16.1194709\ttotal: 17s\tremaining: 12.8s\n",
      "228:\tlearn: 16.1191290\ttotal: 17s\tremaining: 12.7s\n",
      "229:\tlearn: 16.1189557\ttotal: 17.1s\tremaining: 12.6s\n",
      "230:\tlearn: 16.1162944\ttotal: 17.2s\tremaining: 12.6s\n",
      "231:\tlearn: 16.1157239\ttotal: 17.2s\tremaining: 12.5s\n",
      "232:\tlearn: 16.1118117\ttotal: 17.3s\tremaining: 12.4s\n",
      "233:\tlearn: 16.1115306\ttotal: 17.3s\tremaining: 12.3s\n",
      "234:\tlearn: 16.1087258\ttotal: 17.4s\tremaining: 12.2s\n",
      "235:\tlearn: 16.1085069\ttotal: 17.4s\tremaining: 12.1s\n",
      "236:\tlearn: 16.1081885\ttotal: 17.5s\tremaining: 12s\n",
      "237:\tlearn: 16.1081810\ttotal: 17.5s\tremaining: 11.9s\n",
      "238:\tlearn: 16.1052672\ttotal: 17.5s\tremaining: 11.8s\n",
      "239:\tlearn: 16.1032680\ttotal: 17.6s\tremaining: 11.7s\n",
      "240:\tlearn: 16.1025137\ttotal: 17.6s\tremaining: 11.6s\n",
      "241:\tlearn: 16.1009089\ttotal: 17.7s\tremaining: 11.5s\n",
      "242:\tlearn: 16.1004773\ttotal: 17.7s\tremaining: 11.4s\n",
      "243:\tlearn: 16.1003728\ttotal: 17.8s\tremaining: 11.4s\n",
      "244:\tlearn: 16.0968721\ttotal: 17.8s\tremaining: 11.3s\n",
      "245:\tlearn: 16.0966159\ttotal: 17.9s\tremaining: 11.2s\n",
      "246:\tlearn: 16.0960846\ttotal: 17.9s\tremaining: 11.1s\n",
      "247:\tlearn: 16.0951332\ttotal: 18s\tremaining: 11s\n",
      "248:\tlearn: 16.0950968\ttotal: 18s\tremaining: 10.9s\n",
      "249:\tlearn: 16.0938959\ttotal: 18.1s\tremaining: 10.8s\n",
      "250:\tlearn: 16.0926111\ttotal: 18.1s\tremaining: 10.7s\n",
      "251:\tlearn: 16.0925797\ttotal: 18.1s\tremaining: 10.7s\n",
      "252:\tlearn: 16.0922045\ttotal: 18.2s\tremaining: 10.6s\n",
      "253:\tlearn: 16.0921169\ttotal: 18.2s\tremaining: 10.5s\n",
      "254:\tlearn: 16.0895748\ttotal: 18.3s\tremaining: 10.4s\n",
      "255:\tlearn: 16.0894916\ttotal: 18.3s\tremaining: 10.3s\n",
      "256:\tlearn: 16.0890577\ttotal: 18.3s\tremaining: 10.2s\n",
      "257:\tlearn: 16.0884490\ttotal: 18.4s\tremaining: 10.1s\n",
      "258:\tlearn: 16.0879399\ttotal: 18.4s\tremaining: 10s\n",
      "259:\tlearn: 16.0874292\ttotal: 18.5s\tremaining: 9.95s\n",
      "260:\tlearn: 16.0866080\ttotal: 18.5s\tremaining: 9.86s\n",
      "261:\tlearn: 16.0860637\ttotal: 18.6s\tremaining: 9.78s\n",
      "262:\tlearn: 16.0860572\ttotal: 18.6s\tremaining: 9.69s\n",
      "263:\tlearn: 16.0853231\ttotal: 18.7s\tremaining: 9.61s\n",
      "264:\tlearn: 16.0841600\ttotal: 18.7s\tremaining: 9.52s\n",
      "265:\tlearn: 16.0820536\ttotal: 18.8s\tremaining: 9.46s\n",
      "266:\tlearn: 16.0802753\ttotal: 18.8s\tremaining: 9.38s\n",
      "267:\tlearn: 16.0801145\ttotal: 18.9s\tremaining: 9.29s\n",
      "268:\tlearn: 16.0788638\ttotal: 18.9s\tremaining: 9.21s\n",
      "269:\tlearn: 16.0782222\ttotal: 19s\tremaining: 9.14s\n",
      "270:\tlearn: 16.0781267\ttotal: 19s\tremaining: 9.06s\n",
      "271:\tlearn: 16.0756977\ttotal: 19.1s\tremaining: 8.99s\n",
      "272:\tlearn: 16.0750435\ttotal: 19.2s\tremaining: 8.91s\n",
      "273:\tlearn: 16.0750128\ttotal: 19.2s\tremaining: 8.82s\n",
      "274:\tlearn: 16.0750121\ttotal: 19.2s\tremaining: 8.74s\n",
      "275:\tlearn: 16.0744377\ttotal: 19.3s\tremaining: 8.66s\n",
      "276:\tlearn: 16.0740427\ttotal: 19.3s\tremaining: 8.59s\n",
      "277:\tlearn: 16.0721771\ttotal: 19.4s\tremaining: 8.52s\n",
      "278:\tlearn: 16.0706669\ttotal: 19.5s\tremaining: 8.45s\n",
      "279:\tlearn: 16.0674932\ttotal: 19.5s\tremaining: 8.37s\n",
      "280:\tlearn: 16.0672669\ttotal: 19.6s\tremaining: 8.29s\n",
      "281:\tlearn: 16.0668781\ttotal: 19.6s\tremaining: 8.2s\n",
      "282:\tlearn: 16.0668698\ttotal: 19.7s\tremaining: 8.13s\n",
      "283:\tlearn: 16.0638543\ttotal: 19.7s\tremaining: 8.05s\n",
      "284:\tlearn: 16.0635949\ttotal: 19.8s\tremaining: 7.97s\n",
      "285:\tlearn: 16.0635660\ttotal: 19.8s\tremaining: 7.89s\n",
      "286:\tlearn: 16.0613340\ttotal: 19.9s\tremaining: 7.82s\n",
      "287:\tlearn: 16.0597698\ttotal: 20s\tremaining: 7.76s\n",
      "288:\tlearn: 16.0595538\ttotal: 20s\tremaining: 7.69s\n",
      "289:\tlearn: 16.0580601\ttotal: 20.1s\tremaining: 7.61s\n",
      "290:\tlearn: 16.0549467\ttotal: 20.2s\tremaining: 7.55s\n",
      "291:\tlearn: 16.0548355\ttotal: 20.2s\tremaining: 7.47s\n",
      "292:\tlearn: 16.0546627\ttotal: 20.2s\tremaining: 7.39s\n",
      "293:\tlearn: 16.0539826\ttotal: 20.3s\tremaining: 7.31s\n",
      "294:\tlearn: 16.0522289\ttotal: 20.3s\tremaining: 7.24s\n",
      "295:\tlearn: 16.0514993\ttotal: 20.4s\tremaining: 7.17s\n",
      "296:\tlearn: 16.0514816\ttotal: 20.4s\tremaining: 7.09s\n",
      "297:\tlearn: 16.0512511\ttotal: 20.5s\tremaining: 7.01s\n",
      "298:\tlearn: 16.0512509\ttotal: 20.5s\tremaining: 6.93s\n",
      "299:\tlearn: 16.0490142\ttotal: 20.6s\tremaining: 6.86s\n",
      "300:\tlearn: 16.0489991\ttotal: 20.6s\tremaining: 6.78s\n",
      "301:\tlearn: 16.0489945\ttotal: 20.7s\tremaining: 6.7s\n",
      "302:\tlearn: 16.0454799\ttotal: 20.7s\tremaining: 6.63s\n",
      "303:\tlearn: 16.0438836\ttotal: 20.8s\tremaining: 6.56s\n",
      "304:\tlearn: 16.0435609\ttotal: 20.8s\tremaining: 6.49s\n",
      "305:\tlearn: 16.0435444\ttotal: 20.9s\tremaining: 6.41s\n",
      "306:\tlearn: 16.0431126\ttotal: 20.9s\tremaining: 6.33s\n",
      "307:\tlearn: 16.0429143\ttotal: 20.9s\tremaining: 6.25s\n",
      "308:\tlearn: 16.0400922\ttotal: 21s\tremaining: 6.19s\n",
      "309:\tlearn: 16.0387212\ttotal: 21.1s\tremaining: 6.12s\n",
      "310:\tlearn: 16.0372727\ttotal: 21.2s\tremaining: 6.05s\n",
      "311:\tlearn: 16.0366540\ttotal: 21.2s\tremaining: 5.98s\n",
      "312:\tlearn: 16.0355994\ttotal: 21.2s\tremaining: 5.9s\n",
      "313:\tlearn: 16.0310237\ttotal: 21.3s\tremaining: 5.83s\n",
      "314:\tlearn: 16.0278382\ttotal: 21.4s\tremaining: 5.76s\n",
      "315:\tlearn: 16.0278150\ttotal: 21.4s\tremaining: 5.69s\n",
      "316:\tlearn: 16.0254755\ttotal: 21.5s\tremaining: 5.62s\n",
      "317:\tlearn: 16.0242787\ttotal: 21.5s\tremaining: 5.54s\n",
      "318:\tlearn: 16.0224438\ttotal: 21.6s\tremaining: 5.48s\n",
      "319:\tlearn: 16.0198223\ttotal: 21.6s\tremaining: 5.41s\n",
      "320:\tlearn: 16.0197997\ttotal: 21.7s\tremaining: 5.33s\n",
      "321:\tlearn: 16.0197905\ttotal: 21.7s\tremaining: 5.25s\n",
      "322:\tlearn: 16.0185037\ttotal: 21.7s\tremaining: 5.18s\n",
      "323:\tlearn: 16.0175123\ttotal: 21.8s\tremaining: 5.12s\n",
      "324:\tlearn: 16.0174930\ttotal: 21.9s\tremaining: 5.05s\n",
      "325:\tlearn: 16.0157466\ttotal: 21.9s\tremaining: 4.98s\n",
      "326:\tlearn: 16.0157408\ttotal: 22s\tremaining: 4.91s\n",
      "327:\tlearn: 16.0141071\ttotal: 22s\tremaining: 4.83s\n",
      "328:\tlearn: 16.0114520\ttotal: 22.1s\tremaining: 4.77s\n",
      "329:\tlearn: 16.0076107\ttotal: 22.2s\tremaining: 4.7s\n",
      "330:\tlearn: 16.0063845\ttotal: 22.2s\tremaining: 4.63s\n",
      "331:\tlearn: 16.0062636\ttotal: 22.3s\tremaining: 4.56s\n",
      "332:\tlearn: 16.0058740\ttotal: 22.3s\tremaining: 4.49s\n",
      "333:\tlearn: 16.0031496\ttotal: 22.4s\tremaining: 4.42s\n",
      "334:\tlearn: 16.0019314\ttotal: 22.4s\tremaining: 4.36s\n",
      "335:\tlearn: 16.0014721\ttotal: 22.5s\tremaining: 4.29s\n",
      "336:\tlearn: 15.9988597\ttotal: 22.6s\tremaining: 4.22s\n",
      "337:\tlearn: 15.9971056\ttotal: 22.7s\tremaining: 4.16s\n",
      "338:\tlearn: 15.9942513\ttotal: 22.7s\tremaining: 4.09s\n",
      "339:\tlearn: 15.9913755\ttotal: 22.8s\tremaining: 4.02s\n",
      "340:\tlearn: 15.9911792\ttotal: 22.8s\tremaining: 3.95s\n",
      "341:\tlearn: 15.9891247\ttotal: 22.9s\tremaining: 3.88s\n",
      "342:\tlearn: 15.9859044\ttotal: 22.9s\tremaining: 3.81s\n",
      "343:\tlearn: 15.9835310\ttotal: 23s\tremaining: 3.75s\n",
      "344:\tlearn: 15.9807896\ttotal: 23.1s\tremaining: 3.69s\n",
      "345:\tlearn: 15.9806869\ttotal: 23.2s\tremaining: 3.61s\n",
      "346:\tlearn: 15.9788379\ttotal: 23.2s\tremaining: 3.54s\n",
      "347:\tlearn: 15.9787349\ttotal: 23.3s\tremaining: 3.48s\n",
      "348:\tlearn: 15.9767890\ttotal: 23.3s\tremaining: 3.41s\n",
      "349:\tlearn: 15.9741419\ttotal: 23.4s\tremaining: 3.34s\n",
      "350:\tlearn: 15.9741057\ttotal: 23.4s\tremaining: 3.27s\n",
      "351:\tlearn: 15.9718360\ttotal: 23.5s\tremaining: 3.21s\n",
      "352:\tlearn: 15.9717444\ttotal: 23.6s\tremaining: 3.14s\n",
      "353:\tlearn: 15.9702988\ttotal: 23.6s\tremaining: 3.07s\n",
      "354:\tlearn: 15.9686206\ttotal: 23.7s\tremaining: 3s\n",
      "355:\tlearn: 15.9654772\ttotal: 23.8s\tremaining: 2.94s\n",
      "356:\tlearn: 15.9640520\ttotal: 23.8s\tremaining: 2.87s\n",
      "357:\tlearn: 15.9608121\ttotal: 23.9s\tremaining: 2.8s\n",
      "358:\tlearn: 15.9607716\ttotal: 23.9s\tremaining: 2.73s\n",
      "359:\tlearn: 15.9602722\ttotal: 24s\tremaining: 2.67s\n",
      "360:\tlearn: 15.9575545\ttotal: 24s\tremaining: 2.6s\n",
      "361:\tlearn: 15.9541098\ttotal: 24.2s\tremaining: 2.54s\n",
      "362:\tlearn: 15.9515455\ttotal: 24.2s\tremaining: 2.47s\n",
      "363:\tlearn: 15.9511488\ttotal: 24.3s\tremaining: 2.4s\n",
      "364:\tlearn: 15.9506423\ttotal: 24.3s\tremaining: 2.33s\n",
      "365:\tlearn: 15.9506360\ttotal: 24.4s\tremaining: 2.27s\n",
      "366:\tlearn: 15.9475895\ttotal: 24.4s\tremaining: 2.2s\n",
      "367:\tlearn: 15.9442052\ttotal: 24.5s\tremaining: 2.13s\n",
      "368:\tlearn: 15.9417322\ttotal: 24.6s\tremaining: 2.06s\n",
      "369:\tlearn: 15.9388034\ttotal: 24.7s\tremaining: 2s\n",
      "370:\tlearn: 15.9375225\ttotal: 24.7s\tremaining: 1.93s\n",
      "371:\tlearn: 15.9374549\ttotal: 24.8s\tremaining: 1.86s\n",
      "372:\tlearn: 15.9368466\ttotal: 24.8s\tremaining: 1.8s\n",
      "373:\tlearn: 15.9343139\ttotal: 24.9s\tremaining: 1.73s\n",
      "374:\tlearn: 15.9314012\ttotal: 25s\tremaining: 1.66s\n",
      "375:\tlearn: 15.9295286\ttotal: 25s\tremaining: 1.6s\n",
      "376:\tlearn: 15.9293761\ttotal: 25.1s\tremaining: 1.53s\n",
      "377:\tlearn: 15.9291216\ttotal: 25.1s\tremaining: 1.46s\n",
      "378:\tlearn: 15.9286173\ttotal: 25.2s\tremaining: 1.39s\n",
      "379:\tlearn: 15.9268945\ttotal: 25.2s\tremaining: 1.33s\n",
      "380:\tlearn: 15.9261641\ttotal: 25.3s\tremaining: 1.26s\n",
      "381:\tlearn: 15.9244895\ttotal: 25.4s\tremaining: 1.2s\n",
      "382:\tlearn: 15.9223823\ttotal: 25.4s\tremaining: 1.13s\n",
      "383:\tlearn: 15.9197233\ttotal: 25.5s\tremaining: 1.06s\n",
      "384:\tlearn: 15.9181005\ttotal: 25.5s\tremaining: 995ms\n",
      "385:\tlearn: 15.9176291\ttotal: 25.6s\tremaining: 929ms\n",
      "386:\tlearn: 15.9162461\ttotal: 25.7s\tremaining: 862ms\n",
      "387:\tlearn: 15.9158858\ttotal: 25.7s\tremaining: 795ms\n",
      "388:\tlearn: 15.9144235\ttotal: 25.8s\tremaining: 729ms\n",
      "389:\tlearn: 15.9131304\ttotal: 25.9s\tremaining: 663ms\n",
      "390:\tlearn: 15.9102715\ttotal: 25.9s\tremaining: 597ms\n",
      "391:\tlearn: 15.9102638\ttotal: 25.9s\tremaining: 530ms\n",
      "392:\tlearn: 15.9087492\ttotal: 26s\tremaining: 463ms\n",
      "393:\tlearn: 15.9081511\ttotal: 26.1s\tremaining: 397ms\n",
      "394:\tlearn: 15.9065349\ttotal: 26.2s\tremaining: 331ms\n",
      "395:\tlearn: 15.9060853\ttotal: 26.2s\tremaining: 265ms\n",
      "396:\tlearn: 15.9033773\ttotal: 26.3s\tremaining: 199ms\n",
      "397:\tlearn: 15.9031322\ttotal: 26.4s\tremaining: 132ms\n",
      "398:\tlearn: 15.9007292\ttotal: 26.4s\tremaining: 66.2ms\n",
      "399:\tlearn: 15.8993090\ttotal: 26.5s\tremaining: 0us\n"
     ]
    },
    {
     "data": {
      "text/plain": [
       "<catboost.core.CatBoostRegressor at 0x1ff601a8128>"
      ]
     },
     "execution_count": 122,
     "metadata": {},
     "output_type": "execute_result"
    }
   ],
   "source": [
    "#import sys\n",
    "#!{sys.executable} -m pip install catboost\n",
    "from catboost import  Pool, CatBoostRegressor\n",
    "\n",
    "categorical_features_indices = [3,6]\n",
    "X = data.drop(['n.of_views'], axis = 1)  # independent columns\n",
    "Y = data[['n.of_views']]  # target column\n",
    "model = CatBoostRegressor(\n",
    "    random_seed = 400,\n",
    "    loss_function = 'RMSE',\n",
    "    iterations=400,\n",
    ")\n",
    "\n",
    "# Train \n",
    "model.fit(X, Y, cat_features = categorical_features_indices)"
   ]
  },
  {
   "cell_type": "code",
   "execution_count": 123,
   "metadata": {
    "collapsed": false
   },
   "outputs": [
    {
     "data": {
      "text/html": [
       "<div>\n",
       "<style scoped>\n",
       "    .dataframe tbody tr th:only-of-type {\n",
       "        vertical-align: middle;\n",
       "    }\n",
       "\n",
       "    .dataframe tbody tr th {\n",
       "        vertical-align: top;\n",
       "    }\n",
       "\n",
       "    .dataframe thead th {\n",
       "        text-align: right;\n",
       "    }\n",
       "</style>\n",
       "<table border=\"1\" class=\"dataframe\">\n",
       "  <thead>\n",
       "    <tr style=\"text-align: right;\">\n",
       "      <th></th>\n",
       "      <th>importance</th>\n",
       "    </tr>\n",
       "  </thead>\n",
       "  <tbody>\n",
       "    <tr>\n",
       "      <th>exp</th>\n",
       "      <td>51.640991</td>\n",
       "    </tr>\n",
       "    <tr>\n",
       "      <th>moving_avg</th>\n",
       "      <td>34.673090</td>\n",
       "    </tr>\n",
       "    <tr>\n",
       "      <th>video_length</th>\n",
       "      <td>9.385447</td>\n",
       "    </tr>\n",
       "    <tr>\n",
       "      <th>elapsed_days_from_uplaod</th>\n",
       "      <td>1.945504</td>\n",
       "    </tr>\n",
       "    <tr>\n",
       "      <th>video_quality</th>\n",
       "      <td>1.750833</td>\n",
       "    </tr>\n",
       "    <tr>\n",
       "      <th>video_language</th>\n",
       "      <td>0.425060</td>\n",
       "    </tr>\n",
       "    <tr>\n",
       "      <th>weekday</th>\n",
       "      <td>0.179075</td>\n",
       "    </tr>\n",
       "  </tbody>\n",
       "</table>\n",
       "</div>"
      ],
      "text/plain": [
       "                          importance\n",
       "exp                        51.640991\n",
       "moving_avg                 34.673090\n",
       "video_length                9.385447\n",
       "elapsed_days_from_uplaod    1.945504\n",
       "video_quality               1.750833\n",
       "video_language              0.425060\n",
       "weekday                     0.179075"
      ]
     },
     "execution_count": 123,
     "metadata": {},
     "output_type": "execute_result"
    }
   ],
   "source": [
    "feature_importances = pd.DataFrame(model.feature_importances_, index = X.columns, columns=['importance']).sort_values('importance', ascending=False)\n",
    "feature_importances"
   ]
  },
  {
   "cell_type": "code",
   "execution_count": 124,
   "metadata": {
    "collapsed": false
   },
   "outputs": [
    {
     "data": {
      "image/png": "[encoded data removed]",
      "text/plain": [
       "<Figure size 720x504 with 1 Axes>"
      ]
     },
     "metadata": {},
     "output_type": "display_data"
    }
   ],
   "source": [
    "fea_imp = pd.DataFrame({'imp': model.feature_importances_, 'col': X.columns})\n",
    "fea_imp = fea_imp.sort_values(['imp', 'col'], ascending=[True, False]).iloc[-30:]\n",
    "fea_imp.plot(kind='barh', x='col', y='imp', figsize=(10, 7), legend=None)\n",
    "plt.title('CatBoost - Feature Importance')\n",
    "plt.ylabel('Features')\n",
    "plt.xlabel('Importance');"
   ]
  },
  {
   "cell_type": "markdown",
   "metadata": {},
   "source": [
    "## Clustering"
   ]
  },
  {
   "cell_type": "markdown",
   "metadata": {},
   "source": [
    "Deviding into 3 groups using the features that were chosen by the Impurity Index"
   ]
  },
  {
   "cell_type": "code",
   "execution_count": 125,
   "metadata": {
    "collapsed": false
   },
   "outputs": [],
   "source": [
    "#data=pd.get_dummies(data, columns=['video_language','weekday'])"
   ]
  },
  {
   "cell_type": "code",
   "execution_count": 126,
   "metadata": {
    "collapsed": true
   },
   "outputs": [],
   "source": [
    "#import category_encoders as ce\n",
    "#encoder = ce.BinaryEncoder(cols = ['video_language'])\n",
    "#encoder.fit_transform(videos_merge)"
   ]
  },
  {
   "cell_type": "code",
   "execution_count": 189,
   "metadata": {
    "collapsed": false
   },
   "outputs": [],
   "source": [
    "data=data.drop(['weekday','elapsed_days_from_uplaod', 'video_language','video_quality'], axis = 1)"
   ]
  },
  {
   "cell_type": "markdown",
   "metadata": {},
   "source": [
    "Normalization"
   ]
  },
  {
   "cell_type": "code",
   "execution_count": 190,
   "metadata": {
    "collapsed": true
   },
   "outputs": [],
   "source": [
    "#Normalaize the data\n",
    "data_norm=data.copy()\n",
    "data_norm = (data_norm-data_norm.min())/(data_norm.max()-data_norm.min())"
   ]
  },
  {
   "cell_type": "markdown",
   "metadata": {},
   "source": [
    "Model"
   ]
  },
  {
   "cell_type": "code",
   "execution_count": 191,
   "metadata": {
    "collapsed": false
   },
   "outputs": [],
   "source": [
    "from sklearn.cluster import KMeans\n",
    "kmeans=KMeans(n_clusters=3)\n",
    "kmeans.fit(data_norm)\n",
    "y_kmeans = kmeans.predict(data_norm)\n",
    "centers = kmeans.cluster_centers_"
   ]
  },
  {
   "cell_type": "code",
   "execution_count": 192,
   "metadata": {
    "collapsed": false
   },
   "outputs": [
    {
     "name": "stderr",
     "output_type": "stream",
     "text": [
      "C:\\Users\\user\\Anaconda3\\envs\\cs231n\\lib\\site-packages\\seaborn\\categorical.py:1428: FutureWarning: remove_na is deprecated and is a private function. Do not use.\n",
      "  stat_data = remove_na(group_data)\n"
     ]
    },
    {
     "data": {
      "image/png": "[encoded data removed]",
      "text/plain": [
       "<Figure size 576x396 with 1 Axes>"
      ]
     },
     "metadata": {},
     "output_type": "display_data"
    }
   ],
   "source": [
    "df=pd.DataFrame(y_kmeans)\n",
    "ax = sns.countplot(y=df[0], data=df)\n",
    "plt.title('Labels Distribution')\n",
    "plt.xlabel('Amount')\n",
    "\n",
    "total = len(df)\n",
    "for p in ax.patches:\n",
    "        percentage = '{:.1f}%'.format(100 * p.get_width()/total)\n",
    "        x = p.get_x() + p.get_width() + 0.02\n",
    "        y = p.get_y() + p.get_height()/2\n",
    "        ax.annotate(percentage, (x, y))\n",
    "\n",
    "plt.show()"
   ]
  },
  {
   "cell_type": "code",
   "execution_count": 193,
   "metadata": {
    "collapsed": true
   },
   "outputs": [],
   "source": [
    "data['label']=y_kmeans"
   ]
  },
  {
   "cell_type": "code",
   "execution_count": 194,
   "metadata": {
    "collapsed": false
   },
   "outputs": [
    {
     "data": {
      "text/plain": [
       "<matplotlib.collections.PathCollection at 0x1ff5cae3828>"
      ]
     },
     "execution_count": 194,
     "metadata": {},
     "output_type": "execute_result"
    },
    {
     "data": {
      "image/png": "[encoded data removed]",
      "text/plain": [
       "<Figure size 576x396 with 1 Axes>"
      ]
     },
     "metadata": {},
     "output_type": "display_data"
    }
   ],
   "source": [
    "plt.scatter(data['moving_avg'], data['n.of_views'], c=data['label'], s=50, cmap='viridis')"
   ]
  },
  {
   "cell_type": "code",
   "execution_count": 195,
   "metadata": {
    "collapsed": false
   },
   "outputs": [
    {
     "data": {
      "text/plain": [
       "<matplotlib.collections.PathCollection at 0x1ff5cd39b00>"
      ]
     },
     "execution_count": 195,
     "metadata": {},
     "output_type": "execute_result"
    },
    {
     "data": {
      "image/png": "[encoded data removed]",
      "text/plain": [
       "<Figure size 576x396 with 1 Axes>"
      ]
     },
     "metadata": {},
     "output_type": "display_data"
    }
   ],
   "source": [
    "plt.scatter(data['video_length'], data['n.of_views'], c=data['label'], s=50, cmap='viridis')"
   ]
  },
  {
   "cell_type": "code",
   "execution_count": 226,
   "metadata": {
    "collapsed": false
   },
   "outputs": [
    {
     "data": {
      "image/png": "[encoded data removed]",
      "text/plain": [
       "<Figure size 905.625x432 with 1 Axes>"
      ]
     },
     "metadata": {},
     "output_type": "display_data"
    }
   ],
   "source": [
    "sns.set_style('darkgrid')\n",
    "g = sns.FacetGrid(data,hue=\"label\",palette='coolwarm',size=6,aspect=2)\n",
    "g = g.map(plt.hist,'n.of_views',bins=20,alpha=0.7).add_legend()"
   ]
  },
  {
   "cell_type": "code",
   "execution_count": 228,
   "metadata": {
    "collapsed": false
   },
   "outputs": [
    {
     "data": {
      "text/html": [
       "<div>\n",
       "<style scoped>\n",
       "    .dataframe tbody tr th:only-of-type {\n",
       "        vertical-align: middle;\n",
       "    }\n",
       "\n",
       "    .dataframe tbody tr th {\n",
       "        vertical-align: top;\n",
       "    }\n",
       "\n",
       "    .dataframe thead tr th {\n",
       "        text-align: left;\n",
       "    }\n",
       "\n",
       "    .dataframe thead tr:last-of-type th {\n",
       "        text-align: right;\n",
       "    }\n",
       "</style>\n",
       "<table border=\"1\" class=\"dataframe\">\n",
       "  <thead>\n",
       "    <tr>\n",
       "      <th></th>\n",
       "      <th colspan=\"8\" halign=\"left\">n.of_views</th>\n",
       "      <th colspan=\"8\" halign=\"left\">exp</th>\n",
       "    </tr>\n",
       "    <tr>\n",
       "      <th></th>\n",
       "      <th>count</th>\n",
       "      <th>mean</th>\n",
       "      <th>std</th>\n",
       "      <th>min</th>\n",
       "      <th>25%</th>\n",
       "      <th>50%</th>\n",
       "      <th>75%</th>\n",
       "      <th>max</th>\n",
       "      <th>count</th>\n",
       "      <th>mean</th>\n",
       "      <th>std</th>\n",
       "      <th>min</th>\n",
       "      <th>25%</th>\n",
       "      <th>50%</th>\n",
       "      <th>75%</th>\n",
       "      <th>max</th>\n",
       "    </tr>\n",
       "    <tr>\n",
       "      <th>label</th>\n",
       "      <th></th>\n",
       "      <th></th>\n",
       "      <th></th>\n",
       "      <th></th>\n",
       "      <th></th>\n",
       "      <th></th>\n",
       "      <th></th>\n",
       "      <th></th>\n",
       "      <th></th>\n",
       "      <th></th>\n",
       "      <th></th>\n",
       "      <th></th>\n",
       "      <th></th>\n",
       "      <th></th>\n",
       "      <th></th>\n",
       "      <th></th>\n",
       "    </tr>\n",
       "  </thead>\n",
       "  <tbody>\n",
       "    <tr>\n",
       "      <th>0</th>\n",
       "      <td>4176.0</td>\n",
       "      <td>75.575431</td>\n",
       "      <td>18.159046</td>\n",
       "      <td>33.0</td>\n",
       "      <td>62.00</td>\n",
       "      <td>74.5</td>\n",
       "      <td>88.0</td>\n",
       "      <td>134.0</td>\n",
       "      <td>4176.0</td>\n",
       "      <td>78.857888</td>\n",
       "      <td>13.539199</td>\n",
       "      <td>42.57</td>\n",
       "      <td>69.0475</td>\n",
       "      <td>79.000</td>\n",
       "      <td>87.92</td>\n",
       "      <td>133.60</td>\n",
       "    </tr>\n",
       "    <tr>\n",
       "      <th>1</th>\n",
       "      <td>4086.0</td>\n",
       "      <td>44.816936</td>\n",
       "      <td>17.120747</td>\n",
       "      <td>6.0</td>\n",
       "      <td>32.25</td>\n",
       "      <td>44.0</td>\n",
       "      <td>56.0</td>\n",
       "      <td>110.0</td>\n",
       "      <td>4086.0</td>\n",
       "      <td>47.819148</td>\n",
       "      <td>15.513034</td>\n",
       "      <td>9.26</td>\n",
       "      <td>37.3750</td>\n",
       "      <td>47.665</td>\n",
       "      <td>58.59</td>\n",
       "      <td>106.54</td>\n",
       "    </tr>\n",
       "    <tr>\n",
       "      <th>2</th>\n",
       "      <td>3641.0</td>\n",
       "      <td>109.609997</td>\n",
       "      <td>25.207982</td>\n",
       "      <td>54.0</td>\n",
       "      <td>90.00</td>\n",
       "      <td>108.0</td>\n",
       "      <td>127.0</td>\n",
       "      <td>196.0</td>\n",
       "      <td>3641.0</td>\n",
       "      <td>110.772829</td>\n",
       "      <td>17.691612</td>\n",
       "      <td>72.59</td>\n",
       "      <td>98.2900</td>\n",
       "      <td>108.670</td>\n",
       "      <td>121.26</td>\n",
       "      <td>193.00</td>\n",
       "    </tr>\n",
       "  </tbody>\n",
       "</table>\n",
       "</div>"
      ],
      "text/plain": [
       "      n.of_views                                                           \\\n",
       "           count        mean        std   min    25%    50%    75%    max   \n",
       "label                                                                       \n",
       "0         4176.0   75.575431  18.159046  33.0  62.00   74.5   88.0  134.0   \n",
       "1         4086.0   44.816936  17.120747   6.0  32.25   44.0   56.0  110.0   \n",
       "2         3641.0  109.609997  25.207982  54.0  90.00  108.0  127.0  196.0   \n",
       "\n",
       "          exp                                                                  \n",
       "        count        mean        std    min      25%      50%     75%     max  \n",
       "label                                                                          \n",
       "0      4176.0   78.857888  13.539199  42.57  69.0475   79.000   87.92  133.60  \n",
       "1      4086.0   47.819148  15.513034   9.26  37.3750   47.665   58.59  106.54  \n",
       "2      3641.0  110.772829  17.691612  72.59  98.2900  108.670  121.26  193.00  "
      ]
     },
     "execution_count": 228,
     "metadata": {},
     "output_type": "execute_result"
    }
   ],
   "source": [
    "pd.DataFrame(data.groupby(\"label\")[\"n.of_views\",\"exp\"].describe())"
   ]
  },
  {
   "cell_type": "code",
   "execution_count": 229,
   "metadata": {
    "collapsed": false
   },
   "outputs": [
    {
     "data": {
      "text/html": [
       "<div>\n",
       "<style scoped>\n",
       "    .dataframe tbody tr th:only-of-type {\n",
       "        vertical-align: middle;\n",
       "    }\n",
       "\n",
       "    .dataframe tbody tr th {\n",
       "        vertical-align: top;\n",
       "    }\n",
       "\n",
       "    .dataframe thead th {\n",
       "        text-align: right;\n",
       "    }\n",
       "</style>\n",
       "<table border=\"1\" class=\"dataframe\">\n",
       "  <thead>\n",
       "    <tr style=\"text-align: right;\">\n",
       "      <th></th>\n",
       "      <th>count</th>\n",
       "      <th>mean</th>\n",
       "      <th>std</th>\n",
       "      <th>min</th>\n",
       "      <th>25%</th>\n",
       "      <th>50%</th>\n",
       "      <th>75%</th>\n",
       "      <th>max</th>\n",
       "    </tr>\n",
       "    <tr>\n",
       "      <th>label</th>\n",
       "      <th></th>\n",
       "      <th></th>\n",
       "      <th></th>\n",
       "      <th></th>\n",
       "      <th></th>\n",
       "      <th></th>\n",
       "      <th></th>\n",
       "      <th></th>\n",
       "    </tr>\n",
       "  </thead>\n",
       "  <tbody>\n",
       "    <tr>\n",
       "      <th>0</th>\n",
       "      <td>4176.0</td>\n",
       "      <td>22.318247</td>\n",
       "      <td>2.074657</td>\n",
       "      <td>17.0</td>\n",
       "      <td>21.0</td>\n",
       "      <td>22.0</td>\n",
       "      <td>24.0</td>\n",
       "      <td>28.0</td>\n",
       "    </tr>\n",
       "    <tr>\n",
       "      <th>1</th>\n",
       "      <td>4086.0</td>\n",
       "      <td>27.780225</td>\n",
       "      <td>1.767976</td>\n",
       "      <td>23.0</td>\n",
       "      <td>26.0</td>\n",
       "      <td>28.0</td>\n",
       "      <td>30.0</td>\n",
       "      <td>30.0</td>\n",
       "    </tr>\n",
       "    <tr>\n",
       "      <th>2</th>\n",
       "      <td>3641.0</td>\n",
       "      <td>17.449052</td>\n",
       "      <td>1.867801</td>\n",
       "      <td>15.0</td>\n",
       "      <td>16.0</td>\n",
       "      <td>18.0</td>\n",
       "      <td>19.0</td>\n",
       "      <td>24.0</td>\n",
       "    </tr>\n",
       "  </tbody>\n",
       "</table>\n",
       "</div>"
      ],
      "text/plain": [
       "        count       mean       std   min   25%   50%   75%   max\n",
       "label                                                           \n",
       "0      4176.0  22.318247  2.074657  17.0  21.0  22.0  24.0  28.0\n",
       "1      4086.0  27.780225  1.767976  23.0  26.0  28.0  30.0  30.0\n",
       "2      3641.0  17.449052  1.867801  15.0  16.0  18.0  19.0  24.0"
      ]
     },
     "execution_count": 229,
     "metadata": {},
     "output_type": "execute_result"
    }
   ],
   "source": [
    "pd.DataFrame(data.groupby(\"label\")[\"video_length\"].describe())"
   ]
  },
  {
   "cell_type": "markdown",
   "metadata": {},
   "source": [
    "\"Hot\" videos are characterized by 110 views per day in average and a video length of 17 sec (short videos). \n",
    "I would have used this information in order to raise the number of views per video by positioning the shortest videos in the \"hot\" places in the page. Additionaly, I would have publised a post-tips for people who are uploading a new video to create a short video that will be up to 17 sec long.\n",
    "\n",
    "Another attitude is by granting bonuses to customers whose videos were up to 17 seconds long.\n",
    "\n",
    "I would also suggest using an automated video editor that offers the customer an automatic video editing that shortens the video by up to 17 seconds."
   ]
  },
  {
   "cell_type": "markdown",
   "metadata": {},
   "source": [
    "#### Classification Model"
   ]
  },
  {
   "cell_type": "code",
   "execution_count": 91,
   "metadata": {
    "collapsed": true
   },
   "outputs": [],
   "source": [
    "data = data.drop(['n.of_views'], axis = 1) "
   ]
  },
  {
   "cell_type": "code",
   "execution_count": 92,
   "metadata": {
    "collapsed": false
   },
   "outputs": [],
   "source": [
    "from catboost import CatBoostClassifier\n",
    "from sklearn.model_selection import RandomizedSearchCV\n",
    "from sklearn.model_selection import train_test_split\n",
    "\n",
    "X = data.drop(['label'], axis = 1)  # independent columns\n",
    "Y = data[['label']]  # target column\n",
    "\n",
    "train_X, test_X, train_Y, test_Y = train_test_split(X, Y, test_size=0.2, random_state=42)"
   ]
  },
  {
   "cell_type": "code",
   "execution_count": 93,
   "metadata": {
    "collapsed": false
   },
   "outputs": [],
   "source": [
    "model = CatBoostClassifier(loss_function='MultiClass')"
   ]
  },
  {
   "cell_type": "code",
   "execution_count": 96,
   "metadata": {
    "collapsed": false
   },
   "outputs": [
    {
     "name": "stdout",
     "output_type": "stream",
     "text": [
      "0:\tlearn: -1.0510538\ttotal: 112ms\tremaining: 1m 52s\n",
      "1:\tlearn: -1.0078898\ttotal: 247ms\tremaining: 2m 3s\n",
      "2:\tlearn: -0.9681646\ttotal: 348ms\tremaining: 1m 55s\n",
      "3:\tlearn: -0.9306121\ttotal: 494ms\tremaining: 2m 3s\n",
      "4:\tlearn: -0.8954643\ttotal: 591ms\tremaining: 1m 57s\n",
      "5:\tlearn: -0.8622493\ttotal: 700ms\tremaining: 1m 55s\n",
      "6:\tlearn: -0.8318764\ttotal: 794ms\tremaining: 1m 52s\n",
      "7:\tlearn: -0.8029518\ttotal: 891ms\tremaining: 1m 50s\n",
      "8:\tlearn: -0.7760676\ttotal: 1.01s\tremaining: 1m 50s\n",
      "9:\tlearn: -0.7504301\ttotal: 1.13s\tremaining: 1m 51s\n",
      "10:\tlearn: -0.7257064\ttotal: 1.24s\tremaining: 1m 51s\n",
      "11:\tlearn: -0.7032087\ttotal: 1.34s\tremaining: 1m 50s\n",
      "12:\tlearn: -0.6803230\ttotal: 1.44s\tremaining: 1m 49s\n",
      "13:\tlearn: -0.6596019\ttotal: 1.54s\tremaining: 1m 48s\n",
      "14:\tlearn: -0.6401511\ttotal: 1.65s\tremaining: 1m 48s\n",
      "15:\tlearn: -0.6220202\ttotal: 1.79s\tremaining: 1m 50s\n",
      "16:\tlearn: -0.6046274\ttotal: 1.88s\tremaining: 1m 48s\n",
      "17:\tlearn: -0.5876902\ttotal: 1.95s\tremaining: 1m 46s\n",
      "18:\tlearn: -0.5706907\ttotal: 2.04s\tremaining: 1m 45s\n",
      "19:\tlearn: -0.5554230\ttotal: 2.14s\tremaining: 1m 44s\n",
      "20:\tlearn: -0.5403328\ttotal: 2.25s\tremaining: 1m 44s\n",
      "21:\tlearn: -0.5256723\ttotal: 2.35s\tremaining: 1m 44s\n",
      "22:\tlearn: -0.5122616\ttotal: 2.45s\tremaining: 1m 44s\n",
      "23:\tlearn: -0.4991677\ttotal: 2.57s\tremaining: 1m 44s\n",
      "24:\tlearn: -0.4864167\ttotal: 2.69s\tremaining: 1m 44s\n",
      "25:\tlearn: -0.4738739\ttotal: 2.79s\tremaining: 1m 44s\n",
      "26:\tlearn: -0.4622006\ttotal: 2.89s\tremaining: 1m 44s\n",
      "27:\tlearn: -0.4513425\ttotal: 2.99s\tremaining: 1m 43s\n",
      "28:\tlearn: -0.4408802\ttotal: 3.08s\tremaining: 1m 43s\n",
      "29:\tlearn: -0.4304224\ttotal: 3.16s\tremaining: 1m 42s\n",
      "30:\tlearn: -0.4200224\ttotal: 3.25s\tremaining: 1m 41s\n",
      "31:\tlearn: -0.4103157\ttotal: 3.34s\tremaining: 1m 41s\n",
      "32:\tlearn: -0.4008226\ttotal: 3.45s\tremaining: 1m 41s\n",
      "33:\tlearn: -0.3919683\ttotal: 3.55s\tremaining: 1m 40s\n",
      "34:\tlearn: -0.3828386\ttotal: 3.65s\tremaining: 1m 40s\n",
      "35:\tlearn: -0.3744939\ttotal: 3.76s\tremaining: 1m 40s\n",
      "36:\tlearn: -0.3663368\ttotal: 3.85s\tremaining: 1m 40s\n",
      "37:\tlearn: -0.3581371\ttotal: 3.94s\tremaining: 1m 39s\n",
      "38:\tlearn: -0.3507213\ttotal: 4.02s\tremaining: 1m 39s\n",
      "39:\tlearn: -0.3431878\ttotal: 4.11s\tremaining: 1m 38s\n",
      "40:\tlearn: -0.3359889\ttotal: 4.2s\tremaining: 1m 38s\n",
      "41:\tlearn: -0.3291294\ttotal: 4.31s\tremaining: 1m 38s\n",
      "42:\tlearn: -0.3221324\ttotal: 4.4s\tremaining: 1m 37s\n",
      "43:\tlearn: -0.3158489\ttotal: 4.5s\tremaining: 1m 37s\n",
      "44:\tlearn: -0.3096262\ttotal: 4.58s\tremaining: 1m 37s\n",
      "45:\tlearn: -0.3036590\ttotal: 4.66s\tremaining: 1m 36s\n",
      "46:\tlearn: -0.2979356\ttotal: 4.77s\tremaining: 1m 36s\n",
      "47:\tlearn: -0.2926108\ttotal: 4.85s\tremaining: 1m 36s\n",
      "48:\tlearn: -0.2872466\ttotal: 4.95s\tremaining: 1m 35s\n",
      "49:\tlearn: -0.2819310\ttotal: 5.04s\tremaining: 1m 35s\n",
      "50:\tlearn: -0.2770913\ttotal: 5.14s\tremaining: 1m 35s\n",
      "51:\tlearn: -0.2719824\ttotal: 5.21s\tremaining: 1m 35s\n",
      "52:\tlearn: -0.2671654\ttotal: 5.3s\tremaining: 1m 34s\n",
      "53:\tlearn: -0.2624012\ttotal: 5.39s\tremaining: 1m 34s\n",
      "54:\tlearn: -0.2576499\ttotal: 5.47s\tremaining: 1m 34s\n",
      "55:\tlearn: -0.2536185\ttotal: 5.57s\tremaining: 1m 33s\n",
      "56:\tlearn: -0.2494456\ttotal: 5.65s\tremaining: 1m 33s\n",
      "57:\tlearn: -0.2454306\ttotal: 5.73s\tremaining: 1m 33s\n",
      "58:\tlearn: -0.2411454\ttotal: 5.82s\tremaining: 1m 32s\n",
      "59:\tlearn: -0.2371937\ttotal: 5.92s\tremaining: 1m 32s\n",
      "60:\tlearn: -0.2334352\ttotal: 6.01s\tremaining: 1m 32s\n",
      "61:\tlearn: -0.2297476\ttotal: 6.12s\tremaining: 1m 32s\n",
      "62:\tlearn: -0.2262671\ttotal: 6.19s\tremaining: 1m 32s\n",
      "63:\tlearn: -0.2226903\ttotal: 6.28s\tremaining: 1m 31s\n",
      "64:\tlearn: -0.2192330\ttotal: 6.38s\tremaining: 1m 31s\n",
      "65:\tlearn: -0.2159700\ttotal: 6.46s\tremaining: 1m 31s\n",
      "66:\tlearn: -0.2131292\ttotal: 6.55s\tremaining: 1m 31s\n",
      "67:\tlearn: -0.2101625\ttotal: 6.64s\tremaining: 1m 31s\n",
      "68:\tlearn: -0.2071085\ttotal: 6.73s\tremaining: 1m 30s\n",
      "69:\tlearn: -0.2041724\ttotal: 6.81s\tremaining: 1m 30s\n",
      "70:\tlearn: -0.2014110\ttotal: 6.91s\tremaining: 1m 30s\n",
      "71:\tlearn: -0.1987381\ttotal: 6.99s\tremaining: 1m 30s\n",
      "72:\tlearn: -0.1960671\ttotal: 7.08s\tremaining: 1m 29s\n",
      "73:\tlearn: -0.1937048\ttotal: 7.18s\tremaining: 1m 29s\n",
      "74:\tlearn: -0.1911399\ttotal: 7.29s\tremaining: 1m 29s\n",
      "75:\tlearn: -0.1886549\ttotal: 7.39s\tremaining: 1m 29s\n",
      "76:\tlearn: -0.1863110\ttotal: 7.5s\tremaining: 1m 29s\n",
      "77:\tlearn: -0.1840120\ttotal: 7.6s\tremaining: 1m 29s\n",
      "78:\tlearn: -0.1816333\ttotal: 7.7s\tremaining: 1m 29s\n",
      "79:\tlearn: -0.1795409\ttotal: 7.82s\tremaining: 1m 29s\n",
      "80:\tlearn: -0.1774552\ttotal: 7.93s\tremaining: 1m 29s\n",
      "81:\tlearn: -0.1755203\ttotal: 8.04s\tremaining: 1m 29s\n",
      "82:\tlearn: -0.1733980\ttotal: 8.13s\tremaining: 1m 29s\n",
      "83:\tlearn: -0.1714007\ttotal: 8.24s\tremaining: 1m 29s\n",
      "84:\tlearn: -0.1694197\ttotal: 8.37s\tremaining: 1m 30s\n",
      "85:\tlearn: -0.1677674\ttotal: 8.48s\tremaining: 1m 30s\n",
      "86:\tlearn: -0.1660664\ttotal: 8.59s\tremaining: 1m 30s\n",
      "87:\tlearn: -0.1643904\ttotal: 8.69s\tremaining: 1m 30s\n",
      "88:\tlearn: -0.1626924\ttotal: 8.79s\tremaining: 1m 30s\n",
      "89:\tlearn: -0.1611138\ttotal: 8.9s\tremaining: 1m 30s\n",
      "90:\tlearn: -0.1593961\ttotal: 9.01s\tremaining: 1m 30s\n",
      "91:\tlearn: -0.1578634\ttotal: 9.12s\tremaining: 1m 30s\n",
      "92:\tlearn: -0.1562324\ttotal: 9.22s\tremaining: 1m 29s\n",
      "93:\tlearn: -0.1548401\ttotal: 9.33s\tremaining: 1m 29s\n",
      "94:\tlearn: -0.1535169\ttotal: 9.44s\tremaining: 1m 29s\n",
      "95:\tlearn: -0.1521892\ttotal: 9.56s\tremaining: 1m 29s\n",
      "96:\tlearn: -0.1509650\ttotal: 9.66s\tremaining: 1m 29s\n",
      "97:\tlearn: -0.1496641\ttotal: 9.76s\tremaining: 1m 29s\n",
      "98:\tlearn: -0.1484407\ttotal: 9.89s\tremaining: 1m 30s\n",
      "99:\tlearn: -0.1472017\ttotal: 10s\tremaining: 1m 30s\n",
      "100:\tlearn: -0.1459834\ttotal: 10.1s\tremaining: 1m 29s\n",
      "101:\tlearn: -0.1447621\ttotal: 10.2s\tremaining: 1m 29s\n",
      "102:\tlearn: -0.1436558\ttotal: 10.3s\tremaining: 1m 29s\n",
      "103:\tlearn: -0.1425901\ttotal: 10.4s\tremaining: 1m 29s\n",
      "104:\tlearn: -0.1415019\ttotal: 10.5s\tremaining: 1m 29s\n",
      "105:\tlearn: -0.1403859\ttotal: 10.6s\tremaining: 1m 29s\n",
      "106:\tlearn: -0.1392861\ttotal: 10.7s\tremaining: 1m 29s\n",
      "107:\tlearn: -0.1382297\ttotal: 10.8s\tremaining: 1m 29s\n",
      "108:\tlearn: -0.1371728\ttotal: 10.9s\tremaining: 1m 29s\n",
      "109:\tlearn: -0.1362326\ttotal: 11s\tremaining: 1m 29s\n",
      "110:\tlearn: -0.1353528\ttotal: 11.1s\tremaining: 1m 29s\n",
      "111:\tlearn: -0.1345765\ttotal: 11.2s\tremaining: 1m 29s\n",
      "112:\tlearn: -0.1337167\ttotal: 11.3s\tremaining: 1m 29s\n",
      "113:\tlearn: -0.1328864\ttotal: 11.4s\tremaining: 1m 28s\n",
      "114:\tlearn: -0.1321237\ttotal: 11.5s\tremaining: 1m 28s\n",
      "115:\tlearn: -0.1312423\ttotal: 11.6s\tremaining: 1m 28s\n",
      "116:\tlearn: -0.1304697\ttotal: 11.7s\tremaining: 1m 28s\n",
      "117:\tlearn: -0.1295939\ttotal: 11.8s\tremaining: 1m 28s\n",
      "118:\tlearn: -0.1287712\ttotal: 11.9s\tremaining: 1m 28s\n",
      "119:\tlearn: -0.1279700\ttotal: 12s\tremaining: 1m 28s\n",
      "120:\tlearn: -0.1271561\ttotal: 12.1s\tremaining: 1m 27s\n",
      "121:\tlearn: -0.1263147\ttotal: 12.2s\tremaining: 1m 27s\n",
      "122:\tlearn: -0.1256069\ttotal: 12.3s\tremaining: 1m 27s\n",
      "123:\tlearn: -0.1248970\ttotal: 12.4s\tremaining: 1m 27s\n",
      "124:\tlearn: -0.1243279\ttotal: 12.4s\tremaining: 1m 27s\n",
      "125:\tlearn: -0.1236166\ttotal: 12.5s\tremaining: 1m 26s\n",
      "126:\tlearn: -0.1229628\ttotal: 12.6s\tremaining: 1m 26s\n",
      "127:\tlearn: -0.1223304\ttotal: 12.7s\tremaining: 1m 26s\n",
      "128:\tlearn: -0.1217532\ttotal: 12.8s\tremaining: 1m 26s\n",
      "129:\tlearn: -0.1211744\ttotal: 12.9s\tremaining: 1m 26s\n",
      "130:\tlearn: -0.1205941\ttotal: 13s\tremaining: 1m 26s\n",
      "131:\tlearn: -0.1200520\ttotal: 13.1s\tremaining: 1m 25s\n",
      "132:\tlearn: -0.1195259\ttotal: 13.2s\tremaining: 1m 25s\n",
      "133:\tlearn: -0.1190407\ttotal: 13.3s\tremaining: 1m 25s\n",
      "134:\tlearn: -0.1184894\ttotal: 13.3s\tremaining: 1m 25s\n",
      "135:\tlearn: -0.1179172\ttotal: 13.4s\tremaining: 1m 25s\n",
      "136:\tlearn: -0.1173890\ttotal: 13.6s\tremaining: 1m 25s\n",
      "137:\tlearn: -0.1169511\ttotal: 13.7s\tremaining: 1m 25s\n",
      "138:\tlearn: -0.1164720\ttotal: 13.8s\tremaining: 1m 25s\n",
      "139:\tlearn: -0.1159283\ttotal: 13.9s\tremaining: 1m 25s\n",
      "140:\tlearn: -0.1154664\ttotal: 14s\tremaining: 1m 25s\n",
      "141:\tlearn: -0.1149804\ttotal: 14.1s\tremaining: 1m 24s\n",
      "142:\tlearn: -0.1146642\ttotal: 14.1s\tremaining: 1m 24s\n",
      "143:\tlearn: -0.1142412\ttotal: 14.2s\tremaining: 1m 24s\n",
      "144:\tlearn: -0.1137828\ttotal: 14.3s\tremaining: 1m 24s\n",
      "145:\tlearn: -0.1133432\ttotal: 14.5s\tremaining: 1m 24s\n",
      "146:\tlearn: -0.1128758\ttotal: 14.6s\tremaining: 1m 24s\n",
      "147:\tlearn: -0.1124717\ttotal: 14.7s\tremaining: 1m 24s\n",
      "148:\tlearn: -0.1120521\ttotal: 14.8s\tremaining: 1m 24s\n",
      "149:\tlearn: -0.1117027\ttotal: 14.9s\tremaining: 1m 24s\n",
      "150:\tlearn: -0.1113038\ttotal: 14.9s\tremaining: 1m 24s\n",
      "151:\tlearn: -0.1109584\ttotal: 15s\tremaining: 1m 23s\n",
      "152:\tlearn: -0.1106344\ttotal: 15.1s\tremaining: 1m 23s\n",
      "153:\tlearn: -0.1102544\ttotal: 15.2s\tremaining: 1m 23s\n",
      "154:\tlearn: -0.1098698\ttotal: 15.3s\tremaining: 1m 23s\n",
      "155:\tlearn: -0.1095441\ttotal: 15.4s\tremaining: 1m 23s\n",
      "156:\tlearn: -0.1091809\ttotal: 15.5s\tremaining: 1m 23s\n",
      "157:\tlearn: -0.1088963\ttotal: 15.6s\tremaining: 1m 23s\n",
      "158:\tlearn: -0.1085327\ttotal: 15.7s\tremaining: 1m 22s\n",
      "159:\tlearn: -0.1082270\ttotal: 15.8s\tremaining: 1m 22s\n",
      "160:\tlearn: -0.1079478\ttotal: 15.9s\tremaining: 1m 22s\n",
      "161:\tlearn: -0.1076826\ttotal: 16s\tremaining: 1m 22s\n",
      "162:\tlearn: -0.1073343\ttotal: 16.1s\tremaining: 1m 22s\n",
      "163:\tlearn: -0.1070135\ttotal: 16.2s\tremaining: 1m 22s\n",
      "164:\tlearn: -0.1067177\ttotal: 16.3s\tremaining: 1m 22s\n",
      "165:\tlearn: -0.1064239\ttotal: 16.3s\tremaining: 1m 22s\n",
      "166:\tlearn: -0.1061559\ttotal: 16.4s\tremaining: 1m 21s\n",
      "167:\tlearn: -0.1058790\ttotal: 16.5s\tremaining: 1m 21s\n",
      "168:\tlearn: -0.1056070\ttotal: 16.6s\tremaining: 1m 21s\n",
      "169:\tlearn: -0.1053311\ttotal: 16.7s\tremaining: 1m 21s\n",
      "170:\tlearn: -0.1050568\ttotal: 16.8s\tremaining: 1m 21s\n",
      "171:\tlearn: -0.1048187\ttotal: 16.9s\tremaining: 1m 21s\n",
      "172:\tlearn: -0.1045528\ttotal: 17s\tremaining: 1m 21s\n",
      "173:\tlearn: -0.1042905\ttotal: 17.1s\tremaining: 1m 21s\n",
      "174:\tlearn: -0.1040333\ttotal: 17.2s\tremaining: 1m 20s\n",
      "175:\tlearn: -0.1038527\ttotal: 17.3s\tremaining: 1m 20s\n",
      "176:\tlearn: -0.1036185\ttotal: 17.4s\tremaining: 1m 20s\n",
      "177:\tlearn: -0.1033898\ttotal: 17.4s\tremaining: 1m 20s\n",
      "178:\tlearn: -0.1031823\ttotal: 17.5s\tremaining: 1m 20s\n",
      "179:\tlearn: -0.1029341\ttotal: 17.6s\tremaining: 1m 20s\n",
      "180:\tlearn: -0.1026485\ttotal: 17.8s\tremaining: 1m 20s\n",
      "181:\tlearn: -0.1024236\ttotal: 17.9s\tremaining: 1m 20s\n",
      "182:\tlearn: -0.1022625\ttotal: 18s\tremaining: 1m 20s\n",
      "183:\tlearn: -0.1020685\ttotal: 18.1s\tremaining: 1m 20s\n",
      "184:\tlearn: -0.1018544\ttotal: 18.2s\tremaining: 1m 20s\n",
      "185:\tlearn: -0.1016894\ttotal: 18.3s\tremaining: 1m 20s\n",
      "186:\tlearn: -0.1015781\ttotal: 18.4s\tremaining: 1m 19s\n",
      "187:\tlearn: -0.1013513\ttotal: 18.5s\tremaining: 1m 19s\n",
      "188:\tlearn: -0.1011969\ttotal: 18.6s\tremaining: 1m 19s\n",
      "189:\tlearn: -0.1010147\ttotal: 18.7s\tremaining: 1m 19s\n",
      "190:\tlearn: -0.1008269\ttotal: 18.7s\tremaining: 1m 19s\n",
      "191:\tlearn: -0.1006042\ttotal: 18.8s\tremaining: 1m 19s\n",
      "192:\tlearn: -0.1004481\ttotal: 18.9s\tremaining: 1m 19s\n",
      "193:\tlearn: -0.1002445\ttotal: 19s\tremaining: 1m 19s\n",
      "194:\tlearn: -0.1001080\ttotal: 19.1s\tremaining: 1m 18s\n",
      "195:\tlearn: -0.0999019\ttotal: 19.2s\tremaining: 1m 18s\n",
      "196:\tlearn: -0.0996868\ttotal: 19.3s\tremaining: 1m 18s\n",
      "197:\tlearn: -0.0995279\ttotal: 19.4s\tremaining: 1m 18s\n",
      "198:\tlearn: -0.0993547\ttotal: 19.5s\tremaining: 1m 18s\n",
      "199:\tlearn: -0.0991702\ttotal: 19.6s\tremaining: 1m 18s\n",
      "200:\tlearn: -0.0990029\ttotal: 19.7s\tremaining: 1m 18s\n",
      "201:\tlearn: -0.0988610\ttotal: 19.8s\tremaining: 1m 18s\n",
      "202:\tlearn: -0.0987017\ttotal: 19.8s\tremaining: 1m 17s\n",
      "203:\tlearn: -0.0985255\ttotal: 19.9s\tremaining: 1m 17s\n",
      "204:\tlearn: -0.0983711\ttotal: 20s\tremaining: 1m 17s\n",
      "205:\tlearn: -0.0981893\ttotal: 20.1s\tremaining: 1m 17s\n",
      "206:\tlearn: -0.0980543\ttotal: 20.2s\tremaining: 1m 17s\n",
      "207:\tlearn: -0.0979233\ttotal: 20.3s\tremaining: 1m 17s\n",
      "208:\tlearn: -0.0977762\ttotal: 20.4s\tremaining: 1m 17s\n",
      "209:\tlearn: -0.0976340\ttotal: 20.5s\tremaining: 1m 17s\n",
      "210:\tlearn: -0.0974761\ttotal: 20.6s\tremaining: 1m 17s\n",
      "211:\tlearn: -0.0973319\ttotal: 20.7s\tremaining: 1m 16s\n",
      "212:\tlearn: -0.0971770\ttotal: 20.8s\tremaining: 1m 16s\n",
      "213:\tlearn: -0.0970693\ttotal: 20.9s\tremaining: 1m 16s\n",
      "214:\tlearn: -0.0969124\ttotal: 21s\tremaining: 1m 16s\n",
      "215:\tlearn: -0.0968340\ttotal: 21s\tremaining: 1m 16s\n",
      "216:\tlearn: -0.0967231\ttotal: 21.1s\tremaining: 1m 16s\n",
      "217:\tlearn: -0.0966144\ttotal: 21.2s\tremaining: 1m 16s\n",
      "218:\tlearn: -0.0965249\ttotal: 21.3s\tremaining: 1m 15s\n",
      "219:\tlearn: -0.0963879\ttotal: 21.4s\tremaining: 1m 15s\n",
      "220:\tlearn: -0.0962774\ttotal: 21.5s\tremaining: 1m 15s\n",
      "221:\tlearn: -0.0961139\ttotal: 21.6s\tremaining: 1m 15s\n",
      "222:\tlearn: -0.0959856\ttotal: 21.7s\tremaining: 1m 15s\n",
      "223:\tlearn: -0.0958908\ttotal: 21.7s\tremaining: 1m 15s\n",
      "224:\tlearn: -0.0958341\ttotal: 21.8s\tremaining: 1m 15s\n",
      "225:\tlearn: -0.0956996\ttotal: 21.9s\tremaining: 1m 15s\n",
      "226:\tlearn: -0.0955809\ttotal: 22s\tremaining: 1m 14s\n",
      "227:\tlearn: -0.0954978\ttotal: 22.1s\tremaining: 1m 14s\n",
      "228:\tlearn: -0.0953664\ttotal: 22.2s\tremaining: 1m 14s\n",
      "229:\tlearn: -0.0952702\ttotal: 22.3s\tremaining: 1m 14s\n",
      "230:\tlearn: -0.0951881\ttotal: 22.4s\tremaining: 1m 14s\n",
      "231:\tlearn: -0.0950651\ttotal: 22.4s\tremaining: 1m 14s\n",
      "232:\tlearn: -0.0949590\ttotal: 22.5s\tremaining: 1m 14s\n",
      "233:\tlearn: -0.0948191\ttotal: 22.6s\tremaining: 1m 14s\n",
      "234:\tlearn: -0.0947511\ttotal: 22.7s\tremaining: 1m 14s\n",
      "235:\tlearn: -0.0946368\ttotal: 22.8s\tremaining: 1m 13s\n",
      "236:\tlearn: -0.0945346\ttotal: 22.9s\tremaining: 1m 13s\n",
      "237:\tlearn: -0.0944630\ttotal: 23s\tremaining: 1m 13s\n",
      "238:\tlearn: -0.0943436\ttotal: 23.1s\tremaining: 1m 13s\n",
      "239:\tlearn: -0.0942417\ttotal: 23.2s\tremaining: 1m 13s\n",
      "240:\tlearn: -0.0941538\ttotal: 23.3s\tremaining: 1m 13s\n",
      "241:\tlearn: -0.0940657\ttotal: 23.5s\tremaining: 1m 13s\n",
      "242:\tlearn: -0.0939735\ttotal: 23.6s\tremaining: 1m 13s\n",
      "243:\tlearn: -0.0938603\ttotal: 23.7s\tremaining: 1m 13s\n",
      "244:\tlearn: -0.0937791\ttotal: 23.8s\tremaining: 1m 13s\n",
      "245:\tlearn: -0.0936794\ttotal: 23.9s\tremaining: 1m 13s\n",
      "246:\tlearn: -0.0935785\ttotal: 24s\tremaining: 1m 13s\n",
      "247:\tlearn: -0.0934920\ttotal: 24.1s\tremaining: 1m 13s\n",
      "248:\tlearn: -0.0933968\ttotal: 24.2s\tremaining: 1m 12s\n",
      "249:\tlearn: -0.0933155\ttotal: 24.3s\tremaining: 1m 12s\n",
      "250:\tlearn: -0.0932289\ttotal: 24.4s\tremaining: 1m 12s\n",
      "251:\tlearn: -0.0931478\ttotal: 24.5s\tremaining: 1m 12s\n",
      "252:\tlearn: -0.0930929\ttotal: 24.6s\tremaining: 1m 12s\n",
      "253:\tlearn: -0.0930055\ttotal: 24.6s\tremaining: 1m 12s\n",
      "254:\tlearn: -0.0929081\ttotal: 24.8s\tremaining: 1m 12s\n",
      "255:\tlearn: -0.0928136\ttotal: 24.9s\tremaining: 1m 12s\n",
      "256:\tlearn: -0.0927613\ttotal: 24.9s\tremaining: 1m 12s\n",
      "257:\tlearn: -0.0926330\ttotal: 25s\tremaining: 1m 11s\n",
      "258:\tlearn: -0.0925691\ttotal: 25.1s\tremaining: 1m 11s\n",
      "259:\tlearn: -0.0924856\ttotal: 25.2s\tremaining: 1m 11s\n",
      "260:\tlearn: -0.0924047\ttotal: 25.3s\tremaining: 1m 11s\n",
      "261:\tlearn: -0.0923270\ttotal: 25.4s\tremaining: 1m 11s\n",
      "262:\tlearn: -0.0922332\ttotal: 25.5s\tremaining: 1m 11s\n",
      "263:\tlearn: -0.0921754\ttotal: 25.6s\tremaining: 1m 11s\n",
      "264:\tlearn: -0.0920996\ttotal: 25.7s\tremaining: 1m 11s\n",
      "265:\tlearn: -0.0920209\ttotal: 25.7s\tremaining: 1m 11s\n",
      "266:\tlearn: -0.0919434\ttotal: 25.8s\tremaining: 1m 10s\n",
      "267:\tlearn: -0.0918959\ttotal: 25.9s\tremaining: 1m 10s\n",
      "268:\tlearn: -0.0918361\ttotal: 26s\tremaining: 1m 10s\n",
      "269:\tlearn: -0.0917646\ttotal: 26.1s\tremaining: 1m 10s\n",
      "270:\tlearn: -0.0916798\ttotal: 26.2s\tremaining: 1m 10s\n",
      "271:\tlearn: -0.0916244\ttotal: 26.3s\tremaining: 1m 10s\n",
      "272:\tlearn: -0.0915531\ttotal: 26.4s\tremaining: 1m 10s\n",
      "273:\tlearn: -0.0914879\ttotal: 26.5s\tremaining: 1m 10s\n",
      "274:\tlearn: -0.0914031\ttotal: 26.5s\tremaining: 1m 9s\n",
      "275:\tlearn: -0.0913220\ttotal: 26.6s\tremaining: 1m 9s\n",
      "276:\tlearn: -0.0912192\ttotal: 26.7s\tremaining: 1m 9s\n",
      "277:\tlearn: -0.0911669\ttotal: 26.8s\tremaining: 1m 9s\n",
      "278:\tlearn: -0.0911071\ttotal: 26.9s\tremaining: 1m 9s\n",
      "279:\tlearn: -0.0910716\ttotal: 27s\tremaining: 1m 9s\n",
      "280:\tlearn: -0.0910253\ttotal: 27.1s\tremaining: 1m 9s\n",
      "281:\tlearn: -0.0909606\ttotal: 27.2s\tremaining: 1m 9s\n",
      "282:\tlearn: -0.0908862\ttotal: 27.3s\tremaining: 1m 9s\n",
      "283:\tlearn: -0.0908447\ttotal: 27.4s\tremaining: 1m 9s\n",
      "284:\tlearn: -0.0907780\ttotal: 27.5s\tremaining: 1m 8s\n",
      "285:\tlearn: -0.0907358\ttotal: 27.6s\tremaining: 1m 8s\n",
      "286:\tlearn: -0.0906749\ttotal: 27.6s\tremaining: 1m 8s\n",
      "287:\tlearn: -0.0905967\ttotal: 27.7s\tremaining: 1m 8s\n",
      "288:\tlearn: -0.0905425\ttotal: 27.8s\tremaining: 1m 8s\n",
      "289:\tlearn: -0.0904963\ttotal: 27.9s\tremaining: 1m 8s\n",
      "290:\tlearn: -0.0904303\ttotal: 28s\tremaining: 1m 8s\n",
      "291:\tlearn: -0.0903658\ttotal: 28.1s\tremaining: 1m 8s\n",
      "292:\tlearn: -0.0903106\ttotal: 28.2s\tremaining: 1m 7s\n",
      "293:\tlearn: -0.0902506\ttotal: 28.3s\tremaining: 1m 7s\n",
      "294:\tlearn: -0.0901819\ttotal: 28.4s\tremaining: 1m 7s\n",
      "295:\tlearn: -0.0901410\ttotal: 28.5s\tremaining: 1m 7s\n",
      "296:\tlearn: -0.0900813\ttotal: 28.6s\tremaining: 1m 7s\n",
      "297:\tlearn: -0.0900361\ttotal: 28.7s\tremaining: 1m 7s\n",
      "298:\tlearn: -0.0899772\ttotal: 28.8s\tremaining: 1m 7s\n",
      "299:\tlearn: -0.0899324\ttotal: 28.9s\tremaining: 1m 7s\n",
      "300:\tlearn: -0.0898764\ttotal: 29s\tremaining: 1m 7s\n",
      "301:\tlearn: -0.0898360\ttotal: 29s\tremaining: 1m 7s\n",
      "302:\tlearn: -0.0897775\ttotal: 29.1s\tremaining: 1m 7s\n",
      "303:\tlearn: -0.0897286\ttotal: 29.2s\tremaining: 1m 6s\n",
      "304:\tlearn: -0.0896684\ttotal: 29.3s\tremaining: 1m 6s\n",
      "305:\tlearn: -0.0896185\ttotal: 29.4s\tremaining: 1m 6s\n",
      "306:\tlearn: -0.0895605\ttotal: 29.5s\tremaining: 1m 6s\n",
      "307:\tlearn: -0.0895080\ttotal: 29.6s\tremaining: 1m 6s\n",
      "308:\tlearn: -0.0894542\ttotal: 29.7s\tremaining: 1m 6s\n",
      "309:\tlearn: -0.0893911\ttotal: 29.8s\tremaining: 1m 6s\n",
      "310:\tlearn: -0.0893458\ttotal: 29.9s\tremaining: 1m 6s\n",
      "311:\tlearn: -0.0893191\ttotal: 30s\tremaining: 1m 6s\n",
      "312:\tlearn: -0.0892820\ttotal: 30.1s\tremaining: 1m 6s\n",
      "313:\tlearn: -0.0892500\ttotal: 30.2s\tremaining: 1m 6s\n",
      "314:\tlearn: -0.0891865\ttotal: 30.4s\tremaining: 1m 6s\n",
      "315:\tlearn: -0.0891608\ttotal: 30.5s\tremaining: 1m 5s\n",
      "316:\tlearn: -0.0891070\ttotal: 30.6s\tremaining: 1m 5s\n",
      "317:\tlearn: -0.0890507\ttotal: 30.7s\tremaining: 1m 5s\n",
      "318:\tlearn: -0.0890089\ttotal: 30.8s\tremaining: 1m 5s\n",
      "319:\tlearn: -0.0889651\ttotal: 30.9s\tremaining: 1m 5s\n",
      "320:\tlearn: -0.0889204\ttotal: 31s\tremaining: 1m 5s\n",
      "321:\tlearn: -0.0888834\ttotal: 31.1s\tremaining: 1m 5s\n",
      "322:\tlearn: -0.0888366\ttotal: 31.2s\tremaining: 1m 5s\n",
      "323:\tlearn: -0.0887913\ttotal: 31.3s\tremaining: 1m 5s\n",
      "324:\tlearn: -0.0887339\ttotal: 31.4s\tremaining: 1m 5s\n",
      "325:\tlearn: -0.0886738\ttotal: 31.5s\tremaining: 1m 5s\n",
      "326:\tlearn: -0.0886309\ttotal: 31.6s\tremaining: 1m 4s\n",
      "327:\tlearn: -0.0885907\ttotal: 31.7s\tremaining: 1m 4s\n",
      "328:\tlearn: -0.0885435\ttotal: 31.8s\tremaining: 1m 4s\n",
      "329:\tlearn: -0.0885022\ttotal: 31.9s\tremaining: 1m 4s\n",
      "330:\tlearn: -0.0884730\ttotal: 32s\tremaining: 1m 4s\n",
      "331:\tlearn: -0.0884391\ttotal: 32s\tremaining: 1m 4s\n",
      "332:\tlearn: -0.0883766\ttotal: 32.2s\tremaining: 1m 4s\n",
      "333:\tlearn: -0.0883012\ttotal: 32.3s\tremaining: 1m 4s\n",
      "334:\tlearn: -0.0882637\ttotal: 32.4s\tremaining: 1m 4s\n",
      "335:\tlearn: -0.0882061\ttotal: 32.5s\tremaining: 1m 4s\n",
      "336:\tlearn: -0.0881656\ttotal: 32.6s\tremaining: 1m 4s\n",
      "337:\tlearn: -0.0881347\ttotal: 32.7s\tremaining: 1m 3s\n",
      "338:\tlearn: -0.0880828\ttotal: 32.8s\tremaining: 1m 3s\n",
      "339:\tlearn: -0.0880182\ttotal: 32.9s\tremaining: 1m 3s\n",
      "340:\tlearn: -0.0879875\ttotal: 33s\tremaining: 1m 3s\n",
      "341:\tlearn: -0.0879388\ttotal: 33.1s\tremaining: 1m 3s\n",
      "342:\tlearn: -0.0878965\ttotal: 33.2s\tremaining: 1m 3s\n",
      "343:\tlearn: -0.0878325\ttotal: 33.3s\tremaining: 1m 3s\n",
      "344:\tlearn: -0.0877919\ttotal: 33.4s\tremaining: 1m 3s\n",
      "345:\tlearn: -0.0877570\ttotal: 33.5s\tremaining: 1m 3s\n",
      "346:\tlearn: -0.0877160\ttotal: 33.5s\tremaining: 1m 3s\n",
      "347:\tlearn: -0.0876647\ttotal: 33.6s\tremaining: 1m 3s\n",
      "348:\tlearn: -0.0876040\ttotal: 33.7s\tremaining: 1m 2s\n",
      "349:\tlearn: -0.0875478\ttotal: 33.8s\tremaining: 1m 2s\n",
      "350:\tlearn: -0.0875175\ttotal: 33.9s\tremaining: 1m 2s\n",
      "351:\tlearn: -0.0874595\ttotal: 34s\tremaining: 1m 2s\n",
      "352:\tlearn: -0.0874179\ttotal: 34.1s\tremaining: 1m 2s\n",
      "353:\tlearn: -0.0873807\ttotal: 34.2s\tremaining: 1m 2s\n",
      "354:\tlearn: -0.0873432\ttotal: 34.3s\tremaining: 1m 2s\n",
      "355:\tlearn: -0.0873133\ttotal: 34.4s\tremaining: 1m 2s\n",
      "356:\tlearn: -0.0872775\ttotal: 34.5s\tremaining: 1m 2s\n",
      "357:\tlearn: -0.0872285\ttotal: 34.6s\tremaining: 1m 2s\n",
      "358:\tlearn: -0.0872027\ttotal: 34.7s\tremaining: 1m 1s\n",
      "359:\tlearn: -0.0871332\ttotal: 34.8s\tremaining: 1m 1s\n",
      "360:\tlearn: -0.0870961\ttotal: 34.9s\tremaining: 1m 1s\n",
      "361:\tlearn: -0.0870740\ttotal: 34.9s\tremaining: 1m 1s\n",
      "362:\tlearn: -0.0870483\ttotal: 35s\tremaining: 1m 1s\n",
      "363:\tlearn: -0.0870081\ttotal: 35.1s\tremaining: 1m 1s\n",
      "364:\tlearn: -0.0869684\ttotal: 35.2s\tremaining: 1m 1s\n",
      "365:\tlearn: -0.0869184\ttotal: 35.3s\tremaining: 1m 1s\n",
      "366:\tlearn: -0.0868720\ttotal: 35.4s\tremaining: 1m 1s\n",
      "367:\tlearn: -0.0868354\ttotal: 35.5s\tremaining: 1m\n",
      "368:\tlearn: -0.0867996\ttotal: 35.6s\tremaining: 1m\n",
      "369:\tlearn: -0.0867686\ttotal: 35.7s\tremaining: 1m\n",
      "370:\tlearn: -0.0867407\ttotal: 35.8s\tremaining: 1m\n",
      "371:\tlearn: -0.0867143\ttotal: 35.9s\tremaining: 1m\n",
      "372:\tlearn: -0.0866766\ttotal: 36s\tremaining: 1m\n",
      "373:\tlearn: -0.0866524\ttotal: 36.1s\tremaining: 1m\n",
      "374:\tlearn: -0.0865872\ttotal: 36.2s\tremaining: 1m\n",
      "375:\tlearn: -0.0865569\ttotal: 36.3s\tremaining: 1m\n",
      "376:\tlearn: -0.0864873\ttotal: 36.4s\tremaining: 1m\n",
      "377:\tlearn: -0.0864574\ttotal: 36.5s\tremaining: 1m\n",
      "378:\tlearn: -0.0864324\ttotal: 36.6s\tremaining: 59.9s\n",
      "379:\tlearn: -0.0864063\ttotal: 36.7s\tremaining: 59.8s\n",
      "380:\tlearn: -0.0863570\ttotal: 36.7s\tremaining: 59.7s\n",
      "381:\tlearn: -0.0863093\ttotal: 36.8s\tremaining: 59.6s\n",
      "382:\tlearn: -0.0862745\ttotal: 36.9s\tremaining: 59.4s\n",
      "383:\tlearn: -0.0862309\ttotal: 37s\tremaining: 59.3s\n",
      "384:\tlearn: -0.0862008\ttotal: 37.1s\tremaining: 59.2s\n",
      "385:\tlearn: -0.0861642\ttotal: 37.1s\tremaining: 59.1s\n",
      "386:\tlearn: -0.0861370\ttotal: 37.2s\tremaining: 58.9s\n",
      "387:\tlearn: -0.0861026\ttotal: 37.3s\tremaining: 58.8s\n",
      "388:\tlearn: -0.0860754\ttotal: 37.4s\tremaining: 58.7s\n",
      "389:\tlearn: -0.0860555\ttotal: 37.5s\tremaining: 58.6s\n",
      "390:\tlearn: -0.0860185\ttotal: 37.6s\tremaining: 58.5s\n",
      "391:\tlearn: -0.0859844\ttotal: 37.6s\tremaining: 58.4s\n",
      "392:\tlearn: -0.0859607\ttotal: 37.7s\tremaining: 58.3s\n",
      "393:\tlearn: -0.0859302\ttotal: 37.8s\tremaining: 58.2s\n",
      "394:\tlearn: -0.0858945\ttotal: 37.9s\tremaining: 58.1s\n",
      "395:\tlearn: -0.0858731\ttotal: 38s\tremaining: 58s\n",
      "396:\tlearn: -0.0858396\ttotal: 38.1s\tremaining: 57.9s\n",
      "397:\tlearn: -0.0858071\ttotal: 38.2s\tremaining: 57.7s\n",
      "398:\tlearn: -0.0857777\ttotal: 38.2s\tremaining: 57.6s\n",
      "399:\tlearn: -0.0857622\ttotal: 38.3s\tremaining: 57.5s\n",
      "400:\tlearn: -0.0857340\ttotal: 38.4s\tremaining: 57.4s\n",
      "401:\tlearn: -0.0856914\ttotal: 38.5s\tremaining: 57.3s\n",
      "402:\tlearn: -0.0856660\ttotal: 38.6s\tremaining: 57.1s\n",
      "403:\tlearn: -0.0856448\ttotal: 38.7s\tremaining: 57s\n",
      "404:\tlearn: -0.0856000\ttotal: 38.7s\tremaining: 56.9s\n",
      "405:\tlearn: -0.0855717\ttotal: 38.8s\tremaining: 56.8s\n",
      "406:\tlearn: -0.0855288\ttotal: 38.9s\tremaining: 56.7s\n",
      "407:\tlearn: -0.0855089\ttotal: 39s\tremaining: 56.6s\n",
      "408:\tlearn: -0.0854844\ttotal: 39.1s\tremaining: 56.5s\n",
      "409:\tlearn: -0.0854557\ttotal: 39.2s\tremaining: 56.3s\n",
      "410:\tlearn: -0.0854049\ttotal: 39.2s\tremaining: 56.2s\n",
      "411:\tlearn: -0.0853625\ttotal: 39.3s\tremaining: 56.1s\n",
      "412:\tlearn: -0.0853412\ttotal: 39.4s\tremaining: 56s\n",
      "413:\tlearn: -0.0853101\ttotal: 39.5s\tremaining: 55.9s\n",
      "414:\tlearn: -0.0852824\ttotal: 39.6s\tremaining: 55.8s\n",
      "415:\tlearn: -0.0852588\ttotal: 39.7s\tremaining: 55.7s\n",
      "416:\tlearn: -0.0852259\ttotal: 39.7s\tremaining: 55.6s\n",
      "417:\tlearn: -0.0851986\ttotal: 39.8s\tremaining: 55.5s\n",
      "418:\tlearn: -0.0851615\ttotal: 39.9s\tremaining: 55.3s\n",
      "419:\tlearn: -0.0851195\ttotal: 40s\tremaining: 55.2s\n",
      "420:\tlearn: -0.0850886\ttotal: 40.1s\tremaining: 55.1s\n",
      "421:\tlearn: -0.0850640\ttotal: 40.2s\tremaining: 55s\n",
      "422:\tlearn: -0.0850424\ttotal: 40.3s\tremaining: 54.9s\n",
      "423:\tlearn: -0.0850205\ttotal: 40.3s\tremaining: 54.8s\n",
      "424:\tlearn: -0.0850033\ttotal: 40.4s\tremaining: 54.7s\n",
      "425:\tlearn: -0.0849630\ttotal: 40.5s\tremaining: 54.6s\n",
      "426:\tlearn: -0.0849403\ttotal: 40.6s\tremaining: 54.5s\n",
      "427:\tlearn: -0.0849017\ttotal: 40.7s\tremaining: 54.4s\n",
      "428:\tlearn: -0.0848724\ttotal: 40.7s\tremaining: 54.2s\n",
      "429:\tlearn: -0.0848532\ttotal: 40.8s\tremaining: 54.1s\n",
      "430:\tlearn: -0.0848364\ttotal: 40.9s\tremaining: 54s\n",
      "431:\tlearn: -0.0848036\ttotal: 41s\tremaining: 53.9s\n",
      "432:\tlearn: -0.0847729\ttotal: 41.1s\tremaining: 53.8s\n",
      "433:\tlearn: -0.0847538\ttotal: 41.2s\tremaining: 53.7s\n",
      "434:\tlearn: -0.0847223\ttotal: 41.3s\tremaining: 53.6s\n",
      "435:\tlearn: -0.0846667\ttotal: 41.3s\tremaining: 53.5s\n",
      "436:\tlearn: -0.0846291\ttotal: 41.4s\tremaining: 53.4s\n",
      "437:\tlearn: -0.0845740\ttotal: 41.5s\tremaining: 53.3s\n",
      "438:\tlearn: -0.0845340\ttotal: 41.6s\tremaining: 53.2s\n",
      "439:\tlearn: -0.0845157\ttotal: 41.7s\tremaining: 53s\n",
      "440:\tlearn: -0.0844714\ttotal: 41.8s\tremaining: 53s\n",
      "441:\tlearn: -0.0844382\ttotal: 41.9s\tremaining: 52.8s\n",
      "442:\tlearn: -0.0844160\ttotal: 41.9s\tremaining: 52.7s\n",
      "443:\tlearn: -0.0843942\ttotal: 42s\tremaining: 52.6s\n",
      "444:\tlearn: -0.0843760\ttotal: 42.1s\tremaining: 52.5s\n",
      "445:\tlearn: -0.0843527\ttotal: 42.2s\tremaining: 52.4s\n",
      "446:\tlearn: -0.0843221\ttotal: 42.3s\tremaining: 52.3s\n",
      "447:\tlearn: -0.0842897\ttotal: 42.4s\tremaining: 52.2s\n",
      "448:\tlearn: -0.0842734\ttotal: 42.4s\tremaining: 52.1s\n",
      "449:\tlearn: -0.0842378\ttotal: 42.5s\tremaining: 52s\n",
      "450:\tlearn: -0.0842254\ttotal: 42.6s\tremaining: 51.9s\n",
      "451:\tlearn: -0.0841980\ttotal: 42.7s\tremaining: 51.8s\n",
      "452:\tlearn: -0.0841751\ttotal: 42.8s\tremaining: 51.6s\n",
      "453:\tlearn: -0.0841474\ttotal: 42.9s\tremaining: 51.5s\n",
      "454:\tlearn: -0.0841193\ttotal: 42.9s\tremaining: 51.4s\n",
      "455:\tlearn: -0.0840933\ttotal: 43s\tremaining: 51.3s\n",
      "456:\tlearn: -0.0840622\ttotal: 43.1s\tremaining: 51.2s\n",
      "457:\tlearn: -0.0840415\ttotal: 43.2s\tremaining: 51.1s\n",
      "458:\tlearn: -0.0839999\ttotal: 43.3s\tremaining: 51s\n",
      "459:\tlearn: -0.0839783\ttotal: 43.4s\tremaining: 50.9s\n",
      "460:\tlearn: -0.0839601\ttotal: 43.5s\tremaining: 50.8s\n",
      "461:\tlearn: -0.0839384\ttotal: 43.6s\tremaining: 50.7s\n",
      "462:\tlearn: -0.0838912\ttotal: 43.6s\tremaining: 50.6s\n",
      "463:\tlearn: -0.0838610\ttotal: 43.7s\tremaining: 50.5s\n",
      "464:\tlearn: -0.0838334\ttotal: 43.8s\tremaining: 50.4s\n",
      "465:\tlearn: -0.0838134\ttotal: 43.9s\tremaining: 50.3s\n",
      "466:\tlearn: -0.0837958\ttotal: 44s\tremaining: 50.2s\n",
      "467:\tlearn: -0.0837797\ttotal: 44.1s\tremaining: 50.2s\n",
      "468:\tlearn: -0.0837627\ttotal: 44.2s\tremaining: 50s\n",
      "469:\tlearn: -0.0837363\ttotal: 44.3s\tremaining: 49.9s\n",
      "470:\tlearn: -0.0837159\ttotal: 44.4s\tremaining: 49.8s\n",
      "471:\tlearn: -0.0836948\ttotal: 44.4s\tremaining: 49.7s\n",
      "472:\tlearn: -0.0836746\ttotal: 44.5s\tremaining: 49.6s\n",
      "473:\tlearn: -0.0836454\ttotal: 44.6s\tremaining: 49.5s\n",
      "474:\tlearn: -0.0836316\ttotal: 44.7s\tremaining: 49.4s\n",
      "475:\tlearn: -0.0836170\ttotal: 44.8s\tremaining: 49.3s\n",
      "476:\tlearn: -0.0835926\ttotal: 44.9s\tremaining: 49.2s\n",
      "477:\tlearn: -0.0835572\ttotal: 44.9s\tremaining: 49.1s\n",
      "478:\tlearn: -0.0835405\ttotal: 45s\tremaining: 49s\n",
      "479:\tlearn: -0.0835021\ttotal: 45.1s\tremaining: 48.9s\n",
      "480:\tlearn: -0.0834865\ttotal: 45.2s\tremaining: 48.7s\n",
      "481:\tlearn: -0.0834344\ttotal: 45.3s\tremaining: 48.6s\n",
      "482:\tlearn: -0.0834049\ttotal: 45.4s\tremaining: 48.6s\n",
      "483:\tlearn: -0.0833802\ttotal: 45.4s\tremaining: 48.4s\n",
      "484:\tlearn: -0.0833415\ttotal: 45.5s\tremaining: 48.3s\n",
      "485:\tlearn: -0.0833218\ttotal: 45.6s\tremaining: 48.2s\n",
      "486:\tlearn: -0.0832934\ttotal: 45.7s\tremaining: 48.1s\n",
      "487:\tlearn: -0.0832415\ttotal: 45.8s\tremaining: 48s\n",
      "488:\tlearn: -0.0832196\ttotal: 45.9s\tremaining: 47.9s\n",
      "489:\tlearn: -0.0831785\ttotal: 45.9s\tremaining: 47.8s\n",
      "490:\tlearn: -0.0831570\ttotal: 46s\tremaining: 47.7s\n",
      "491:\tlearn: -0.0831422\ttotal: 46.1s\tremaining: 47.6s\n",
      "492:\tlearn: -0.0831196\ttotal: 46.2s\tremaining: 47.5s\n",
      "493:\tlearn: -0.0830947\ttotal: 46.3s\tremaining: 47.4s\n",
      "494:\tlearn: -0.0830770\ttotal: 46.4s\tremaining: 47.3s\n",
      "495:\tlearn: -0.0830585\ttotal: 46.5s\tremaining: 47.2s\n",
      "496:\tlearn: -0.0830455\ttotal: 46.5s\tremaining: 47.1s\n",
      "497:\tlearn: -0.0830250\ttotal: 46.6s\tremaining: 47s\n",
      "498:\tlearn: -0.0830145\ttotal: 46.7s\tremaining: 46.9s\n",
      "499:\tlearn: -0.0829904\ttotal: 46.8s\tremaining: 46.8s\n",
      "500:\tlearn: -0.0829794\ttotal: 46.9s\tremaining: 46.7s\n",
      "501:\tlearn: -0.0829665\ttotal: 47s\tremaining: 46.6s\n",
      "502:\tlearn: -0.0829509\ttotal: 47.1s\tremaining: 46.5s\n",
      "503:\tlearn: -0.0829309\ttotal: 47.1s\tremaining: 46.4s\n",
      "504:\tlearn: -0.0829148\ttotal: 47.2s\tremaining: 46.3s\n",
      "505:\tlearn: -0.0828776\ttotal: 47.3s\tremaining: 46.2s\n",
      "506:\tlearn: -0.0828612\ttotal: 47.4s\tremaining: 46.1s\n",
      "507:\tlearn: -0.0828387\ttotal: 47.5s\tremaining: 46s\n",
      "508:\tlearn: -0.0828260\ttotal: 47.5s\tremaining: 45.9s\n",
      "509:\tlearn: -0.0828105\ttotal: 47.6s\tremaining: 45.8s\n",
      "510:\tlearn: -0.0827903\ttotal: 47.7s\tremaining: 45.6s\n",
      "511:\tlearn: -0.0827765\ttotal: 47.8s\tremaining: 45.5s\n",
      "512:\tlearn: -0.0827463\ttotal: 47.9s\tremaining: 45.4s\n",
      "513:\tlearn: -0.0827147\ttotal: 47.9s\tremaining: 45.3s\n",
      "514:\tlearn: -0.0826971\ttotal: 48s\tremaining: 45.2s\n",
      "515:\tlearn: -0.0826774\ttotal: 48.1s\tremaining: 45.1s\n",
      "516:\tlearn: -0.0826632\ttotal: 48.2s\tremaining: 45s\n",
      "517:\tlearn: -0.0826356\ttotal: 48.3s\tremaining: 44.9s\n",
      "518:\tlearn: -0.0826115\ttotal: 48.4s\tremaining: 44.8s\n",
      "519:\tlearn: -0.0825686\ttotal: 48.4s\tremaining: 44.7s\n",
      "520:\tlearn: -0.0825452\ttotal: 48.5s\tremaining: 44.6s\n",
      "521:\tlearn: -0.0825322\ttotal: 48.6s\tremaining: 44.5s\n",
      "522:\tlearn: -0.0825010\ttotal: 48.7s\tremaining: 44.4s\n",
      "523:\tlearn: -0.0824711\ttotal: 48.8s\tremaining: 44.3s\n",
      "524:\tlearn: -0.0824620\ttotal: 48.9s\tremaining: 44.2s\n",
      "525:\tlearn: -0.0824509\ttotal: 48.9s\tremaining: 44.1s\n",
      "526:\tlearn: -0.0824272\ttotal: 49s\tremaining: 44s\n",
      "527:\tlearn: -0.0824094\ttotal: 49.1s\tremaining: 43.9s\n",
      "528:\tlearn: -0.0823830\ttotal: 49.2s\tremaining: 43.8s\n",
      "529:\tlearn: -0.0823699\ttotal: 49.3s\tremaining: 43.7s\n",
      "530:\tlearn: -0.0823627\ttotal: 49.4s\tremaining: 43.6s\n",
      "531:\tlearn: -0.0823434\ttotal: 49.4s\tremaining: 43.5s\n",
      "532:\tlearn: -0.0823169\ttotal: 49.5s\tremaining: 43.4s\n",
      "533:\tlearn: -0.0822990\ttotal: 49.6s\tremaining: 43.3s\n",
      "534:\tlearn: -0.0822730\ttotal: 49.7s\tremaining: 43.2s\n",
      "535:\tlearn: -0.0822283\ttotal: 49.8s\tremaining: 43.1s\n",
      "536:\tlearn: -0.0822071\ttotal: 49.9s\tremaining: 43s\n",
      "537:\tlearn: -0.0821797\ttotal: 49.9s\tremaining: 42.9s\n",
      "538:\tlearn: -0.0821638\ttotal: 50s\tremaining: 42.8s\n",
      "539:\tlearn: -0.0821466\ttotal: 50.1s\tremaining: 42.7s\n",
      "540:\tlearn: -0.0821021\ttotal: 50.2s\tremaining: 42.6s\n",
      "541:\tlearn: -0.0820663\ttotal: 50.3s\tremaining: 42.5s\n",
      "542:\tlearn: -0.0820315\ttotal: 50.4s\tremaining: 42.4s\n",
      "543:\tlearn: -0.0820091\ttotal: 50.4s\tremaining: 42.3s\n",
      "544:\tlearn: -0.0819709\ttotal: 50.5s\tremaining: 42.2s\n",
      "545:\tlearn: -0.0819554\ttotal: 50.6s\tremaining: 42.1s\n",
      "546:\tlearn: -0.0819368\ttotal: 50.7s\tremaining: 42s\n",
      "547:\tlearn: -0.0819242\ttotal: 50.8s\tremaining: 41.9s\n",
      "548:\tlearn: -0.0818734\ttotal: 50.9s\tremaining: 41.8s\n",
      "549:\tlearn: -0.0818626\ttotal: 51s\tremaining: 41.7s\n",
      "550:\tlearn: -0.0818477\ttotal: 51s\tremaining: 41.6s\n",
      "551:\tlearn: -0.0818211\ttotal: 51.1s\tremaining: 41.5s\n",
      "552:\tlearn: -0.0818024\ttotal: 51.2s\tremaining: 41.4s\n",
      "553:\tlearn: -0.0817840\ttotal: 51.3s\tremaining: 41.3s\n",
      "554:\tlearn: -0.0817610\ttotal: 51.4s\tremaining: 41.2s\n",
      "555:\tlearn: -0.0817513\ttotal: 51.4s\tremaining: 41.1s\n",
      "556:\tlearn: -0.0817415\ttotal: 51.5s\tremaining: 41s\n",
      "557:\tlearn: -0.0817152\ttotal: 51.6s\tremaining: 40.9s\n",
      "558:\tlearn: -0.0816784\ttotal: 51.7s\tremaining: 40.8s\n",
      "559:\tlearn: -0.0816660\ttotal: 51.8s\tremaining: 40.7s\n",
      "560:\tlearn: -0.0816496\ttotal: 51.9s\tremaining: 40.6s\n",
      "561:\tlearn: -0.0816138\ttotal: 51.9s\tremaining: 40.5s\n",
      "562:\tlearn: -0.0815970\ttotal: 52s\tremaining: 40.4s\n",
      "563:\tlearn: -0.0815651\ttotal: 52.1s\tremaining: 40.3s\n",
      "564:\tlearn: -0.0815179\ttotal: 52.2s\tremaining: 40.2s\n",
      "565:\tlearn: -0.0814946\ttotal: 52.3s\tremaining: 40.1s\n",
      "566:\tlearn: -0.0814719\ttotal: 52.4s\tremaining: 40s\n",
      "567:\tlearn: -0.0814335\ttotal: 52.4s\tremaining: 39.9s\n",
      "568:\tlearn: -0.0814225\ttotal: 52.5s\tremaining: 39.8s\n",
      "569:\tlearn: -0.0814095\ttotal: 52.6s\tremaining: 39.7s\n",
      "570:\tlearn: -0.0813599\ttotal: 52.7s\tremaining: 39.6s\n",
      "571:\tlearn: -0.0813435\ttotal: 52.8s\tremaining: 39.5s\n",
      "572:\tlearn: -0.0813062\ttotal: 52.9s\tremaining: 39.4s\n",
      "573:\tlearn: -0.0812804\ttotal: 52.9s\tremaining: 39.3s\n",
      "574:\tlearn: -0.0812621\ttotal: 53s\tremaining: 39.2s\n",
      "575:\tlearn: -0.0812367\ttotal: 53.1s\tremaining: 39.1s\n",
      "576:\tlearn: -0.0812179\ttotal: 53.2s\tremaining: 39s\n",
      "577:\tlearn: -0.0811747\ttotal: 53.3s\tremaining: 38.9s\n",
      "578:\tlearn: -0.0811583\ttotal: 53.4s\tremaining: 38.8s\n",
      "579:\tlearn: -0.0811464\ttotal: 53.5s\tremaining: 38.7s\n",
      "580:\tlearn: -0.0811291\ttotal: 53.5s\tremaining: 38.6s\n",
      "581:\tlearn: -0.0811018\ttotal: 53.6s\tremaining: 38.5s\n",
      "582:\tlearn: -0.0810919\ttotal: 53.7s\tremaining: 38.4s\n",
      "583:\tlearn: -0.0810706\ttotal: 53.8s\tremaining: 38.3s\n",
      "584:\tlearn: -0.0810545\ttotal: 53.9s\tremaining: 38.2s\n",
      "585:\tlearn: -0.0810247\ttotal: 54s\tremaining: 38.1s\n",
      "586:\tlearn: -0.0810198\ttotal: 54.1s\tremaining: 38s\n",
      "587:\tlearn: -0.0809808\ttotal: 54.1s\tremaining: 37.9s\n",
      "588:\tlearn: -0.0809541\ttotal: 54.2s\tremaining: 37.8s\n",
      "589:\tlearn: -0.0809262\ttotal: 54.3s\tremaining: 37.7s\n",
      "590:\tlearn: -0.0809178\ttotal: 54.4s\tremaining: 37.6s\n",
      "591:\tlearn: -0.0808743\ttotal: 54.5s\tremaining: 37.5s\n",
      "592:\tlearn: -0.0808612\ttotal: 54.5s\tremaining: 37.4s\n",
      "593:\tlearn: -0.0808528\ttotal: 54.6s\tremaining: 37.3s\n",
      "594:\tlearn: -0.0808330\ttotal: 54.7s\tremaining: 37.2s\n",
      "595:\tlearn: -0.0808142\ttotal: 54.8s\tremaining: 37.1s\n",
      "596:\tlearn: -0.0808004\ttotal: 54.9s\tremaining: 37s\n",
      "597:\tlearn: -0.0807696\ttotal: 55s\tremaining: 36.9s\n",
      "598:\tlearn: -0.0807580\ttotal: 55s\tremaining: 36.9s\n",
      "599:\tlearn: -0.0807390\ttotal: 55.1s\tremaining: 36.8s\n",
      "600:\tlearn: -0.0807271\ttotal: 55.2s\tremaining: 36.7s\n",
      "601:\tlearn: -0.0807108\ttotal: 55.3s\tremaining: 36.6s\n",
      "602:\tlearn: -0.0807009\ttotal: 55.4s\tremaining: 36.5s\n",
      "603:\tlearn: -0.0806703\ttotal: 55.5s\tremaining: 36.4s\n",
      "604:\tlearn: -0.0806608\ttotal: 55.6s\tremaining: 36.3s\n",
      "605:\tlearn: -0.0806396\ttotal: 55.6s\tremaining: 36.2s\n",
      "606:\tlearn: -0.0806261\ttotal: 55.7s\tremaining: 36.1s\n",
      "607:\tlearn: -0.0806192\ttotal: 55.8s\tremaining: 36s\n",
      "608:\tlearn: -0.0805949\ttotal: 55.9s\tremaining: 35.9s\n",
      "609:\tlearn: -0.0805834\ttotal: 56s\tremaining: 35.8s\n",
      "610:\tlearn: -0.0805589\ttotal: 56.1s\tremaining: 35.7s\n",
      "611:\tlearn: -0.0805319\ttotal: 56.2s\tremaining: 35.6s\n",
      "612:\tlearn: -0.0805105\ttotal: 56.3s\tremaining: 35.5s\n",
      "613:\tlearn: -0.0805020\ttotal: 56.4s\tremaining: 35.4s\n",
      "614:\tlearn: -0.0804916\ttotal: 56.5s\tremaining: 35.3s\n",
      "615:\tlearn: -0.0804725\ttotal: 56.6s\tremaining: 35.3s\n",
      "616:\tlearn: -0.0804596\ttotal: 56.7s\tremaining: 35.2s\n",
      "617:\tlearn: -0.0804466\ttotal: 56.7s\tremaining: 35.1s\n",
      "618:\tlearn: -0.0804312\ttotal: 56.8s\tremaining: 35s\n",
      "619:\tlearn: -0.0804244\ttotal: 56.9s\tremaining: 34.9s\n",
      "620:\tlearn: -0.0803944\ttotal: 57s\tremaining: 34.8s\n",
      "621:\tlearn: -0.0803728\ttotal: 57.1s\tremaining: 34.7s\n",
      "622:\tlearn: -0.0803584\ttotal: 57.2s\tremaining: 34.6s\n",
      "623:\tlearn: -0.0803459\ttotal: 57.3s\tremaining: 34.5s\n",
      "624:\tlearn: -0.0803365\ttotal: 57.4s\tremaining: 34.4s\n",
      "625:\tlearn: -0.0803145\ttotal: 57.5s\tremaining: 34.3s\n",
      "626:\tlearn: -0.0803046\ttotal: 57.5s\tremaining: 34.2s\n",
      "627:\tlearn: -0.0802921\ttotal: 57.6s\tremaining: 34.1s\n",
      "628:\tlearn: -0.0802763\ttotal: 57.7s\tremaining: 34s\n",
      "629:\tlearn: -0.0802650\ttotal: 57.8s\tremaining: 33.9s\n",
      "630:\tlearn: -0.0802510\ttotal: 57.9s\tremaining: 33.9s\n",
      "631:\tlearn: -0.0802423\ttotal: 58s\tremaining: 33.8s\n",
      "632:\tlearn: -0.0802147\ttotal: 58.1s\tremaining: 33.7s\n",
      "633:\tlearn: -0.0801939\ttotal: 58.2s\tremaining: 33.6s\n",
      "634:\tlearn: -0.0801728\ttotal: 58.2s\tremaining: 33.5s\n",
      "635:\tlearn: -0.0801626\ttotal: 58.3s\tremaining: 33.4s\n",
      "636:\tlearn: -0.0801472\ttotal: 58.4s\tremaining: 33.3s\n",
      "637:\tlearn: -0.0801352\ttotal: 58.5s\tremaining: 33.2s\n",
      "638:\tlearn: -0.0801204\ttotal: 58.6s\tremaining: 33.1s\n",
      "639:\tlearn: -0.0800849\ttotal: 58.7s\tremaining: 33s\n",
      "640:\tlearn: -0.0800691\ttotal: 58.8s\tremaining: 32.9s\n",
      "641:\tlearn: -0.0800550\ttotal: 58.9s\tremaining: 32.9s\n",
      "642:\tlearn: -0.0800341\ttotal: 59s\tremaining: 32.8s\n",
      "643:\tlearn: -0.0800146\ttotal: 59.1s\tremaining: 32.7s\n",
      "644:\tlearn: -0.0800066\ttotal: 59.2s\tremaining: 32.6s\n",
      "645:\tlearn: -0.0799906\ttotal: 59.3s\tremaining: 32.5s\n",
      "646:\tlearn: -0.0799788\ttotal: 59.4s\tremaining: 32.4s\n",
      "647:\tlearn: -0.0799622\ttotal: 59.5s\tremaining: 32.3s\n",
      "648:\tlearn: -0.0799411\ttotal: 59.6s\tremaining: 32.2s\n",
      "649:\tlearn: -0.0798983\ttotal: 59.7s\tremaining: 32.1s\n",
      "650:\tlearn: -0.0798899\ttotal: 59.8s\tremaining: 32s\n",
      "651:\tlearn: -0.0798680\ttotal: 59.9s\tremaining: 32s\n",
      "652:\tlearn: -0.0798415\ttotal: 60s\tremaining: 31.9s\n",
      "653:\tlearn: -0.0798248\ttotal: 1m\tremaining: 31.8s\n",
      "654:\tlearn: -0.0798129\ttotal: 1m\tremaining: 31.7s\n",
      "655:\tlearn: -0.0797998\ttotal: 1m\tremaining: 31.6s\n",
      "656:\tlearn: -0.0797761\ttotal: 1m\tremaining: 31.5s\n",
      "657:\tlearn: -0.0797472\ttotal: 1m\tremaining: 31.4s\n",
      "658:\tlearn: -0.0797381\ttotal: 1m\tremaining: 31.3s\n",
      "659:\tlearn: -0.0797191\ttotal: 1m\tremaining: 31.2s\n",
      "660:\tlearn: -0.0797123\ttotal: 1m\tremaining: 31.1s\n",
      "661:\tlearn: -0.0796816\ttotal: 1m\tremaining: 31s\n",
      "662:\tlearn: -0.0796638\ttotal: 1m\tremaining: 30.9s\n",
      "663:\tlearn: -0.0796367\ttotal: 1m\tremaining: 30.8s\n",
      "664:\tlearn: -0.0796130\ttotal: 1m 1s\tremaining: 30.7s\n",
      "665:\tlearn: -0.0795953\ttotal: 1m 1s\tremaining: 30.7s\n",
      "666:\tlearn: -0.0795868\ttotal: 1m 1s\tremaining: 30.6s\n",
      "667:\tlearn: -0.0795496\ttotal: 1m 1s\tremaining: 30.5s\n",
      "668:\tlearn: -0.0795380\ttotal: 1m 1s\tremaining: 30.4s\n",
      "669:\tlearn: -0.0795227\ttotal: 1m 1s\tremaining: 30.3s\n",
      "670:\tlearn: -0.0795151\ttotal: 1m 1s\tremaining: 30.2s\n",
      "671:\tlearn: -0.0795071\ttotal: 1m 1s\tremaining: 30.1s\n",
      "672:\tlearn: -0.0794899\ttotal: 1m 1s\tremaining: 30s\n",
      "673:\tlearn: -0.0794688\ttotal: 1m 1s\tremaining: 29.9s\n",
      "674:\tlearn: -0.0794591\ttotal: 1m 1s\tremaining: 29.8s\n",
      "675:\tlearn: -0.0794470\ttotal: 1m 1s\tremaining: 29.7s\n",
      "676:\tlearn: -0.0794386\ttotal: 1m 2s\tremaining: 29.6s\n",
      "677:\tlearn: -0.0794215\ttotal: 1m 2s\tremaining: 29.5s\n",
      "678:\tlearn: -0.0794138\ttotal: 1m 2s\tremaining: 29.4s\n",
      "679:\tlearn: -0.0793968\ttotal: 1m 2s\tremaining: 29.3s\n",
      "680:\tlearn: -0.0793794\ttotal: 1m 2s\tremaining: 29.2s\n",
      "681:\tlearn: -0.0793510\ttotal: 1m 2s\tremaining: 29.1s\n",
      "682:\tlearn: -0.0793432\ttotal: 1m 2s\tremaining: 29s\n",
      "683:\tlearn: -0.0793405\ttotal: 1m 2s\tremaining: 28.9s\n",
      "684:\tlearn: -0.0793270\ttotal: 1m 2s\tremaining: 28.9s\n",
      "685:\tlearn: -0.0793212\ttotal: 1m 2s\tremaining: 28.8s\n",
      "686:\tlearn: -0.0793008\ttotal: 1m 2s\tremaining: 28.7s\n",
      "687:\tlearn: -0.0792930\ttotal: 1m 3s\tremaining: 28.6s\n",
      "688:\tlearn: -0.0792745\ttotal: 1m 3s\tremaining: 28.5s\n",
      "689:\tlearn: -0.0792681\ttotal: 1m 3s\tremaining: 28.4s\n",
      "690:\tlearn: -0.0792602\ttotal: 1m 3s\tremaining: 28.3s\n",
      "691:\tlearn: -0.0792417\ttotal: 1m 3s\tremaining: 28.2s\n",
      "692:\tlearn: -0.0792304\ttotal: 1m 3s\tremaining: 28.1s\n",
      "693:\tlearn: -0.0792160\ttotal: 1m 3s\tremaining: 28s\n",
      "694:\tlearn: -0.0792116\ttotal: 1m 3s\tremaining: 28s\n",
      "695:\tlearn: -0.0791984\ttotal: 1m 3s\tremaining: 27.9s\n",
      "696:\tlearn: -0.0791754\ttotal: 1m 3s\tremaining: 27.8s\n",
      "697:\tlearn: -0.0791433\ttotal: 1m 3s\tremaining: 27.7s\n",
      "698:\tlearn: -0.0791286\ttotal: 1m 4s\tremaining: 27.6s\n",
      "699:\tlearn: -0.0791147\ttotal: 1m 4s\tremaining: 27.5s\n",
      "700:\tlearn: -0.0791059\ttotal: 1m 4s\tremaining: 27.4s\n",
      "701:\tlearn: -0.0790974\ttotal: 1m 4s\tremaining: 27.3s\n",
      "702:\tlearn: -0.0790844\ttotal: 1m 4s\tremaining: 27.2s\n",
      "703:\tlearn: -0.0790770\ttotal: 1m 4s\tremaining: 27.1s\n",
      "704:\tlearn: -0.0790689\ttotal: 1m 4s\tremaining: 27s\n",
      "705:\tlearn: -0.0790592\ttotal: 1m 4s\tremaining: 26.9s\n",
      "706:\tlearn: -0.0790395\ttotal: 1m 4s\tremaining: 26.9s\n",
      "707:\tlearn: -0.0790251\ttotal: 1m 4s\tremaining: 26.8s\n",
      "708:\tlearn: -0.0790010\ttotal: 1m 5s\tremaining: 26.7s\n",
      "709:\tlearn: -0.0789415\ttotal: 1m 5s\tremaining: 26.6s\n",
      "710:\tlearn: -0.0789153\ttotal: 1m 5s\tremaining: 26.5s\n",
      "711:\tlearn: -0.0789011\ttotal: 1m 5s\tremaining: 26.4s\n",
      "712:\tlearn: -0.0788956\ttotal: 1m 5s\tremaining: 26.3s\n",
      "713:\tlearn: -0.0788867\ttotal: 1m 5s\tremaining: 26.2s\n",
      "714:\tlearn: -0.0788552\ttotal: 1m 5s\tremaining: 26.2s\n",
      "715:\tlearn: -0.0788490\ttotal: 1m 5s\tremaining: 26.1s\n",
      "716:\tlearn: -0.0788393\ttotal: 1m 5s\tremaining: 26s\n",
      "717:\tlearn: -0.0788263\ttotal: 1m 5s\tremaining: 25.9s\n",
      "718:\tlearn: -0.0788208\ttotal: 1m 6s\tremaining: 25.8s\n",
      "719:\tlearn: -0.0788079\ttotal: 1m 6s\tremaining: 25.7s\n",
      "720:\tlearn: -0.0787941\ttotal: 1m 6s\tremaining: 25.6s\n",
      "721:\tlearn: -0.0787697\ttotal: 1m 6s\tremaining: 25.5s\n",
      "722:\tlearn: -0.0787605\ttotal: 1m 6s\tremaining: 25.5s\n",
      "723:\tlearn: -0.0787502\ttotal: 1m 6s\tremaining: 25.4s\n",
      "724:\tlearn: -0.0787294\ttotal: 1m 6s\tremaining: 25.3s\n",
      "725:\tlearn: -0.0787136\ttotal: 1m 6s\tremaining: 25.2s\n",
      "726:\tlearn: -0.0786975\ttotal: 1m 6s\tremaining: 25.1s\n",
      "727:\tlearn: -0.0786598\ttotal: 1m 6s\tremaining: 25s\n",
      "728:\tlearn: -0.0786551\ttotal: 1m 7s\tremaining: 24.9s\n",
      "729:\tlearn: -0.0786171\ttotal: 1m 7s\tremaining: 24.8s\n",
      "730:\tlearn: -0.0785975\ttotal: 1m 7s\tremaining: 24.8s\n",
      "731:\tlearn: -0.0785813\ttotal: 1m 7s\tremaining: 24.7s\n",
      "732:\tlearn: -0.0785577\ttotal: 1m 7s\tremaining: 24.6s\n",
      "733:\tlearn: -0.0785345\ttotal: 1m 7s\tremaining: 24.5s\n",
      "734:\tlearn: -0.0785288\ttotal: 1m 7s\tremaining: 24.4s\n",
      "735:\tlearn: -0.0785138\ttotal: 1m 7s\tremaining: 24.3s\n",
      "736:\tlearn: -0.0785109\ttotal: 1m 7s\tremaining: 24.2s\n",
      "737:\tlearn: -0.0784956\ttotal: 1m 7s\tremaining: 24.1s\n",
      "738:\tlearn: -0.0784725\ttotal: 1m 7s\tremaining: 24s\n",
      "739:\tlearn: -0.0784390\ttotal: 1m 8s\tremaining: 23.9s\n",
      "740:\tlearn: -0.0784184\ttotal: 1m 8s\tremaining: 23.8s\n",
      "741:\tlearn: -0.0784069\ttotal: 1m 8s\tremaining: 23.7s\n",
      "742:\tlearn: -0.0783917\ttotal: 1m 8s\tremaining: 23.6s\n",
      "743:\tlearn: -0.0783757\ttotal: 1m 8s\tremaining: 23.6s\n",
      "744:\tlearn: -0.0783569\ttotal: 1m 8s\tremaining: 23.5s\n",
      "745:\tlearn: -0.0783491\ttotal: 1m 8s\tremaining: 23.4s\n",
      "746:\tlearn: -0.0783352\ttotal: 1m 8s\tremaining: 23.3s\n",
      "747:\tlearn: -0.0783121\ttotal: 1m 8s\tremaining: 23.2s\n",
      "748:\tlearn: -0.0782900\ttotal: 1m 8s\tremaining: 23.1s\n",
      "749:\tlearn: -0.0782631\ttotal: 1m 8s\tremaining: 23s\n",
      "750:\tlearn: -0.0782229\ttotal: 1m 9s\tremaining: 22.9s\n",
      "751:\tlearn: -0.0781869\ttotal: 1m 9s\tremaining: 22.8s\n",
      "752:\tlearn: -0.0781721\ttotal: 1m 9s\tremaining: 22.7s\n",
      "753:\tlearn: -0.0781542\ttotal: 1m 9s\tremaining: 22.6s\n",
      "754:\tlearn: -0.0781438\ttotal: 1m 9s\tremaining: 22.5s\n",
      "755:\tlearn: -0.0781330\ttotal: 1m 9s\tremaining: 22.4s\n",
      "756:\tlearn: -0.0781260\ttotal: 1m 9s\tremaining: 22.4s\n",
      "757:\tlearn: -0.0780972\ttotal: 1m 9s\tremaining: 22.3s\n",
      "758:\tlearn: -0.0780822\ttotal: 1m 9s\tremaining: 22.2s\n",
      "759:\tlearn: -0.0780601\ttotal: 1m 9s\tremaining: 22.1s\n",
      "760:\tlearn: -0.0780483\ttotal: 1m 10s\tremaining: 22s\n",
      "761:\tlearn: -0.0780404\ttotal: 1m 10s\tremaining: 21.9s\n",
      "762:\tlearn: -0.0780198\ttotal: 1m 10s\tremaining: 21.8s\n",
      "763:\tlearn: -0.0779966\ttotal: 1m 10s\tremaining: 21.7s\n",
      "764:\tlearn: -0.0779821\ttotal: 1m 10s\tremaining: 21.6s\n",
      "765:\tlearn: -0.0779776\ttotal: 1m 10s\tremaining: 21.5s\n",
      "766:\tlearn: -0.0779619\ttotal: 1m 10s\tremaining: 21.4s\n",
      "767:\tlearn: -0.0779496\ttotal: 1m 10s\tremaining: 21.3s\n",
      "768:\tlearn: -0.0779409\ttotal: 1m 10s\tremaining: 21.2s\n",
      "769:\tlearn: -0.0779363\ttotal: 1m 10s\tremaining: 21.1s\n",
      "770:\tlearn: -0.0779262\ttotal: 1m 10s\tremaining: 21s\n",
      "771:\tlearn: -0.0779207\ttotal: 1m 10s\tremaining: 20.9s\n",
      "772:\tlearn: -0.0778945\ttotal: 1m 11s\tremaining: 20.9s\n",
      "773:\tlearn: -0.0778831\ttotal: 1m 11s\tremaining: 20.8s\n",
      "774:\tlearn: -0.0778733\ttotal: 1m 11s\tremaining: 20.7s\n",
      "775:\tlearn: -0.0778601\ttotal: 1m 11s\tremaining: 20.6s\n",
      "776:\tlearn: -0.0778501\ttotal: 1m 11s\tremaining: 20.5s\n",
      "777:\tlearn: -0.0778304\ttotal: 1m 11s\tremaining: 20.4s\n",
      "778:\tlearn: -0.0778205\ttotal: 1m 11s\tremaining: 20.3s\n",
      "779:\tlearn: -0.0778124\ttotal: 1m 11s\tremaining: 20.2s\n",
      "780:\tlearn: -0.0778022\ttotal: 1m 11s\tremaining: 20.1s\n",
      "781:\tlearn: -0.0777834\ttotal: 1m 11s\tremaining: 20s\n",
      "782:\tlearn: -0.0777771\ttotal: 1m 11s\tremaining: 19.9s\n",
      "783:\tlearn: -0.0777489\ttotal: 1m 11s\tremaining: 19.8s\n",
      "784:\tlearn: -0.0777393\ttotal: 1m 12s\tremaining: 19.7s\n",
      "785:\tlearn: -0.0777239\ttotal: 1m 12s\tremaining: 19.6s\n",
      "786:\tlearn: -0.0777060\ttotal: 1m 12s\tremaining: 19.5s\n",
      "787:\tlearn: -0.0777005\ttotal: 1m 12s\tremaining: 19.5s\n",
      "788:\tlearn: -0.0776884\ttotal: 1m 12s\tremaining: 19.4s\n",
      "789:\tlearn: -0.0776602\ttotal: 1m 12s\tremaining: 19.3s\n",
      "790:\tlearn: -0.0776333\ttotal: 1m 12s\tremaining: 19.2s\n",
      "791:\tlearn: -0.0776033\ttotal: 1m 12s\tremaining: 19.1s\n",
      "792:\tlearn: -0.0775741\ttotal: 1m 12s\tremaining: 19s\n",
      "793:\tlearn: -0.0775554\ttotal: 1m 12s\tremaining: 18.9s\n",
      "794:\tlearn: -0.0775500\ttotal: 1m 12s\tremaining: 18.8s\n",
      "795:\tlearn: -0.0775281\ttotal: 1m 13s\tremaining: 18.7s\n",
      "796:\tlearn: -0.0775187\ttotal: 1m 13s\tremaining: 18.6s\n",
      "797:\tlearn: -0.0775080\ttotal: 1m 13s\tremaining: 18.5s\n",
      "798:\tlearn: -0.0774906\ttotal: 1m 13s\tremaining: 18.4s\n",
      "799:\tlearn: -0.0774774\ttotal: 1m 13s\tremaining: 18.3s\n",
      "800:\tlearn: -0.0774394\ttotal: 1m 13s\tremaining: 18.3s\n",
      "801:\tlearn: -0.0774185\ttotal: 1m 13s\tremaining: 18.2s\n",
      "802:\tlearn: -0.0773911\ttotal: 1m 13s\tremaining: 18.1s\n",
      "803:\tlearn: -0.0773641\ttotal: 1m 13s\tremaining: 18s\n",
      "804:\tlearn: -0.0773564\ttotal: 1m 13s\tremaining: 17.9s\n",
      "805:\tlearn: -0.0773425\ttotal: 1m 13s\tremaining: 17.8s\n",
      "806:\tlearn: -0.0773309\ttotal: 1m 14s\tremaining: 17.7s\n",
      "807:\tlearn: -0.0773102\ttotal: 1m 14s\tremaining: 17.6s\n",
      "808:\tlearn: -0.0772978\ttotal: 1m 14s\tremaining: 17.5s\n",
      "809:\tlearn: -0.0772725\ttotal: 1m 14s\tremaining: 17.4s\n",
      "810:\tlearn: -0.0772673\ttotal: 1m 14s\tremaining: 17.3s\n",
      "811:\tlearn: -0.0772554\ttotal: 1m 14s\tremaining: 17.2s\n",
      "812:\tlearn: -0.0772406\ttotal: 1m 14s\tremaining: 17.2s\n",
      "813:\tlearn: -0.0772084\ttotal: 1m 14s\tremaining: 17.1s\n",
      "814:\tlearn: -0.0771946\ttotal: 1m 14s\tremaining: 17s\n",
      "815:\tlearn: -0.0771747\ttotal: 1m 14s\tremaining: 16.9s\n",
      "816:\tlearn: -0.0771614\ttotal: 1m 14s\tremaining: 16.8s\n",
      "817:\tlearn: -0.0771460\ttotal: 1m 15s\tremaining: 16.7s\n",
      "818:\tlearn: -0.0771289\ttotal: 1m 15s\tremaining: 16.6s\n",
      "819:\tlearn: -0.0771176\ttotal: 1m 15s\tremaining: 16.5s\n",
      "820:\tlearn: -0.0770938\ttotal: 1m 15s\tremaining: 16.4s\n",
      "821:\tlearn: -0.0770853\ttotal: 1m 15s\tremaining: 16.3s\n",
      "822:\tlearn: -0.0770798\ttotal: 1m 15s\tremaining: 16.2s\n",
      "823:\tlearn: -0.0770723\ttotal: 1m 15s\tremaining: 16.1s\n",
      "824:\tlearn: -0.0770589\ttotal: 1m 15s\tremaining: 16s\n",
      "825:\tlearn: -0.0770542\ttotal: 1m 15s\tremaining: 15.9s\n",
      "826:\tlearn: -0.0770416\ttotal: 1m 15s\tremaining: 15.9s\n",
      "827:\tlearn: -0.0770219\ttotal: 1m 15s\tremaining: 15.8s\n",
      "828:\tlearn: -0.0770122\ttotal: 1m 15s\tremaining: 15.7s\n",
      "829:\tlearn: -0.0770036\ttotal: 1m 16s\tremaining: 15.6s\n",
      "830:\tlearn: -0.0769977\ttotal: 1m 16s\tremaining: 15.5s\n",
      "831:\tlearn: -0.0769832\ttotal: 1m 16s\tremaining: 15.4s\n",
      "832:\tlearn: -0.0769735\ttotal: 1m 16s\tremaining: 15.3s\n",
      "833:\tlearn: -0.0769555\ttotal: 1m 16s\tremaining: 15.2s\n",
      "834:\tlearn: -0.0769372\ttotal: 1m 16s\tremaining: 15.1s\n",
      "835:\tlearn: -0.0769261\ttotal: 1m 16s\tremaining: 15s\n",
      "836:\tlearn: -0.0769095\ttotal: 1m 16s\tremaining: 14.9s\n",
      "837:\tlearn: -0.0768871\ttotal: 1m 16s\tremaining: 14.8s\n",
      "838:\tlearn: -0.0768818\ttotal: 1m 16s\tremaining: 14.7s\n",
      "839:\tlearn: -0.0768618\ttotal: 1m 16s\tremaining: 14.6s\n",
      "840:\tlearn: -0.0768493\ttotal: 1m 16s\tremaining: 14.6s\n",
      "841:\tlearn: -0.0768417\ttotal: 1m 17s\tremaining: 14.5s\n",
      "842:\tlearn: -0.0768326\ttotal: 1m 17s\tremaining: 14.4s\n",
      "843:\tlearn: -0.0768243\ttotal: 1m 17s\tremaining: 14.3s\n",
      "844:\tlearn: -0.0768100\ttotal: 1m 17s\tremaining: 14.2s\n",
      "845:\tlearn: -0.0767829\ttotal: 1m 17s\tremaining: 14.1s\n",
      "846:\tlearn: -0.0767720\ttotal: 1m 17s\tremaining: 14s\n",
      "847:\tlearn: -0.0767576\ttotal: 1m 17s\tremaining: 13.9s\n",
      "848:\tlearn: -0.0767446\ttotal: 1m 17s\tremaining: 13.8s\n",
      "849:\tlearn: -0.0767351\ttotal: 1m 17s\tremaining: 13.7s\n",
      "850:\tlearn: -0.0767256\ttotal: 1m 17s\tremaining: 13.6s\n",
      "851:\tlearn: -0.0767210\ttotal: 1m 17s\tremaining: 13.5s\n",
      "852:\tlearn: -0.0767002\ttotal: 1m 18s\tremaining: 13.5s\n",
      "853:\tlearn: -0.0766761\ttotal: 1m 18s\tremaining: 13.4s\n",
      "854:\tlearn: -0.0766622\ttotal: 1m 18s\tremaining: 13.3s\n",
      "855:\tlearn: -0.0766377\ttotal: 1m 18s\tremaining: 13.2s\n",
      "856:\tlearn: -0.0766099\ttotal: 1m 18s\tremaining: 13.1s\n",
      "857:\tlearn: -0.0765984\ttotal: 1m 18s\tremaining: 13s\n",
      "858:\tlearn: -0.0765927\ttotal: 1m 18s\tremaining: 12.9s\n",
      "859:\tlearn: -0.0765908\ttotal: 1m 18s\tremaining: 12.8s\n",
      "860:\tlearn: -0.0765653\ttotal: 1m 18s\tremaining: 12.7s\n",
      "861:\tlearn: -0.0765597\ttotal: 1m 18s\tremaining: 12.6s\n",
      "862:\tlearn: -0.0765405\ttotal: 1m 18s\tremaining: 12.5s\n",
      "863:\tlearn: -0.0765382\ttotal: 1m 18s\tremaining: 12.4s\n",
      "864:\tlearn: -0.0765188\ttotal: 1m 19s\tremaining: 12.3s\n",
      "865:\tlearn: -0.0765010\ttotal: 1m 19s\tremaining: 12.2s\n",
      "866:\tlearn: -0.0764858\ttotal: 1m 19s\tremaining: 12.2s\n",
      "867:\tlearn: -0.0764614\ttotal: 1m 19s\tremaining: 12.1s\n",
      "868:\tlearn: -0.0764400\ttotal: 1m 19s\tremaining: 12s\n",
      "869:\tlearn: -0.0764356\ttotal: 1m 19s\tremaining: 11.9s\n",
      "870:\tlearn: -0.0764249\ttotal: 1m 19s\tremaining: 11.8s\n",
      "871:\tlearn: -0.0764173\ttotal: 1m 19s\tremaining: 11.7s\n",
      "872:\tlearn: -0.0764110\ttotal: 1m 19s\tremaining: 11.6s\n",
      "873:\tlearn: -0.0763849\ttotal: 1m 19s\tremaining: 11.5s\n",
      "874:\tlearn: -0.0763751\ttotal: 1m 19s\tremaining: 11.4s\n",
      "875:\tlearn: -0.0763493\ttotal: 1m 19s\tremaining: 11.3s\n",
      "876:\tlearn: -0.0763443\ttotal: 1m 20s\tremaining: 11.2s\n",
      "877:\tlearn: -0.0763322\ttotal: 1m 20s\tremaining: 11.1s\n",
      "878:\tlearn: -0.0763181\ttotal: 1m 20s\tremaining: 11s\n",
      "879:\tlearn: -0.0762966\ttotal: 1m 20s\tremaining: 11s\n",
      "880:\tlearn: -0.0762757\ttotal: 1m 20s\tremaining: 10.9s\n",
      "881:\tlearn: -0.0762687\ttotal: 1m 20s\tremaining: 10.8s\n",
      "882:\tlearn: -0.0762577\ttotal: 1m 20s\tremaining: 10.7s\n",
      "883:\tlearn: -0.0762557\ttotal: 1m 20s\tremaining: 10.6s\n",
      "884:\tlearn: -0.0762412\ttotal: 1m 20s\tremaining: 10.5s\n",
      "885:\tlearn: -0.0762292\ttotal: 1m 20s\tremaining: 10.4s\n",
      "886:\tlearn: -0.0762244\ttotal: 1m 20s\tremaining: 10.3s\n",
      "887:\tlearn: -0.0762177\ttotal: 1m 21s\tremaining: 10.2s\n",
      "888:\tlearn: -0.0762056\ttotal: 1m 21s\tremaining: 10.1s\n",
      "889:\tlearn: -0.0761870\ttotal: 1m 21s\tremaining: 10s\n",
      "890:\tlearn: -0.0761811\ttotal: 1m 21s\tremaining: 9.94s\n",
      "891:\tlearn: -0.0761641\ttotal: 1m 21s\tremaining: 9.85s\n",
      "892:\tlearn: -0.0761277\ttotal: 1m 21s\tremaining: 9.76s\n",
      "893:\tlearn: -0.0761194\ttotal: 1m 21s\tremaining: 9.67s\n",
      "894:\tlearn: -0.0761074\ttotal: 1m 21s\tremaining: 9.58s\n",
      "895:\tlearn: -0.0760949\ttotal: 1m 21s\tremaining: 9.48s\n",
      "896:\tlearn: -0.0760498\ttotal: 1m 21s\tremaining: 9.39s\n",
      "897:\tlearn: -0.0760390\ttotal: 1m 21s\tremaining: 9.3s\n",
      "898:\tlearn: -0.0760280\ttotal: 1m 21s\tremaining: 9.21s\n",
      "899:\tlearn: -0.0760158\ttotal: 1m 22s\tremaining: 9.12s\n",
      "900:\tlearn: -0.0760072\ttotal: 1m 22s\tremaining: 9.03s\n",
      "901:\tlearn: -0.0760007\ttotal: 1m 22s\tremaining: 8.93s\n",
      "902:\tlearn: -0.0759937\ttotal: 1m 22s\tremaining: 8.84s\n",
      "903:\tlearn: -0.0759788\ttotal: 1m 22s\tremaining: 8.75s\n",
      "904:\tlearn: -0.0759654\ttotal: 1m 22s\tremaining: 8.66s\n",
      "905:\tlearn: -0.0759506\ttotal: 1m 22s\tremaining: 8.57s\n",
      "906:\tlearn: -0.0759451\ttotal: 1m 22s\tremaining: 8.48s\n",
      "907:\tlearn: -0.0759205\ttotal: 1m 22s\tremaining: 8.39s\n",
      "908:\tlearn: -0.0759120\ttotal: 1m 22s\tremaining: 8.29s\n",
      "909:\tlearn: -0.0759025\ttotal: 1m 22s\tremaining: 8.2s\n",
      "910:\tlearn: -0.0758960\ttotal: 1m 23s\tremaining: 8.11s\n",
      "911:\tlearn: -0.0758591\ttotal: 1m 23s\tremaining: 8.02s\n",
      "912:\tlearn: -0.0758451\ttotal: 1m 23s\tremaining: 7.93s\n",
      "913:\tlearn: -0.0758368\ttotal: 1m 23s\tremaining: 7.84s\n",
      "914:\tlearn: -0.0758343\ttotal: 1m 23s\tremaining: 7.74s\n",
      "915:\tlearn: -0.0758261\ttotal: 1m 23s\tremaining: 7.65s\n",
      "916:\tlearn: -0.0758204\ttotal: 1m 23s\tremaining: 7.56s\n",
      "917:\tlearn: -0.0758115\ttotal: 1m 23s\tremaining: 7.47s\n",
      "918:\tlearn: -0.0757972\ttotal: 1m 23s\tremaining: 7.38s\n",
      "919:\tlearn: -0.0757857\ttotal: 1m 23s\tremaining: 7.29s\n",
      "920:\tlearn: -0.0757785\ttotal: 1m 23s\tremaining: 7.2s\n",
      "921:\tlearn: -0.0757561\ttotal: 1m 23s\tremaining: 7.1s\n",
      "922:\tlearn: -0.0757428\ttotal: 1m 24s\tremaining: 7.01s\n",
      "923:\tlearn: -0.0757341\ttotal: 1m 24s\tremaining: 6.92s\n",
      "924:\tlearn: -0.0757256\ttotal: 1m 24s\tremaining: 6.83s\n",
      "925:\tlearn: -0.0757121\ttotal: 1m 24s\tremaining: 6.74s\n",
      "926:\tlearn: -0.0756936\ttotal: 1m 24s\tremaining: 6.65s\n",
      "927:\tlearn: -0.0756882\ttotal: 1m 24s\tremaining: 6.55s\n",
      "928:\tlearn: -0.0756840\ttotal: 1m 24s\tremaining: 6.46s\n",
      "929:\tlearn: -0.0756760\ttotal: 1m 24s\tremaining: 6.37s\n",
      "930:\tlearn: -0.0756688\ttotal: 1m 24s\tremaining: 6.28s\n",
      "931:\tlearn: -0.0756522\ttotal: 1m 24s\tremaining: 6.19s\n",
      "932:\tlearn: -0.0756394\ttotal: 1m 24s\tremaining: 6.1s\n",
      "933:\tlearn: -0.0756301\ttotal: 1m 25s\tremaining: 6.01s\n",
      "934:\tlearn: -0.0756236\ttotal: 1m 25s\tremaining: 5.92s\n",
      "935:\tlearn: -0.0756178\ttotal: 1m 25s\tremaining: 5.82s\n",
      "936:\tlearn: -0.0756139\ttotal: 1m 25s\tremaining: 5.73s\n",
      "937:\tlearn: -0.0756076\ttotal: 1m 25s\tremaining: 5.64s\n",
      "938:\tlearn: -0.0755936\ttotal: 1m 25s\tremaining: 5.55s\n",
      "939:\tlearn: -0.0755804\ttotal: 1m 25s\tremaining: 5.46s\n",
      "940:\tlearn: -0.0755626\ttotal: 1m 25s\tremaining: 5.37s\n",
      "941:\tlearn: -0.0755385\ttotal: 1m 25s\tremaining: 5.28s\n",
      "942:\tlearn: -0.0755122\ttotal: 1m 25s\tremaining: 5.18s\n",
      "943:\tlearn: -0.0754931\ttotal: 1m 25s\tremaining: 5.09s\n",
      "944:\tlearn: -0.0754863\ttotal: 1m 25s\tremaining: 5s\n",
      "945:\tlearn: -0.0754805\ttotal: 1m 26s\tremaining: 4.91s\n",
      "946:\tlearn: -0.0754732\ttotal: 1m 26s\tremaining: 4.82s\n",
      "947:\tlearn: -0.0754513\ttotal: 1m 26s\tremaining: 4.73s\n",
      "948:\tlearn: -0.0754197\ttotal: 1m 26s\tremaining: 4.64s\n",
      "949:\tlearn: -0.0754064\ttotal: 1m 26s\tremaining: 4.55s\n",
      "950:\tlearn: -0.0754024\ttotal: 1m 26s\tremaining: 4.46s\n",
      "951:\tlearn: -0.0753823\ttotal: 1m 26s\tremaining: 4.36s\n",
      "952:\tlearn: -0.0753728\ttotal: 1m 26s\tremaining: 4.27s\n",
      "953:\tlearn: -0.0753519\ttotal: 1m 26s\tremaining: 4.18s\n",
      "954:\tlearn: -0.0753391\ttotal: 1m 26s\tremaining: 4.09s\n",
      "955:\tlearn: -0.0753275\ttotal: 1m 26s\tremaining: 4s\n",
      "956:\tlearn: -0.0753171\ttotal: 1m 26s\tremaining: 3.91s\n",
      "957:\tlearn: -0.0752967\ttotal: 1m 27s\tremaining: 3.82s\n",
      "958:\tlearn: -0.0752868\ttotal: 1m 27s\tremaining: 3.73s\n",
      "959:\tlearn: -0.0752766\ttotal: 1m 27s\tremaining: 3.63s\n",
      "960:\tlearn: -0.0752571\ttotal: 1m 27s\tremaining: 3.54s\n",
      "961:\tlearn: -0.0752421\ttotal: 1m 27s\tremaining: 3.45s\n",
      "962:\tlearn: -0.0752005\ttotal: 1m 27s\tremaining: 3.36s\n",
      "963:\tlearn: -0.0751815\ttotal: 1m 27s\tremaining: 3.27s\n",
      "964:\tlearn: -0.0751658\ttotal: 1m 27s\tremaining: 3.18s\n",
      "965:\tlearn: -0.0751611\ttotal: 1m 27s\tremaining: 3.09s\n",
      "966:\tlearn: -0.0751561\ttotal: 1m 27s\tremaining: 3s\n",
      "967:\tlearn: -0.0751481\ttotal: 1m 27s\tremaining: 2.91s\n",
      "968:\tlearn: -0.0751409\ttotal: 1m 28s\tremaining: 2.82s\n",
      "969:\tlearn: -0.0751374\ttotal: 1m 28s\tremaining: 2.73s\n",
      "970:\tlearn: -0.0751277\ttotal: 1m 28s\tremaining: 2.63s\n",
      "971:\tlearn: -0.0751190\ttotal: 1m 28s\tremaining: 2.54s\n",
      "972:\tlearn: -0.0751157\ttotal: 1m 28s\tremaining: 2.45s\n",
      "973:\tlearn: -0.0751072\ttotal: 1m 28s\tremaining: 2.36s\n",
      "974:\tlearn: -0.0750997\ttotal: 1m 28s\tremaining: 2.27s\n",
      "975:\tlearn: -0.0750859\ttotal: 1m 28s\tremaining: 2.18s\n",
      "976:\tlearn: -0.0750796\ttotal: 1m 28s\tremaining: 2.09s\n",
      "977:\tlearn: -0.0750672\ttotal: 1m 28s\tremaining: 2s\n",
      "978:\tlearn: -0.0750509\ttotal: 1m 28s\tremaining: 1.91s\n",
      "979:\tlearn: -0.0750421\ttotal: 1m 29s\tremaining: 1.82s\n",
      "980:\tlearn: -0.0750126\ttotal: 1m 29s\tremaining: 1.73s\n",
      "981:\tlearn: -0.0749896\ttotal: 1m 29s\tremaining: 1.63s\n",
      "982:\tlearn: -0.0749580\ttotal: 1m 29s\tremaining: 1.54s\n",
      "983:\tlearn: -0.0749417\ttotal: 1m 29s\tremaining: 1.45s\n",
      "984:\tlearn: -0.0749265\ttotal: 1m 29s\tremaining: 1.36s\n",
      "985:\tlearn: -0.0748922\ttotal: 1m 29s\tremaining: 1.27s\n",
      "986:\tlearn: -0.0748828\ttotal: 1m 29s\tremaining: 1.18s\n",
      "987:\tlearn: -0.0748603\ttotal: 1m 29s\tremaining: 1.09s\n",
      "988:\tlearn: -0.0748550\ttotal: 1m 29s\tremaining: 999ms\n",
      "989:\tlearn: -0.0748508\ttotal: 1m 29s\tremaining: 908ms\n",
      "990:\tlearn: -0.0748482\ttotal: 1m 29s\tremaining: 817ms\n",
      "991:\tlearn: -0.0748411\ttotal: 1m 30s\tremaining: 726ms\n",
      "992:\tlearn: -0.0748301\ttotal: 1m 30s\tremaining: 636ms\n",
      "993:\tlearn: -0.0748106\ttotal: 1m 30s\tremaining: 545ms\n",
      "994:\tlearn: -0.0748011\ttotal: 1m 30s\tremaining: 454ms\n",
      "995:\tlearn: -0.0747893\ttotal: 1m 30s\tremaining: 363ms\n",
      "996:\tlearn: -0.0747732\ttotal: 1m 30s\tremaining: 272ms\n",
      "997:\tlearn: -0.0747534\ttotal: 1m 30s\tremaining: 182ms\n",
      "998:\tlearn: -0.0747420\ttotal: 1m 30s\tremaining: 90.8ms\n",
      "999:\tlearn: -0.0747217\ttotal: 1m 30s\tremaining: 0us\n"
     ]
    },
    {
     "data": {
      "text/plain": [
       "<catboost.core.CatBoostClassifier at 0x1ff5cae3ef0>"
      ]
     },
     "execution_count": 96,
     "metadata": {},
     "output_type": "execute_result"
    }
   ],
   "source": [
    "# Train \n",
    "model.fit(train_X, train_Y)"
   ]
  },
  {
   "cell_type": "code",
   "execution_count": 97,
   "metadata": {
    "collapsed": true
   },
   "outputs": [],
   "source": [
    "# Get predicted classes\n",
    "preds_y = model.predict(test_X)"
   ]
  },
  {
   "cell_type": "markdown",
   "metadata": {},
   "source": [
    "### Model Evaluation"
   ]
  },
  {
   "cell_type": "code",
   "execution_count": 172,
   "metadata": {
    "collapsed": false
   },
   "outputs": [
    {
     "data": {
      "text/plain": [
       "<Figure size 576x396 with 0 Axes>"
      ]
     },
     "metadata": {},
     "output_type": "display_data"
    },
    {
     "data": {
      "image/png": "[encoded data removed]",
      "text/plain": [
       "<Figure size 576x432 with 2 Axes>"
      ]
     },
     "metadata": {},
     "output_type": "display_data"
    }
   ],
   "source": [
    "#Print Confusion Matrix\n",
    "from sklearn.metrics import confusion_matrix, recall_score, precision_score, f1_score\n",
    "\n",
    "plt.figure()\n",
    "cm = confusion_matrix(test_Y, preds_y) \n",
    "labels = ['Stable and Popular', 'Hot', 'Everything else']\n",
    "plt.figure(figsize=(8,6))\n",
    "sns.heatmap(cm, xticklabels = labels, yticklabels = labels, annot = True, fmt='d', cmap=\"Blues\", vmin = 0.2);\n",
    "plt.title('Confusion Matrix')\n",
    "plt.ylabel('True Class')\n",
    "plt.xlabel('Predicted Class')\n",
    "plt.show()"
   ]
  },
  {
   "cell_type": "markdown",
   "metadata": {},
   "source": [
    "#### Precision , Recall and F1 score"
   ]
  },
  {
   "cell_type": "code",
   "execution_count": 182,
   "metadata": {
    "collapsed": false
   },
   "outputs": [
    {
     "name": "stdout",
     "output_type": "stream",
     "text": [
      "Recall: 0.9624\n"
     ]
    }
   ],
   "source": [
    "print(\"Recall: {0}\".format(round(recall_score(test_Y, preds_y, labels=[0, 1, 2], average='macro'),4)))"
   ]
  },
  {
   "cell_type": "code",
   "execution_count": 183,
   "metadata": {
    "collapsed": false
   },
   "outputs": [
    {
     "name": "stdout",
     "output_type": "stream",
     "text": [
      "Precision: 0.9618\n"
     ]
    }
   ],
   "source": [
    "print(\"Precision: {0}\".format(round(precision_score(test_Y, preds_y, labels=[0, 1, 2], average='macro'),4)))"
   ]
  },
  {
   "cell_type": "code",
   "execution_count": 184,
   "metadata": {
    "collapsed": false
   },
   "outputs": [
    {
     "name": "stdout",
     "output_type": "stream",
     "text": [
      "f1 score: 0.9621\n"
     ]
    }
   ],
   "source": [
    "print(\"f1 score: {0}\".format(round(f1_score(test_Y, preds_y, labels=[0, 1, 2], average='macro'),4)))"
   ]
  }
 ],
 "metadata": {
  "anaconda-cloud": {},
  "kernelspec": {
   "display_name": "Python [conda env:cs231n]",
   "language": "python",
   "name": "conda-env-cs231n-py"
  },
  "language_info": {
   "codemirror_mode": {
    "name": "ipython",
    "version": 3
   },
   "file_extension": ".py",
   "mimetype": "text/x-python",
   "name": "python",
   "nbconvert_exporter": "python",
   "pygments_lexer": "ipython3",
   "version": "3.6.6"
  }
 },
 "nbformat": 4,
 "nbformat_minor": 1
}
